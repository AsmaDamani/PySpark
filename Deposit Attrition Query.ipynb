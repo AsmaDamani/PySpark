{
  "nbformat": 4,
  "nbformat_minor": 0,
  "metadata": {
    "colab": {
      "name": "Untitled1.ipynb",
      "provenance": [],
      "authorship_tag": "ABX9TyNDndizwCVaTz0Aneulzr9v",
      "include_colab_link": true
    },
    "kernelspec": {
      "name": "python3",
      "display_name": "Python 3"
    }
  },
  "cells": [
    {
      "cell_type": "markdown",
      "metadata": {
        "id": "view-in-github",
        "colab_type": "text"
      },
      "source": [
        "<a href=\"https://colab.research.google.com/github/AsmaDamani/PySpark/blob/master/Deposit%20Attrition%20Query.ipynb\" target=\"_parent\"><img src=\"https://colab.research.google.com/assets/colab-badge.svg\" alt=\"Open In Colab\"/></a>"
      ]
    },
    {
      "cell_type": "code",
      "metadata": {
        "colab": {
          "base_uri": "https://localhost:8080/"
        },
        "id": "pRrPEQ_nTOsn",
        "outputId": "cb930d61-91af-456d-cd6a-16d9fdf87f95"
      },
      "source": [
        "!pip install pyspark"
      ],
      "execution_count": 1,
      "outputs": [
        {
          "output_type": "stream",
          "text": [
            "Requirement already satisfied: pyspark in /usr/local/lib/python3.6/dist-packages (3.0.1)\n",
            "Requirement already satisfied: py4j==0.10.9 in /usr/local/lib/python3.6/dist-packages (from pyspark) (0.10.9)\n"
          ],
          "name": "stdout"
        }
      ]
    },
    {
      "cell_type": "code",
      "metadata": {
        "id": "XK57DrNdV1n9"
      },
      "source": [
        "from pyspark.sql import SparkSession\n",
        "spark = SparkSession \\\n",
        " .builder \\\n",
        " .appName(\"Python Spark SQL basic example\") \\\n",
        " .config(\"spark.some.config.option\", \"some-value\") \\\n",
        " .getOrCreate()"
      ],
      "execution_count": 2,
      "outputs": []
    },
    {
      "cell_type": "code",
      "metadata": {
        "id": "a19DhE1eWHh3"
      },
      "source": [
        "data = spark.read.csv('refine_zone_table_sample.csv',inferSchema= True, header = True)"
      ],
      "execution_count": 11,
      "outputs": []
    },
    {
      "cell_type": "code",
      "metadata": {
        "id": "33I1Sl7LWaH4",
        "outputId": "f43b5741-75f2-4b36-de77-f4e5a965ac7b",
        "colab": {
          "base_uri": "https://localhost:8080/"
        }
      },
      "source": [
        "data.show()"
      ],
      "execution_count": 12,
      "outputs": [
        {
          "output_type": "stream",
          "text": [
            "+----+------+----+------+-----+------+------+------+------+------+------+------+------+------+-------+-------+------+-------+------+------+------+------+------+------+------+------+------+------+------+------+------+------+------+------+----------+\n",
            "|srab|  sran|sras|srsbtp|srsmo|srbp01|srbp02|srbp03|srbp04|srbp05|srbp06|srbp07|srbp08|srbp09| srbp10| srbp11|srbp12| srbptd|srbpml|srnd01|srnd02|srnd03|srnd04|srnd05|srnd06|srnd07|srnd08|srnd09|srnd10|srnd11|srnd12|srndtd|srndml|etl_id|  eod_date|\n",
            "+----+------+----+------+-----+------+------+------+------+------+------+------+------+------+-------+-------+------+-------+------+------+------+------+------+------+------+------+------+------+------+------+------+------+------+------+----------+\n",
            "|2389|CILJ4M|   1|     D|    P|     0|     0|     0|     0|     0|     0|     0|     0|     0|      0|      0|     0|      0|     0|     0|     0|     0|     0|     0|     0|     0|     0|     0|     0|     0|     0|     0|     0|     1|11/30/2020|\n",
            "|2389|CILJ4M|   1|     D|    P|     0|     0|     0|     0|     0|     0|     0|     0|     0|      0|      0|     0|      0|     0|     0|     0|     0|     0|     0|     0|     0|     0|     0|     0|     0|     0|     0|     0|     1|11/28/2020|\n",
            "|2389|CILJ4M|   1|     D|    P|     0|     0|     0|     0|     0|     0|     0|     0|     0|      0|      0|     0|      0|     0|     0|     0|     0|     0|     0|     0|     0|     0|     0|     0|     0|     0|     0|     0|     1| 12/1/2020|\n",
            "|2389|CILJ4M|   1|     C|    P|     0|     0|     0|     0|     0|     0|     0|     0|     0|1694900|      0|     0|4548100|     0|     0|     0|     0|     0|     0|     0|     0|     0|     0|    31|     0|     0|    29|     0|     1|11/28/2020|\n",
            "|2389|CILJ4M|   1|     C|    P|     0|     0|     0|     0|     0|     0|     0|     0|     0|1694900|4704600|     0|      0|     0|     0|     0|     0|     0|     0|     0|     0|     0|     0|    31|    30|     0|     0|     0|     1|11/30/2020|\n",
            "|2389|CILJ4M|   1|     C|    P|     0|     0|     0|     0|     0|     0|     0|     0|     0|1694900|4704600|     0|9006800|     0|     0|     0|     0|     0|     0|     0|     0|     0|     0|    31|    30|     0|     1|     0|     1| 12/1/2020|\n",
            "+----+------+----+------+-----+------+------+------+------+------+------+------+------+------+-------+-------+------+-------+------+------+------+------+------+------+------+------+------+------+------+------+------+------+------+------+----------+\n",
            "\n"
          ],
          "name": "stdout"
        }
      ]
    },
    {
      "cell_type": "code",
      "metadata": {
        "id": "zN4JnbQtWjJ3"
      },
      "source": [
        "data.registerTempTable(\"data\")"
      ],
      "execution_count": 13,
      "outputs": []
    },
    {
      "cell_type": "code",
      "metadata": {
        "id": "tGKS80UMXlh7"
      },
      "source": [
        "from pyspark.sql import SQLContext\n",
        "sc = spark.sparkContext\n",
        "sqlContext = SQLContext(sc)"
      ],
      "execution_count": 14,
      "outputs": []
    },
    {
      "cell_type": "code",
      "metadata": {
        "id": "-FQVWMb4W_lx",
        "outputId": "9c5424dd-1dca-49fd-b67c-41d3734920e9",
        "colab": {
          "base_uri": "https://localhost:8080/"
        }
      },
      "source": [
        "sqlContext.sql('select * from data').show()"
      ],
      "execution_count": 15,
      "outputs": [
        {
          "output_type": "stream",
          "text": [
            "+----+------+----+------+-----+------+------+------+------+------+------+------+------+------+-------+-------+------+-------+------+------+------+------+------+------+------+------+------+------+------+------+------+------+------+------+----------+\n",
            "|srab|  sran|sras|srsbtp|srsmo|srbp01|srbp02|srbp03|srbp04|srbp05|srbp06|srbp07|srbp08|srbp09| srbp10| srbp11|srbp12| srbptd|srbpml|srnd01|srnd02|srnd03|srnd04|srnd05|srnd06|srnd07|srnd08|srnd09|srnd10|srnd11|srnd12|srndtd|srndml|etl_id|  eod_date|\n",
            "+----+------+----+------+-----+------+------+------+------+------+------+------+------+------+-------+-------+------+-------+------+------+------+------+------+------+------+------+------+------+------+------+------+------+------+------+----------+\n",
            "|2389|CILJ4M|   1|     D|    P|     0|     0|     0|     0|     0|     0|     0|     0|     0|      0|      0|     0|      0|     0|     0|     0|     0|     0|     0|     0|     0|     0|     0|     0|     0|     0|     0|     0|     1|11/30/2020|\n",
            "|2389|CILJ4M|   1|     D|    P|     0|     0|     0|     0|     0|     0|     0|     0|     0|      0|      0|     0|      0|     0|     0|     0|     0|     0|     0|     0|     0|     0|     0|     0|     0|     0|     0|     0|     1|11/28/2020|\n",
            "|2389|CILJ4M|   1|     D|    P|     0|     0|     0|     0|     0|     0|     0|     0|     0|      0|      0|     0|      0|     0|     0|     0|     0|     0|     0|     0|     0|     0|     0|     0|     0|     0|     0|     0|     1| 12/1/2020|\n",
            "|2389|CILJ4M|   1|     C|    P|     0|     0|     0|     0|     0|     0|     0|     0|     0|1694900|      0|     0|4548100|     0|     0|     0|     0|     0|     0|     0|     0|     0|     0|    31|     0|     0|    29|     0|     1|11/28/2020|\n",
            "|2389|CILJ4M|   1|     C|    P|     0|     0|     0|     0|     0|     0|     0|     0|     0|1694900|4704600|     0|      0|     0|     0|     0|     0|     0|     0|     0|     0|     0|     0|    31|    30|     0|     0|     0|     1|11/30/2020|\n",
            "|2389|CILJ4M|   1|     C|    P|     0|     0|     0|     0|     0|     0|     0|     0|     0|1694900|4704600|     0|9006800|     0|     0|     0|     0|     0|     0|     0|     0|     0|     0|    31|    30|     0|     1|     0|     1| 12/1/2020|\n",
            "+----+------+----+------+-----+------+------+------+------+------+------+------+------+------+-------+-------+------+-------+------+------+------+------+------+------+------+------+------+------+------+------+------+------+------+------+----------+\n",
            "\n"
          ],
          "name": "stdout"
        }
      ]
    },
    {
      "cell_type": "code",
      "metadata": {
        "id": "1E5y1CNMgTOS",
        "outputId": "4b5cc121-c60c-4599-9488-67d0b09a81ae",
        "colab": {
          "base_uri": "https://localhost:8080/"
        }
      },
      "source": [
        "sqlContext.sql('SELECT d.*, ROW_NUMBER() OVER (PARTITION BY srab,srsbtp ORDER BY eod_date DESC) AS rn\\\n",
        "  FROM data AS d').show()"
      ],
      "execution_count": 21,
      "outputs": [
        {
          "output_type": "stream",
          "text": [
            "+----+------+----+------+-----+------+------+------+------+------+------+------+------+------+-------+-------+------+-------+------+------+------+------+------+------+------+------+------+------+------+------+------+------+------+------+----------+---+\n",
            "|srab|  sran|sras|srsbtp|srsmo|srbp01|srbp02|srbp03|srbp04|srbp05|srbp06|srbp07|srbp08|srbp09| srbp10| srbp11|srbp12| srbptd|srbpml|srnd01|srnd02|srnd03|srnd04|srnd05|srnd06|srnd07|srnd08|srnd09|srnd10|srnd11|srnd12|srndtd|srndml|etl_id|  eod_date| rn|\n",
            "+----+------+----+------+-----+------+------+------+------+------+------+------+------+------+-------+-------+------+-------+------+------+------+------+------+------+------+------+------+------+------+------+------+------+------+------+----------+---+\n",
            "|2389|CILJ4M|   1|     D|    P|     0|     0|     0|     0|     0|     0|     0|     0|     0|      0|      0|     0|      0|     0|     0|     0|     0|     0|     0|     0|     0|     0|     0|     0|     0|     0|     0|     0|     1| 12/1/2020|  1|\n",
            "|2389|CILJ4M|   1|     D|    P|     0|     0|     0|     0|     0|     0|     0|     0|     0|      0|      0|     0|      0|     0|     0|     0|     0|     0|     0|     0|     0|     0|     0|     0|     0|     0|     0|     0|     1|11/30/2020|  2|\n",
            "|2389|CILJ4M|   1|     D|    P|     0|     0|     0|     0|     0|     0|     0|     0|     0|      0|      0|     0|      0|     0|     0|     0|     0|     0|     0|     0|     0|     0|     0|     0|     0|     0|     0|     0|     1|11/28/2020|  3|\n",
            "|2389|CILJ4M|   1|     C|    P|     0|     0|     0|     0|     0|     0|     0|     0|     0|1694900|4704600|     0|9006800|     0|     0|     0|     0|     0|     0|     0|     0|     0|     0|    31|    30|     0|     1|     0|     1| 12/1/2020|  1|\n",
            "|2389|CILJ4M|   1|     C|    P|     0|     0|     0|     0|     0|     0|     0|     0|     0|1694900|4704600|     0|      0|     0|     0|     0|     0|     0|     0|     0|     0|     0|     0|    31|    30|     0|     0|     0|     1|11/30/2020|  2|\n",
            "|2389|CILJ4M|   1|     C|    P|     0|     0|     0|     0|     0|     0|     0|     0|     0|1694900|      0|     0|4548100|     0|     0|     0|     0|     0|     0|     0|     0|     0|     0|    31|     0|     0|    29|     0|     1|11/28/2020|  3|\n",
            "+----+------+----+------+-----+------+------+------+------+------+------+------+------+------+-------+-------+------+-------+------+------+------+------+------+------+------+------+------+------+------+------+------+------+------+------+----------+---+\n",
            "\n"
          ],
          "name": "stdout"
        }
      ]
    },
    {
      "cell_type": "code",
      "metadata": {
        "id": "QeJcAkBxdnoN",
        "outputId": "70de1663-8b39-4ff7-cb5d-8006b5474ed7",
        "colab": {
          "base_uri": "https://localhost:8080/"
        }
      },
      "source": [
        "sqlContext.sql('WITH ranked_messages AS (\\\n",
        "  SELECT d.*, ROW_NUMBER() OVER (PARTITION BY srab,srsbtp ORDER BY eod_date DESC) AS rn\\\n",
        "  FROM data AS d\\\n",
        ")\\\n",
        "SELECT srab, srsbtp, srbp01, srbp02, srbp03, srbp04, srbp05, srbp06, srbp07, srbp08, srbp09, srbp10, srbp11, srbp12 \\\n",
        "srnd01, srnd02, srnd03, srnd04, srnd05, srnd06, srnd07, srnd08, srnd09, srnd10, srnd11, srnd12 \\\n",
        " FROM ranked_messages WHERE rn = 1').show()"
      ],
      "execution_count": 22,
      "outputs": [
        {
          "output_type": "stream",
          "text": [
            "+----+------+------+------+------+------+------+------+------+------+------+-------+-------+------+------+------+------+------+------+------+------+------+------+------+------+\n",
            "|srab|srsbtp|srbp01|srbp02|srbp03|srbp04|srbp05|srbp06|srbp07|srbp08|srbp09| srbp10| srbp11|srnd01|srnd02|srnd03|srnd04|srnd05|srnd06|srnd07|srnd08|srnd09|srnd10|srnd11|srnd12|\n",
            "+----+------+------+------+------+------+------+------+------+------+------+-------+-------+------+------+------+------+------+------+------+------+------+------+------+------+\n",
            "|2389|     D|     0|     0|     0|     0|     0|     0|     0|     0|     0|      0|      0|     0|     0|     0|     0|     0|     0|     0|     0|     0|     0|     0|     0|\n",
            "|2389|     C|     0|     0|     0|     0|     0|     0|     0|     0|     0|1694900|4704600|     0|     0|     0|     0|     0|     0|     0|     0|     0|    31|    30|     0|\n",
            "+----+------+------+------+------+------+------+------+------+------+------+-------+-------+------+------+------+------+------+------+------+------+------+------+------+------+\n",
            "\n"
          ],
          "name": "stdout"
        }
      ]
    },
    {
      "cell_type": "code",
      "metadata": {
        "id": "KKw3yjlrqy7M",
        "outputId": "ed9ad176-45f4-412b-f668-d98681d40d71",
        "colab": {
          "base_uri": "https://localhost:8080/"
        }
      },
      "source": [
        "sqlContext.sql('WITH ranked_messages AS (\\\n",
        "  SELECT d.*, ROW_NUMBER() OVER (PARTITION BY srab,srsbtp ORDER BY eod_date DESC) AS rn\\\n",
        "  FROM data AS d\\\n",
        ")\\\n",
        "SELECT srab, srsbtp, srbp01/srnd01 as avgm1, srbp02/srnd02 as avgm2, srbp03/srnd03 as avgm3, srbp04/srnd04 as avgm4, srbp05/srnd05 as avgm4, srbp06/srnd06 as avgm6, \\\n",
        "srbp07/srnd07 as avgm7, srbp08/srnd08 as avgm8, srbp09/srnd09 as avgm9, srbp10/srnd10 as avgm10, srbp11/srnd11 as avgm11, srbp12/srnd12 as avgm12 \\\n",
        " FROM ranked_messages WHERE rn = 1').show()"
      ],
      "execution_count": 27,
      "outputs": [
        {
          "output_type": "stream",
          "text": [
            "+----+------+-----+-----+-----+-----+-----+-----+-----+-----+-----+----------------+--------+------+\n",
            "|srab|srsbtp|avgm1|avgm2|avgm3|avgm4|avgm4|avgm6|avgm7|avgm8|avgm9|          avgm10|  avgm11|avgm12|\n",
            "+----+------+-----+-----+-----+-----+-----+-----+-----+-----+-----+----------------+--------+------+\n",
            "|2389|     D| null| null| null| null| null| null| null| null| null|            null|    null|  null|\n",
            "|2389|     C| null| null| null| null| null| null| null| null| null|54674.1935483871|156820.0|  null|\n",
            "+----+------+-----+-----+-----+-----+-----+-----+-----+-----+-----+----------------+--------+------+\n",
            "\n"
          ],
          "name": "stdout"
        }
      ]
    },
    {
      "cell_type": "code",
      "metadata": {
        "id": "WDiz1C6kucH0"
      },
      "source": [
        "df = sqlContext.sql('WITH ranked_messages AS (\\\n",
        "  SELECT d.*, ROW_NUMBER() OVER (PARTITION BY srab,srsbtp ORDER BY eod_date DESC) AS rn\\\n",
        "  FROM data AS d\\\n",
        ")\\\n",
        "SELECT srab, srsbtp, srbp01/srnd01 as avgm1, srbp02/srnd02 as avgm2, srbp03/srnd03 as avgm3, srbp04/srnd04 as avgm4, srbp05/srnd05 as avgm4, srbp06/srnd06 as avgm6, \\\n",
        "srbp07/srnd07 as avgm7, srbp08/srnd08 as avgm8, srbp09/srnd09 as avgm9, srbp10/srnd10 as avgm10, srbp11/srnd11 as avgm11, srbp12/srnd12 as avgm12 \\\n",
        " FROM ranked_messages WHERE rn = 1').persist()"
      ],
      "execution_count": 29,
      "outputs": []
    },
    {
      "cell_type": "code",
      "metadata": {
        "id": "Cj84CtoqulUE",
        "outputId": "465b37b1-5f4f-44f5-bf20-a8af0b512b07",
        "colab": {
          "base_uri": "https://localhost:8080/"
        }
      },
      "source": [
        "df.show()"
      ],
      "execution_count": 30,
      "outputs": [
        {
          "output_type": "stream",
          "text": [
            "+----+------+-----+-----+-----+-----+-----+-----+-----+-----+-----+----------------+--------+------+\n",
            "|srab|srsbtp|avgm1|avgm2|avgm3|avgm4|avgm4|avgm6|avgm7|avgm8|avgm9|          avgm10|  avgm11|avgm12|\n",
            "+----+------+-----+-----+-----+-----+-----+-----+-----+-----+-----+----------------+--------+------+\n",
            "|2389|     D| null| null| null| null| null| null| null| null| null|            null|    null|  null|\n",
            "|2389|     C| null| null| null| null| null| null| null| null| null|54674.1935483871|156820.0|  null|\n",
            "+----+------+-----+-----+-----+-----+-----+-----+-----+-----+-----+----------------+--------+------+\n",
            "\n"
          ],
          "name": "stdout"
        }
      ]
    },
    {
      "cell_type": "code",
      "metadata": {
        "id": "-5KwwKM0wLhy"
      },
      "source": [
        "from pyspark.sql.functions import *\n",
        "from pyspark.sql import *\n",
        "from pyspark.sql.types import *"
      ],
      "execution_count": 35,
      "outputs": []
    },
    {
      "cell_type": "code",
      "metadata": {
        "id": "Ob0JK2xXvs4b",
        "outputId": "d1a9c19b-73cc-4b71-f374-c13128c1a52f",
        "colab": {
          "base_uri": "https://localhost:8080/",
          "height": 626
        }
      },
      "source": [
        "df.groupBy().pivot(\"srsbtp\").agg(first(\"avg10\")).show()\n"
      ],
      "execution_count": 36,
      "outputs": [
        {
          "output_type": "error",
          "ename": "AnalysisException",
          "evalue": "ignored",
          "traceback": [
            "\u001b[0;31m---------------------------------------------------------------------------\u001b[0m",
            "\u001b[0;31mAnalysisException\u001b[0m                         Traceback (most recent call last)",
            "\u001b[0;32m<ipython-input-36-4b3d07cfc0a7>\u001b[0m in \u001b[0;36m<module>\u001b[0;34m()\u001b[0m\n\u001b[0;32m----> 1\u001b[0;31m \u001b[0mdf\u001b[0m\u001b[0;34m.\u001b[0m\u001b[0mgroupBy\u001b[0m\u001b[0;34m(\u001b[0m\u001b[0;34m)\u001b[0m\u001b[0;34m.\u001b[0m\u001b[0mpivot\u001b[0m\u001b[0;34m(\u001b[0m\u001b[0;34m\"srsbtp\"\u001b[0m\u001b[0;34m)\u001b[0m\u001b[0;34m.\u001b[0m\u001b[0magg\u001b[0m\u001b[0;34m(\u001b[0m\u001b[0mfirst\u001b[0m\u001b[0;34m(\u001b[0m\u001b[0;34m\"avg10\"\u001b[0m\u001b[0;34m)\u001b[0m\u001b[0;34m)\u001b[0m\u001b[0;34m.\u001b[0m\u001b[0mshow\u001b[0m\u001b[0;34m(\u001b[0m\u001b[0;34m)\u001b[0m\u001b[0;34m\u001b[0m\u001b[0;34m\u001b[0m\u001b[0m\n\u001b[0m",
            "\u001b[0;32m/usr/local/lib/python3.6/dist-packages/pyspark/sql/group.py\u001b[0m in \u001b[0;36magg\u001b[0;34m(self, *exprs)\u001b[0m\n\u001b[1;32m    112\u001b[0m             \u001b[0;32massert\u001b[0m \u001b[0mall\u001b[0m\u001b[0;34m(\u001b[0m\u001b[0misinstance\u001b[0m\u001b[0;34m(\u001b[0m\u001b[0mc\u001b[0m\u001b[0;34m,\u001b[0m \u001b[0mColumn\u001b[0m\u001b[0;34m)\u001b[0m \u001b[0;32mfor\u001b[0m \u001b[0mc\u001b[0m \u001b[0;32min\u001b[0m \u001b[0mexprs\u001b[0m\u001b[0;34m)\u001b[0m\u001b[0;34m,\u001b[0m \u001b[0;34m\"all exprs should be Column\"\u001b[0m\u001b[0;34m\u001b[0m\u001b[0;34m\u001b[0m\u001b[0m\n\u001b[1;32m    113\u001b[0m             jdf = self._jgd.agg(exprs[0]._jc,\n\u001b[0;32m--> 114\u001b[0;31m                                 _to_seq(self.sql_ctx._sc, [c._jc for c in exprs[1:]]))\n\u001b[0m\u001b[1;32m    115\u001b[0m         \u001b[0;32mreturn\u001b[0m \u001b[0mDataFrame\u001b[0m\u001b[0;34m(\u001b[0m\u001b[0mjdf\u001b[0m\u001b[0;34m,\u001b[0m \u001b[0mself\u001b[0m\u001b[0;34m.\u001b[0m\u001b[0msql_ctx\u001b[0m\u001b[0;34m)\u001b[0m\u001b[0;34m\u001b[0m\u001b[0;34m\u001b[0m\u001b[0m\n\u001b[1;32m    116\u001b[0m \u001b[0;34m\u001b[0m\u001b[0m\n",
            "\u001b[0;32m/usr/local/lib/python3.6/dist-packages/py4j/java_gateway.py\u001b[0m in \u001b[0;36m__call__\u001b[0;34m(self, *args)\u001b[0m\n\u001b[1;32m   1303\u001b[0m         \u001b[0manswer\u001b[0m \u001b[0;34m=\u001b[0m \u001b[0mself\u001b[0m\u001b[0;34m.\u001b[0m\u001b[0mgateway_client\u001b[0m\u001b[0;34m.\u001b[0m\u001b[0msend_command\u001b[0m\u001b[0;34m(\u001b[0m\u001b[0mcommand\u001b[0m\u001b[0;34m)\u001b[0m\u001b[0;34m\u001b[0m\u001b[0;34m\u001b[0m\u001b[0m\n\u001b[1;32m   1304\u001b[0m         return_value = get_return_value(\n\u001b[0;32m-> 1305\u001b[0;31m             answer, self.gateway_client, self.target_id, self.name)\n\u001b[0m\u001b[1;32m   1306\u001b[0m \u001b[0;34m\u001b[0m\u001b[0m\n\u001b[1;32m   1307\u001b[0m         \u001b[0;32mfor\u001b[0m \u001b[0mtemp_arg\u001b[0m \u001b[0;32min\u001b[0m \u001b[0mtemp_args\u001b[0m\u001b[0;34m:\u001b[0m\u001b[0;34m\u001b[0m\u001b[0;34m\u001b[0m\u001b[0m\n",
            "\u001b[0;32m/usr/local/lib/python3.6/dist-packages/pyspark/sql/utils.py\u001b[0m in \u001b[0;36mdeco\u001b[0;34m(*a, **kw)\u001b[0m\n\u001b[1;32m    132\u001b[0m                 \u001b[0;31m# Hide where the exception came from that shows a non-Pythonic\u001b[0m\u001b[0;34m\u001b[0m\u001b[0;34m\u001b[0m\u001b[0;34m\u001b[0m\u001b[0m\n\u001b[1;32m    133\u001b[0m                 \u001b[0;31m# JVM exception message.\u001b[0m\u001b[0;34m\u001b[0m\u001b[0;34m\u001b[0m\u001b[0;34m\u001b[0m\u001b[0m\n\u001b[0;32m--> 134\u001b[0;31m                 \u001b[0mraise_from\u001b[0m\u001b[0;34m(\u001b[0m\u001b[0mconverted\u001b[0m\u001b[0;34m)\u001b[0m\u001b[0;34m\u001b[0m\u001b[0;34m\u001b[0m\u001b[0m\n\u001b[0m\u001b[1;32m    135\u001b[0m             \u001b[0;32melse\u001b[0m\u001b[0;34m:\u001b[0m\u001b[0;34m\u001b[0m\u001b[0;34m\u001b[0m\u001b[0m\n\u001b[1;32m    136\u001b[0m                 \u001b[0;32mraise\u001b[0m\u001b[0;34m\u001b[0m\u001b[0;34m\u001b[0m\u001b[0m\n",
            "\u001b[0;32m/usr/local/lib/python3.6/dist-packages/pyspark/sql/utils.py\u001b[0m in \u001b[0;36mraise_from\u001b[0;34m(e)\u001b[0m\n",
            "\u001b[0;31mAnalysisException\u001b[0m: cannot resolve '`avg10`' given input columns: [avgm1, avgm10, avgm11, avgm12, avgm2, avgm3, avgm4, avgm4, avgm6, avgm7, avgm8, avgm9, ranked_messages.srab, ranked_messages.srsbtp];;\n'Pivot ArrayBuffer(), srsbtp#1139: string, [C, D], [first('avg10, false)]\n+- Project [srab#1136, srsbtp#1139, (cast(srbp01#1141 as double) / cast(srnd01#1155 as double)) AS avgm1#3686, (cast(srbp02#1142 as double) / cast(srnd02#1156 as double)) AS avgm2#3687, (cast(srbp03#1143 as double) / cast(srnd03#1157 as double)) AS avgm3#3688, (cast(srbp04#1144 as double) / cast(srnd04#1158 as double)) AS avgm4#3689, (cast(srbp05#1145 as double) / cast(srnd05#1159 as double)) AS avgm4#3690, (cast(srbp06#1146 as double) / cast(srnd06#1160 as double)) AS avgm6#3691, (cast(srbp07#1147 as double) / cast(srnd07#1161 as double)) AS avgm7#3692, (cast(srbp08#1148 as double) / cast(srnd08#1162 as double)) AS avgm8#3693, (cast(srbp09#1149 as double) / cast(srnd09#1163 as double)) AS avgm9#3694, (cast(srbp10#1150 as double) / cast(srnd10#1164 as double)) AS avgm10#3695, (cast(srbp11#1151 as double) / cast(srnd11#1165 as double)) AS avgm11#3696, (cast(srbp12#1152 as double) / cast(srnd12#1166 as double)) AS avgm12#3697]\n   +- Filter (rn#3698 = 1)\n      +- SubqueryAlias ranked_messages\n         +- Project [srab#1136, sran#1137, sras#1138, srsbtp#1139, srsmo#1140, srbp01#1141, srbp02#1142, srbp03#1143, srbp04#1144, srbp05#1145, srbp06#1146, srbp07#1147, srbp08#1148, srbp09#1149, srbp10#1150, srbp11#1151, srbp12#1152, srbptd#1153, srbpml#1154, srnd01#1155, srnd02#1156, srnd03#1157, srnd04#1158, srnd05#1159, ... 12 more fields]\n            +- Project [srab#1136, sran#1137, sras#1138, srsbtp#1139, srsmo#1140, srbp01#1141, srbp02#1142, srbp03#1143, srbp04#1144, srbp05#1145, srbp06#1146, srbp07#1147, srbp08#1148, srbp09#1149, srbp10#1150, srbp11#1151, srbp12#1152, srbptd#1153, srbpml#1154, srnd01#1155, srnd02#1156, srnd03#1157, srnd04#1158, srnd05#1159, ... 13 more fields]\n               +- Window [row_number() windowspecdefinition(srab#1136, srsbtp#1139, eod_date#1170 DESC NULLS LAST, specifiedwindowframe(RowFrame, unboundedpreceding$(), currentrow$())) AS rn#3698], [srab#1136, srsbtp#1139], [eod_date#1170 DESC NULLS LAST]\n                  +- Project [srab#1136, sran#1137, sras#1138, srsbtp#1139, srsmo#1140, srbp01#1141, srbp02#1142, srbp03#1143, srbp04#1144, srbp05#1145, srbp06#1146, srbp07#1147, srbp08#1148, srbp09#1149, srbp10#1150, srbp11#1151, srbp12#1152, srbptd#1153, srbpml#1154, srnd01#1155, srnd02#1156, srnd03#1157, srnd04#1158, srnd05#1159, ... 11 more fields]\n                     +- SubqueryAlias d\n                        +- SubqueryAlias data\n                           +- Relation[srab#1136,sran#1137,sras#1138,srsbtp#1139,srsmo#1140,srbp01#1141,srbp02#1142,srbp03#1143,srbp04#1144,srbp05#1145,srbp06#1146,srbp07#1147,srbp08#1148,srbp09#1149,srbp10#1150,srbp11#1151,srbp12#1152,srbptd#1153,srbpml#1154,srnd01#1155,srnd02#1156,srnd03#1157,srnd04#1158,srnd05#1159,... 11 more fields] csv\n"
          ]
        }
      ]
    },
    {
      "cell_type": "code",
      "metadata": {
        "id": "FR5bVG57slm_"
      },
      "source": [
        "m1 = '10'\n",
        "m2 = '11'"
      ],
      "execution_count": null,
      "outputs": []
    },
    {
      "cell_type": "code",
      "metadata": {
        "id": "LL52VGKZwKhk"
      },
      "source": [
        ""
      ],
      "execution_count": null,
      "outputs": []
    },
    {
      "cell_type": "code",
      "metadata": {
        "id": "MpwRFHCwavmG",
        "outputId": "bfd4e346-0182-434c-e61a-d1f94cd8d4ea",
        "colab": {
          "base_uri": "https://localhost:8080/",
          "height": 357
        }
      },
      "source": [
        "sqlContext.sql('select srab, avgm10, avgm11 from data').show()"
      ],
      "execution_count": 28,
      "outputs": [
        {
          "output_type": "error",
          "ename": "AnalysisException",
          "evalue": "ignored",
          "traceback": [
            "\u001b[0;31m---------------------------------------------------------------------------\u001b[0m",
            "\u001b[0;31mAnalysisException\u001b[0m                         Traceback (most recent call last)",
            "\u001b[0;32m<ipython-input-28-f5cb7286b6c2>\u001b[0m in \u001b[0;36m<module>\u001b[0;34m()\u001b[0m\n\u001b[0;32m----> 1\u001b[0;31m \u001b[0msqlContext\u001b[0m\u001b[0;34m.\u001b[0m\u001b[0msql\u001b[0m\u001b[0;34m(\u001b[0m\u001b[0;34m'select srab, avgm10, avgm11 from data '\u001b[0m\u001b[0;34m)\u001b[0m\u001b[0;34m.\u001b[0m\u001b[0mshow\u001b[0m\u001b[0;34m(\u001b[0m\u001b[0;34m)\u001b[0m\u001b[0;34m\u001b[0m\u001b[0;34m\u001b[0m\u001b[0m\n\u001b[0m",
            "\u001b[0;32m/usr/local/lib/python3.6/dist-packages/pyspark/sql/context.py\u001b[0m in \u001b[0;36msql\u001b[0;34m(self, sqlQuery)\u001b[0m\n\u001b[1;32m    369\u001b[0m         \u001b[0;34m[\u001b[0m\u001b[0mRow\u001b[0m\u001b[0;34m(\u001b[0m\u001b[0mf1\u001b[0m\u001b[0;34m=\u001b[0m\u001b[0;36m1\u001b[0m\u001b[0;34m,\u001b[0m \u001b[0mf2\u001b[0m\u001b[0;34m=\u001b[0m\u001b[0;34mu'row1'\u001b[0m\u001b[0;34m)\u001b[0m\u001b[0;34m,\u001b[0m \u001b[0mRow\u001b[0m\u001b[0;34m(\u001b[0m\u001b[0mf1\u001b[0m\u001b[0;34m=\u001b[0m\u001b[0;36m2\u001b[0m\u001b[0;34m,\u001b[0m \u001b[0mf2\u001b[0m\u001b[0;34m=\u001b[0m\u001b[0;34mu'row2'\u001b[0m\u001b[0;34m)\u001b[0m\u001b[0;34m,\u001b[0m \u001b[0mRow\u001b[0m\u001b[0;34m(\u001b[0m\u001b[0mf1\u001b[0m\u001b[0;34m=\u001b[0m\u001b[0;36m3\u001b[0m\u001b[0;34m,\u001b[0m \u001b[0mf2\u001b[0m\u001b[0;34m=\u001b[0m\u001b[0;34mu'row3'\u001b[0m\u001b[0;34m)\u001b[0m\u001b[0;34m]\u001b[0m\u001b[0;34m\u001b[0m\u001b[0;34m\u001b[0m\u001b[0m\n\u001b[1;32m    370\u001b[0m         \"\"\"\n\u001b[0;32m--> 371\u001b[0;31m         \u001b[0;32mreturn\u001b[0m \u001b[0mself\u001b[0m\u001b[0;34m.\u001b[0m\u001b[0msparkSession\u001b[0m\u001b[0;34m.\u001b[0m\u001b[0msql\u001b[0m\u001b[0;34m(\u001b[0m\u001b[0msqlQuery\u001b[0m\u001b[0;34m)\u001b[0m\u001b[0;34m\u001b[0m\u001b[0;34m\u001b[0m\u001b[0m\n\u001b[0m\u001b[1;32m    372\u001b[0m \u001b[0;34m\u001b[0m\u001b[0m\n\u001b[1;32m    373\u001b[0m     \u001b[0;34m@\u001b[0m\u001b[0msince\u001b[0m\u001b[0;34m(\u001b[0m\u001b[0;36m1.0\u001b[0m\u001b[0;34m)\u001b[0m\u001b[0;34m\u001b[0m\u001b[0;34m\u001b[0m\u001b[0m\n",
            "\u001b[0;32m/usr/local/lib/python3.6/dist-packages/pyspark/sql/session.py\u001b[0m in \u001b[0;36msql\u001b[0;34m(self, sqlQuery)\u001b[0m\n\u001b[1;32m    647\u001b[0m         \u001b[0;34m[\u001b[0m\u001b[0mRow\u001b[0m\u001b[0;34m(\u001b[0m\u001b[0mf1\u001b[0m\u001b[0;34m=\u001b[0m\u001b[0;36m1\u001b[0m\u001b[0;34m,\u001b[0m \u001b[0mf2\u001b[0m\u001b[0;34m=\u001b[0m\u001b[0;34mu'row1'\u001b[0m\u001b[0;34m)\u001b[0m\u001b[0;34m,\u001b[0m \u001b[0mRow\u001b[0m\u001b[0;34m(\u001b[0m\u001b[0mf1\u001b[0m\u001b[0;34m=\u001b[0m\u001b[0;36m2\u001b[0m\u001b[0;34m,\u001b[0m \u001b[0mf2\u001b[0m\u001b[0;34m=\u001b[0m\u001b[0;34mu'row2'\u001b[0m\u001b[0;34m)\u001b[0m\u001b[0;34m,\u001b[0m \u001b[0mRow\u001b[0m\u001b[0;34m(\u001b[0m\u001b[0mf1\u001b[0m\u001b[0;34m=\u001b[0m\u001b[0;36m3\u001b[0m\u001b[0;34m,\u001b[0m \u001b[0mf2\u001b[0m\u001b[0;34m=\u001b[0m\u001b[0;34mu'row3'\u001b[0m\u001b[0;34m)\u001b[0m\u001b[0;34m]\u001b[0m\u001b[0;34m\u001b[0m\u001b[0;34m\u001b[0m\u001b[0m\n\u001b[1;32m    648\u001b[0m         \"\"\"\n\u001b[0;32m--> 649\u001b[0;31m         \u001b[0;32mreturn\u001b[0m \u001b[0mDataFrame\u001b[0m\u001b[0;34m(\u001b[0m\u001b[0mself\u001b[0m\u001b[0;34m.\u001b[0m\u001b[0m_jsparkSession\u001b[0m\u001b[0;34m.\u001b[0m\u001b[0msql\u001b[0m\u001b[0;34m(\u001b[0m\u001b[0msqlQuery\u001b[0m\u001b[0;34m)\u001b[0m\u001b[0;34m,\u001b[0m \u001b[0mself\u001b[0m\u001b[0;34m.\u001b[0m\u001b[0m_wrapped\u001b[0m\u001b[0;34m)\u001b[0m\u001b[0;34m\u001b[0m\u001b[0;34m\u001b[0m\u001b[0m\n\u001b[0m\u001b[1;32m    650\u001b[0m \u001b[0;34m\u001b[0m\u001b[0m\n\u001b[1;32m    651\u001b[0m     \u001b[0;34m@\u001b[0m\u001b[0msince\u001b[0m\u001b[0;34m(\u001b[0m\u001b[0;36m2.0\u001b[0m\u001b[0;34m)\u001b[0m\u001b[0;34m\u001b[0m\u001b[0;34m\u001b[0m\u001b[0m\n",
            "\u001b[0;32m/usr/local/lib/python3.6/dist-packages/py4j/java_gateway.py\u001b[0m in \u001b[0;36m__call__\u001b[0;34m(self, *args)\u001b[0m\n\u001b[1;32m   1303\u001b[0m         \u001b[0manswer\u001b[0m \u001b[0;34m=\u001b[0m \u001b[0mself\u001b[0m\u001b[0;34m.\u001b[0m\u001b[0mgateway_client\u001b[0m\u001b[0;34m.\u001b[0m\u001b[0msend_command\u001b[0m\u001b[0;34m(\u001b[0m\u001b[0mcommand\u001b[0m\u001b[0;34m)\u001b[0m\u001b[0;34m\u001b[0m\u001b[0;34m\u001b[0m\u001b[0m\n\u001b[1;32m   1304\u001b[0m         return_value = get_return_value(\n\u001b[0;32m-> 1305\u001b[0;31m             answer, self.gateway_client, self.target_id, self.name)\n\u001b[0m\u001b[1;32m   1306\u001b[0m \u001b[0;34m\u001b[0m\u001b[0m\n\u001b[1;32m   1307\u001b[0m         \u001b[0;32mfor\u001b[0m \u001b[0mtemp_arg\u001b[0m \u001b[0;32min\u001b[0m \u001b[0mtemp_args\u001b[0m\u001b[0;34m:\u001b[0m\u001b[0;34m\u001b[0m\u001b[0;34m\u001b[0m\u001b[0m\n",
            "\u001b[0;32m/usr/local/lib/python3.6/dist-packages/pyspark/sql/utils.py\u001b[0m in \u001b[0;36mdeco\u001b[0;34m(*a, **kw)\u001b[0m\n\u001b[1;32m    132\u001b[0m                 \u001b[0;31m# Hide where the exception came from that shows a non-Pythonic\u001b[0m\u001b[0;34m\u001b[0m\u001b[0;34m\u001b[0m\u001b[0;34m\u001b[0m\u001b[0m\n\u001b[1;32m    133\u001b[0m                 \u001b[0;31m# JVM exception message.\u001b[0m\u001b[0;34m\u001b[0m\u001b[0;34m\u001b[0m\u001b[0;34m\u001b[0m\u001b[0m\n\u001b[0;32m--> 134\u001b[0;31m                 \u001b[0mraise_from\u001b[0m\u001b[0;34m(\u001b[0m\u001b[0mconverted\u001b[0m\u001b[0;34m)\u001b[0m\u001b[0;34m\u001b[0m\u001b[0;34m\u001b[0m\u001b[0m\n\u001b[0m\u001b[1;32m    135\u001b[0m             \u001b[0;32melse\u001b[0m\u001b[0;34m:\u001b[0m\u001b[0;34m\u001b[0m\u001b[0;34m\u001b[0m\u001b[0m\n\u001b[1;32m    136\u001b[0m                 \u001b[0;32mraise\u001b[0m\u001b[0;34m\u001b[0m\u001b[0;34m\u001b[0m\u001b[0m\n",
            "\u001b[0;32m/usr/local/lib/python3.6/dist-packages/pyspark/sql/utils.py\u001b[0m in \u001b[0;36mraise_from\u001b[0;34m(e)\u001b[0m\n",
            "\u001b[0;31mAnalysisException\u001b[0m: cannot resolve '`avgm10`' given input columns: [data.eod_date, data.etl_id, data.srab, data.sran, data.sras, data.srbp01, data.srbp02, data.srbp03, data.srbp04, data.srbp05, data.srbp06, data.srbp07, data.srbp08, data.srbp09, data.srbp10, data.srbp11, data.srbp12, data.srbpml, data.srbptd, data.srnd01, data.srnd02, data.srnd03, data.srnd04, data.srnd05, data.srnd06, data.srnd07, data.srnd08, data.srnd09, data.srnd10, data.srnd11, data.srnd12, data.srndml, data.srndtd, data.srsbtp, data.srsmo]; line 1 pos 13;\n'Project [srab#1136, 'avgm10, 'avgm11]\n+- SubqueryAlias data\n   +- Relation[srab#1136,sran#1137,sras#1138,srsbtp#1139,srsmo#1140,srbp01#1141,srbp02#1142,srbp03#1143,srbp04#1144,srbp05#1145,srbp06#1146,srbp07#1147,srbp08#1148,srbp09#1149,srbp10#1150,srbp11#1151,srbp12#1152,srbptd#1153,srbpml#1154,srnd01#1155,srnd02#1156,srnd03#1157,srnd04#1158,srnd05#1159,... 11 more fields] csv\n"
          ]
        }
      ]
    },
    {
      "cell_type": "code",
      "metadata": {
        "id": "DodgRluIts7R"
      },
      "source": [
        ""
      ],
      "execution_count": null,
      "outputs": []
    }
  ]
}