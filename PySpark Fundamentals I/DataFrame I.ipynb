{
 "cells": [
  {
   "cell_type": "code",
   "execution_count": 4,
   "metadata": {},
   "outputs": [],
   "source": [
    "import findspark\n",
    "import pyspark\n",
    "from pyspark.sql.functions import *\n",
    "from pyspark.sql import *\n",
    "spark = SparkSession.builder.getOrCreate() \n",
    "findspark.init()\n",
    "sc = pyspark.SparkContext.getOrCreate()\n",
    "sqlContext = SQLContext(sc)"
   ]
  },
  {
   "cell_type": "markdown",
   "metadata": {},
   "source": [
    "#### Dataframe creation"
   ]
  },
  {
   "cell_type": "code",
   "execution_count": 5,
   "metadata": {},
   "outputs": [],
   "source": [
    "# creating employee database with row function, column names\n",
    "Employee = Row(\"fisrtname\", \"lastname\", \"email\", \"salary\")"
   ]
  },
  {
   "cell_type": "code",
   "execution_count": 6,
   "metadata": {},
   "outputs": [
    {
     "data": {
      "text/plain": [
       "<Row(fisrtname, lastname, email, salary)>"
      ]
     },
     "execution_count": 6,
     "metadata": {},
     "output_type": "execute_result"
    }
   ],
   "source": [
    "Employee"
   ]
  },
  {
   "cell_type": "code",
   "execution_count": 7,
   "metadata": {},
   "outputs": [],
   "source": [
    "# create some employee data, same format\n",
    "employee1 = Employee('Basher', 'armbrust', 'bash@edureka.co', 100000)\n",
    "employee2 = Employee('Daniel', 'meng', 'daniel@stanford.edu', 120000)\n",
    "employee3 = Employee('Muriel', None, 'muriel@waterloo.edu', 140000)\n",
    "employee4 = Employee('Rachel', 'wendell', 'rach_3@edureka.co', 160000)\n",
    "employee5 = Employee('Zach', 'galifianakis', 'zach_g@edureka.co', 160000)"
   ]
  },
  {
   "cell_type": "code",
   "execution_count": 8,
   "metadata": {},
   "outputs": [
    {
     "name": "stdout",
     "output_type": "stream",
     "text": [
      "Row(fisrtname='Rachel', lastname='wendell', email='rach_3@edureka.co', salary=160000)\n"
     ]
    }
   ],
   "source": [
    "print(employee4)"
   ]
  },
  {
   "cell_type": "code",
   "execution_count": 9,
   "metadata": {},
   "outputs": [],
   "source": [
    "# department = Row(\"id\", \"name\")\n",
    "\n",
    "# department1 = department('123456','HR')\n",
    "# department2 = department('789012','OPS')\n",
    "# department3 = department('345678','FN')\n",
    "# department4 = department('901234','DEV')\n",
    "\n",
    "\n",
    "department1 = Row(id='123456', name='HR')\n",
    "department2 = Row(id='789012', name='OPS')\n",
    "department3 = Row(id='345678', name='FN')\n",
    "department4 = Row(id='901234', name='DEV')"
   ]
  },
  {
   "cell_type": "code",
   "execution_count": 10,
   "metadata": {},
   "outputs": [
    {
     "name": "stdout",
     "output_type": "stream",
     "text": [
      "Row(id='901234', name='DEV')\n"
     ]
    }
   ],
   "source": [
    "print(department4)"
   ]
  },
  {
   "cell_type": "code",
   "execution_count": 11,
   "metadata": {},
   "outputs": [],
   "source": [
    "departmentWithEmployee = Row(\"department\", \"Employees\")\n",
    "\n",
    "departmentWithEmployee_1 = departmentWithEmployee(department1, [employee1,employee2])\n",
    "departmentWithEmployee_2 = departmentWithEmployee(department2, [employee2,employee3,employee4])\n",
    "departmentWithEmployee_3 = departmentWithEmployee(department3, [employee4,employee1])\n",
    "departmentWithEmployee_4 = departmentWithEmployee(department4, [employee3])"
   ]
  },
  {
   "cell_type": "code",
   "execution_count": 12,
   "metadata": {},
   "outputs": [
    {
     "name": "stdout",
     "output_type": "stream",
     "text": [
      "Row(department=Row(id='789012', name='OPS'), Employees=[Row(fisrtname='Daniel', lastname='meng', email='daniel@stanford.edu', salary=120000), Row(fisrtname='Muriel', lastname=None, email='muriel@waterloo.edu', salary=140000), Row(fisrtname='Rachel', lastname='wendell', email='rach_3@edureka.co', salary=160000)])\n"
     ]
    }
   ],
   "source": [
    "print(departmentWithEmployee_2)"
   ]
  },
  {
   "cell_type": "code",
   "execution_count": 13,
   "metadata": {},
   "outputs": [],
   "source": [
    "# creating dataframe\n",
    "departmentWithEmployee_df = [departmentWithEmployee_1, departmentWithEmployee_2]\n",
    "df1 = spark.createDataFrame(departmentWithEmployee_df)\n",
    "\n",
    "departmentWithEmployee_df = [departmentWithEmployee_2, departmentWithEmployee_4]\n",
    "df2 = spark.createDataFrame(departmentWithEmployee_df)"
   ]
  },
  {
   "cell_type": "code",
   "execution_count": 14,
   "metadata": {},
   "outputs": [
    {
     "name": "stdout",
     "output_type": "stream",
     "text": [
      "+-------------+--------------------+\n",
      "|   department|           Employees|\n",
      "+-------------+--------------------+\n",
      "| [123456, HR]|[[Basher, armbrus...|\n",
      "|[789012, OPS]|[[Daniel, meng, d...|\n",
      "+-------------+--------------------+\n",
      "\n"
     ]
    }
   ],
   "source": [
    "df1.show()"
   ]
  },
  {
   "cell_type": "code",
   "execution_count": 15,
   "metadata": {},
   "outputs": [
    {
     "data": {
      "text/plain": [
       "DataFrame[department: struct<id:string,name:string>, Employees: array<struct<fisrtname:string,lastname:string,email:string,salary:bigint>>]"
      ]
     },
     "metadata": {},
     "output_type": "display_data"
    }
   ],
   "source": [
    "display(df2)"
   ]
  },
  {
   "cell_type": "code",
   "execution_count": 16,
   "metadata": {},
   "outputs": [
    {
     "name": "stdout",
     "output_type": "stream",
     "text": [
      "+-------------+--------------------+\n",
      "|   department|           Employees|\n",
      "+-------------+--------------------+\n",
      "|[789012, OPS]|[[Daniel, meng, d...|\n",
      "|[901234, DEV]|[[Muriel,, muriel...|\n",
      "+-------------+--------------------+\n",
      "\n"
     ]
    }
   ],
   "source": [
    "df2.show()"
   ]
  },
  {
   "cell_type": "code",
   "execution_count": 17,
   "metadata": {},
   "outputs": [
    {
     "data": {
      "text/plain": [
       "[Row(department=Row(id='123456', name='HR'), Employees=[Row(fisrtname='Basher', lastname='armbrust', email='bash@edureka.co', salary=100000), Row(fisrtname='Daniel', lastname='meng', email='daniel@stanford.edu', salary=120000)]),\n",
       " Row(department=Row(id='789012', name='OPS'), Employees=[Row(fisrtname='Daniel', lastname='meng', email='daniel@stanford.edu', salary=120000), Row(fisrtname='Muriel', lastname=None, email='muriel@waterloo.edu', salary=140000), Row(fisrtname='Rachel', lastname='wendell', email='rach_3@edureka.co', salary=160000)])]"
      ]
     },
     "execution_count": 17,
     "metadata": {},
     "output_type": "execute_result"
    }
   ],
   "source": [
    "df1.collect()"
   ]
  },
  {
   "cell_type": "code",
   "execution_count": 18,
   "metadata": {},
   "outputs": [
    {
     "name": "stdout",
     "output_type": "stream",
     "text": [
      "+-------------+--------------------+\n",
      "|   department|           Employees|\n",
      "+-------------+--------------------+\n",
      "| [123456, HR]|[[Basher, armbrus...|\n",
      "|[789012, OPS]|[[Daniel, meng, d...|\n",
      "|[789012, OPS]|[[Daniel, meng, d...|\n",
      "|[901234, DEV]|[[Muriel,, muriel...|\n",
      "+-------------+--------------------+\n",
      "\n"
     ]
    }
   ],
   "source": [
    "# union\n",
    "unionDf = df1.union(df2)\n",
    "\n",
    "# display(unionDf)\n",
    "\n",
    "unionDf.show()"
   ]
  },
  {
   "cell_type": "code",
   "execution_count": 19,
   "metadata": {},
   "outputs": [
    {
     "name": "stdout",
     "output_type": "stream",
     "text": [
      "+-------------+--------------------+\n",
      "|   department|           Employees|\n",
      "+-------------+--------------------+\n",
      "|[789012, OPS]|[[Daniel, meng, d...|\n",
      "+-------------+--------------------+\n",
      "\n"
     ]
    }
   ],
   "source": [
    "intersectionDf = df1.intersect(df2)\n",
    "\n",
    "# display(intersectionDf)\n",
    "\n",
    "intersectionDf.show()"
   ]
  },
  {
   "cell_type": "code",
   "execution_count": 20,
   "metadata": {},
   "outputs": [
    {
     "name": "stdout",
     "output_type": "stream",
     "text": [
      "+--------------------+\n",
      "|           Employees|\n",
      "+--------------------+\n",
      "|[[Basher, armbrus...|\n",
      "|[[Daniel, meng, d...|\n",
      "|[[Daniel, meng, d...|\n",
      "|[[Muriel,, muriel...|\n",
      "+--------------------+\n",
      "\n"
     ]
    }
   ],
   "source": [
    "unionDf.select('Employees').show()"
   ]
  },
  {
   "cell_type": "code",
   "execution_count": 21,
   "metadata": {},
   "outputs": [],
   "source": [
    "# explode - Returns a new row for each element in the given array\n",
    "explodeDf = unionDf.select(explode('Employees').alias('Emp'))"
   ]
  },
  {
   "cell_type": "code",
   "execution_count": 22,
   "metadata": {},
   "outputs": [
    {
     "name": "stdout",
     "output_type": "stream",
     "text": [
      "+--------------------+\n",
      "|                 Emp|\n",
      "+--------------------+\n",
      "|[Basher, armbrust...|\n",
      "|[Daniel, meng, da...|\n",
      "|[Daniel, meng, da...|\n",
      "|[Muriel,, muriel@...|\n",
      "|[Rachel, wendell,...|\n",
      "|[Daniel, meng, da...|\n",
      "|[Muriel,, muriel@...|\n",
      "|[Rachel, wendell,...|\n",
      "|[Muriel,, muriel@...|\n",
      "+--------------------+\n",
      "\n"
     ]
    }
   ],
   "source": [
    "explodeDf.show()"
   ]
  },
  {
   "cell_type": "code",
   "execution_count": 23,
   "metadata": {},
   "outputs": [],
   "source": [
    "# variant of select, accept SQL expressions\n",
    "flatDf = explodeDf.selectExpr(\"Emp.fisrtname\", \"Emp.lastname\", \"Emp.email\",\"Emp.salary\")"
   ]
  },
  {
   "cell_type": "code",
   "execution_count": 24,
   "metadata": {},
   "outputs": [
    {
     "name": "stdout",
     "output_type": "stream",
     "text": [
      "+---------+--------+-------------------+------+\n",
      "|fisrtname|lastname|              email|salary|\n",
      "+---------+--------+-------------------+------+\n",
      "|   Basher|armbrust|    bash@edureka.co|100000|\n",
      "|   Daniel|    meng|daniel@stanford.edu|120000|\n",
      "|   Daniel|    meng|daniel@stanford.edu|120000|\n",
      "|   Muriel|    null|muriel@waterloo.edu|140000|\n",
      "|   Rachel| wendell|  rach_3@edureka.co|160000|\n",
      "|   Daniel|    meng|daniel@stanford.edu|120000|\n",
      "|   Muriel|    null|muriel@waterloo.edu|140000|\n",
      "|   Rachel| wendell|  rach_3@edureka.co|160000|\n",
      "|   Muriel|    null|muriel@waterloo.edu|140000|\n",
      "+---------+--------+-------------------+------+\n",
      "\n"
     ]
    }
   ],
   "source": [
    "flatDf.show()"
   ]
  },
  {
   "cell_type": "markdown",
   "metadata": {},
   "source": [
    "#### Reading Data from CSV file and performing actions"
   ]
  },
  {
   "cell_type": "code",
   "execution_count": 25,
   "metadata": {},
   "outputs": [],
   "source": [
    "# Reading data from csv\n",
    "house_df = spark.read.csv(\"house_data.csv\", inferSchema= True, header = True)"
   ]
  },
  {
   "cell_type": "code",
   "execution_count": 26,
   "metadata": {},
   "outputs": [
    {
     "name": "stdout",
     "output_type": "stream",
     "text": [
      "+----------+-----------+-----------+-----------+-----------------+-------+---------+----------------+------+---------------------+-----------------------------+----------------------------+------------------------------+-------------------------------+-------------------------------+----------------------------------------+----------------------------------------+----------------------------------------+---------------------+\n",
      "|build_year|        lat|living_area|       long|municipality_name|zipcode|num_rooms|object_type_name| price|water_percentage_1000|travel_time_private_transport|travel_time_public_transport|number_of_buildings_in_hectare|number_of_apartments_in_hectare|number_of_workplaces_in_hectare|number_of_workplaces_sector_1_in_hectare|number_of_workplaces_sector_2_in_hectare|number_of_workplaces_sector_3_in_hectare|population_in_hectare|\n",
      "+----------+-----------+-----------+-----------+-----------------+-------+---------+----------------+------+---------------------+-----------------------------+----------------------------+------------------------------+-------------------------------+-------------------------------+----------------------------------------+----------------------------------------+----------------------------------------+---------------------+\n",
      "|      1990|47.00980759|        110|8.483789444|          Vitznau|   6354|        3|         Wohnung|815000|          0.400565383|                           35|                         102|                            10|                             26|                              7|                                       0|                                       0|                                       7|                   34|\n",
      "|      2017|46.87217712|        120| 9.88018322| Klosters-Serneus|   7250|        3|         Wohnung|890000|          0.008272204|                           85|                         112|                             7|                             54|                              3|                                       0|                                       0|                                       3|                   44|\n",
      "|      2010|46.51917267|        107|6.525881767|      Préverenges|   1028|        4|         Wohnung|870000|          0.140533804|                            9|                          25|                             5|                             39|                              3|                                       0|                                       3|                                       0|                   89|\n",
      "+----------+-----------+-----------+-----------+-----------------+-------+---------+----------------+------+---------------------+-----------------------------+----------------------------+------------------------------+-------------------------------+-------------------------------+----------------------------------------+----------------------------------------+----------------------------------------+---------------------+\n",
      "only showing top 3 rows\n",
      "\n"
     ]
    }
   ],
   "source": [
    "# print results\n",
    "house_df.show(3)"
   ]
  },
  {
   "cell_type": "code",
   "execution_count": 27,
   "metadata": {},
   "outputs": [
    {
     "data": {
      "text/plain": [
       "[Row(build_year=1990, lat=47.00980759, living_area=110, long=8.483789444, municipality_name='Vitznau', zipcode=6354, num_rooms=3, object_type_name='Wohnung', price=815000, water_percentage_1000=0.400565383, travel_time_private_transport=35, travel_time_public_transport=102, number_of_buildings_in_hectare=10, number_of_apartments_in_hectare=26, number_of_workplaces_in_hectare=7, number_of_workplaces_sector_1_in_hectare=0, number_of_workplaces_sector_2_in_hectare=0, number_of_workplaces_sector_3_in_hectare=7, population_in_hectare=34),\n",
       " Row(build_year=2017, lat=46.87217712, living_area=120, long=9.88018322, municipality_name='Klosters-Serneus', zipcode=7250, num_rooms=3, object_type_name='Wohnung', price=890000, water_percentage_1000=0.008272204, travel_time_private_transport=85, travel_time_public_transport=112, number_of_buildings_in_hectare=7, number_of_apartments_in_hectare=54, number_of_workplaces_in_hectare=3, number_of_workplaces_sector_1_in_hectare=0, number_of_workplaces_sector_2_in_hectare=0, number_of_workplaces_sector_3_in_hectare=3, population_in_hectare=44),\n",
       " Row(build_year=2010, lat=46.51917267, living_area=107, long=6.525881767, municipality_name='Préverenges', zipcode=1028, num_rooms=4, object_type_name='Wohnung', price=870000, water_percentage_1000=0.140533804, travel_time_private_transport=9, travel_time_public_transport=25, number_of_buildings_in_hectare=5, number_of_apartments_in_hectare=39, number_of_workplaces_in_hectare=3, number_of_workplaces_sector_1_in_hectare=0, number_of_workplaces_sector_2_in_hectare=3, number_of_workplaces_sector_3_in_hectare=0, population_in_hectare=89)]"
      ]
     },
     "execution_count": 27,
     "metadata": {},
     "output_type": "execute_result"
    }
   ],
   "source": [
    "# return list of rows\n",
    "house_df.take(3)"
   ]
  },
  {
   "cell_type": "code",
   "execution_count": 28,
   "metadata": {},
   "outputs": [
    {
     "name": "stdout",
     "output_type": "stream",
     "text": [
      "root\n",
      " |-- build_year: integer (nullable = true)\n",
      " |-- lat: double (nullable = true)\n",
      " |-- living_area: integer (nullable = true)\n",
      " |-- long: double (nullable = true)\n",
      " |-- municipality_name: string (nullable = true)\n",
      " |-- zipcode: integer (nullable = true)\n",
      " |-- num_rooms: integer (nullable = true)\n",
      " |-- object_type_name: string (nullable = true)\n",
      " |-- price: integer (nullable = true)\n",
      " |-- water_percentage_1000: double (nullable = true)\n",
      " |-- travel_time_private_transport: integer (nullable = true)\n",
      " |-- travel_time_public_transport: integer (nullable = true)\n",
      " |-- number_of_buildings_in_hectare: integer (nullable = true)\n",
      " |-- number_of_apartments_in_hectare: integer (nullable = true)\n",
      " |-- number_of_workplaces_in_hectare: integer (nullable = true)\n",
      " |-- number_of_workplaces_sector_1_in_hectare: integer (nullable = true)\n",
      " |-- number_of_workplaces_sector_2_in_hectare: integer (nullable = true)\n",
      " |-- number_of_workplaces_sector_3_in_hectare: integer (nullable = true)\n",
      " |-- population_in_hectare: integer (nullable = true)\n",
      "\n"
     ]
    }
   ],
   "source": [
    "# to get structure of dataframe\n",
    "house_df.printSchema() "
   ]
  },
  {
   "cell_type": "code",
   "execution_count": 29,
   "metadata": {},
   "outputs": [
    {
     "data": {
      "text/plain": [
       "['build_year',\n",
       " 'lat',\n",
       " 'living_area',\n",
       " 'long',\n",
       " 'municipality_name',\n",
       " 'zipcode',\n",
       " 'num_rooms',\n",
       " 'object_type_name',\n",
       " 'price',\n",
       " 'water_percentage_1000',\n",
       " 'travel_time_private_transport',\n",
       " 'travel_time_public_transport',\n",
       " 'number_of_buildings_in_hectare',\n",
       " 'number_of_apartments_in_hectare',\n",
       " 'number_of_workplaces_in_hectare',\n",
       " 'number_of_workplaces_sector_1_in_hectare',\n",
       " 'number_of_workplaces_sector_2_in_hectare',\n",
       " 'number_of_workplaces_sector_3_in_hectare',\n",
       " 'population_in_hectare']"
      ]
     },
     "execution_count": 29,
     "metadata": {},
     "output_type": "execute_result"
    }
   ],
   "source": [
    "# column names\n",
    "house_df.columns  "
   ]
  },
  {
   "cell_type": "code",
   "execution_count": 30,
   "metadata": {},
   "outputs": [
    {
     "data": {
      "text/plain": [
       "998"
      ]
     },
     "execution_count": 30,
     "metadata": {},
     "output_type": "execute_result"
    }
   ],
   "source": [
    "# row count \n",
    "house_df.count()"
   ]
  },
  {
   "cell_type": "code",
   "execution_count": 31,
   "metadata": {},
   "outputs": [
    {
     "data": {
      "text/plain": [
       "19"
      ]
     },
     "execution_count": 31,
     "metadata": {},
     "output_type": "execute_result"
    }
   ],
   "source": [
    "# column count\n",
    "len(house_df.columns)"
   ]
  },
  {
   "cell_type": "code",
   "execution_count": 32,
   "metadata": {},
   "outputs": [
    {
     "name": "stdout",
     "output_type": "stream",
     "text": [
      "+-------+------------------+\n",
      "|summary|         num_rooms|\n",
      "+-------+------------------+\n",
      "|  count|               998|\n",
      "|   mean| 4.079158316633267|\n",
      "| stddev|0.9073125929965935|\n",
      "|    min|                 2|\n",
      "|    max|                 9|\n",
      "+-------+------------------+\n",
      "\n"
     ]
    }
   ],
   "source": [
    "# to get statistical summary of given column\n",
    "house_df.describe('num_rooms').show()"
   ]
  },
  {
   "cell_type": "code",
   "execution_count": 33,
   "metadata": {},
   "outputs": [
    {
     "data": {
      "text/plain": [
       "pyspark.sql.dataframe.DataFrame"
      ]
     },
     "execution_count": 33,
     "metadata": {},
     "output_type": "execute_result"
    }
   ],
   "source": [
    "type(house_df)"
   ]
  },
  {
   "cell_type": "code",
   "execution_count": 34,
   "metadata": {},
   "outputs": [
    {
     "name": "stdout",
     "output_type": "stream",
     "text": [
      "+-----------+-----------+\n",
      "|        lat|       long|\n",
      "+-----------+-----------+\n",
      "|47.00980759|8.483789444|\n",
      "|46.87217712| 9.88018322|\n",
      "|46.51917267|6.525881767|\n",
      "|47.52134323|8.536971092|\n",
      "|46.51021576|9.852426529|\n",
      "+-----------+-----------+\n",
      "only showing top 5 rows\n",
      "\n"
     ]
    }
   ],
   "source": [
    "# to select columns\n",
    "house_df.select('lat','long').show(5)"
   ]
  },
  {
   "cell_type": "code",
   "execution_count": 35,
   "metadata": {},
   "outputs": [
    {
     "name": "stdout",
     "output_type": "stream",
     "text": [
      "+----------+-----------+-----------+-----------+-----------------+-------+---------+----------------+------+---------------------+-----------------------------+----------------------------+------------------------------+-------------------------------+-------------------------------+----------------------------------------+----------------------------------------+----------------------------------------+---------------------+\n",
      "|build_year|        lat|living_area|       long|municipality_name|zipcode|num_rooms|object_type_name| price|water_percentage_1000|travel_time_private_transport|travel_time_public_transport|number_of_buildings_in_hectare|number_of_apartments_in_hectare|number_of_workplaces_in_hectare|number_of_workplaces_sector_1_in_hectare|number_of_workplaces_sector_2_in_hectare|number_of_workplaces_sector_3_in_hectare|population_in_hectare|\n",
      "+----------+-----------+-----------+-----------+-----------------+-------+---------+----------------+------+---------------------+-----------------------------+----------------------------+------------------------------+-------------------------------+-------------------------------+----------------------------------------+----------------------------------------+----------------------------------------+---------------------+\n",
      "|      2015|46.12470627|         85|8.712854385|         Brissago|   6614|        3|         Wohnung|999000|          0.348834175|                           41|                          89|                            15|                             36|                              3|                                       0|                                       0|                                       3|                   21|\n",
      "+----------+-----------+-----------+-----------+-----------------+-------+---------+----------------+------+---------------------+-----------------------------+----------------------------+------------------------------+-------------------------------+-------------------------------+----------------------------------------+----------------------------------------+----------------------------------------+---------------------+\n",
      "\n"
     ]
    }
   ],
   "source": [
    "house_df.filter(house_df.price == 999000).show()"
   ]
  },
  {
   "cell_type": "code",
   "execution_count": 36,
   "metadata": {},
   "outputs": [
    {
     "name": "stdout",
     "output_type": "stream",
     "text": [
      "+----------+-----------+-----------+-----------+-----------------+-------+---------+----------------+------+---------------------+-----------------------------+----------------------------+------------------------------+-------------------------------+-------------------------------+----------------------------------------+----------------------------------------+----------------------------------------+---------------------+\n",
      "|build_year|        lat|living_area|       long|municipality_name|zipcode|num_rooms|object_type_name| price|water_percentage_1000|travel_time_private_transport|travel_time_public_transport|number_of_buildings_in_hectare|number_of_apartments_in_hectare|number_of_workplaces_in_hectare|number_of_workplaces_sector_1_in_hectare|number_of_workplaces_sector_2_in_hectare|number_of_workplaces_sector_3_in_hectare|population_in_hectare|\n",
      "+----------+-----------+-----------+-----------+-----------------+-------+---------+----------------+------+---------------------+-----------------------------+----------------------------+------------------------------+-------------------------------+-------------------------------+----------------------------------------+----------------------------------------+----------------------------------------+---------------------+\n",
      "|      2010|46.51917267|        107|6.525881767|      Préverenges|   1028|        4|         Wohnung|870000|          0.140533804|                            9|                          25|                             5|                             39|                              3|                                       0|                                       3|                                       0|                   89|\n",
      "|      2018|47.52134323|        103|8.536971092|           Bülach|   8180|        3|         Wohnung|829000|          0.003954127|                           14|                          18|                             2|                              2|                              3|                                       0|                                       3|                                       0|                    4|\n",
      "|      2018|46.46045303|        118|6.208910942|  Arzier-Le Muids|   1273|        4|         Wohnung|847000|                  0.0|                           27|                          45|                             6|                             26|                              7|                                       0|                                       0|                                       7|                   61|\n",
      "+----------+-----------+-----------+-----------+-----------------+-------+---------+----------------+------+---------------------+-----------------------------+----------------------------+------------------------------+-------------------------------+-------------------------------+----------------------------------------+----------------------------------------+----------------------------------------+---------------------+\n",
      "only showing top 3 rows\n",
      "\n"
     ]
    }
   ],
   "source": [
    "house_df.filter( (col('build_year')==2010) | (col('build_year')==2018)).show(3)"
   ]
  },
  {
   "cell_type": "code",
   "execution_count": 37,
   "metadata": {},
   "outputs": [
    {
     "name": "stdout",
     "output_type": "stream",
     "text": [
      "+----------+---+-----------+----+-----------------+-------+---------+----------------+-----+---------------------+-----------------------------+----------------------------+------------------------------+-------------------------------+-------------------------------+----------------------------------------+----------------------------------------+----------------------------------------+---------------------+\n",
      "|build_year|lat|living_area|long|municipality_name|zipcode|num_rooms|object_type_name|price|water_percentage_1000|travel_time_private_transport|travel_time_public_transport|number_of_buildings_in_hectare|number_of_apartments_in_hectare|number_of_workplaces_in_hectare|number_of_workplaces_sector_1_in_hectare|number_of_workplaces_sector_2_in_hectare|number_of_workplaces_sector_3_in_hectare|population_in_hectare|\n",
      "+----------+---+-----------+----+-----------------+-------+---------+----------------+-----+---------------------+-----------------------------+----------------------------+------------------------------+-------------------------------+-------------------------------+----------------------------------------+----------------------------------------+----------------------------------------+---------------------+\n",
      "+----------+---+-----------+----+-----------------+-------+---------+----------------+-----+---------------------+-----------------------------+----------------------------+------------------------------+-------------------------------+-------------------------------+----------------------------------------+----------------------------------------+----------------------------------------+---------------------+\n",
      "\n"
     ]
    }
   ],
   "source": [
    "house_df.where(col('num_rooms').isNull()).show()"
   ]
  },
  {
   "cell_type": "code",
   "execution_count": 38,
   "metadata": {},
   "outputs": [
    {
     "name": "stdout",
     "output_type": "stream",
     "text": [
      "+----------+\n",
      "|build_year|\n",
      "+----------+\n",
      "|      2010|\n",
      "|      2015|\n",
      "|      2016|\n",
      "|      2008|\n",
      "|      2018|\n",
      "|      2015|\n",
      "|      2017|\n",
      "|      2005|\n",
      "|      2017|\n",
      "|      2001|\n",
      "|      2019|\n",
      "|      2005|\n",
      "|      2019|\n",
      "|      2007|\n",
      "|      1594|\n",
      "|      2002|\n",
      "|      2015|\n",
      "|      2015|\n",
      "|      1999|\n",
      "|      2018|\n",
      "+----------+\n",
      "only showing top 20 rows\n",
      "\n"
     ]
    }
   ],
   "source": [
    "house_df.select(col('build_year')).where(col('num_rooms')==4).show()"
   ]
  },
  {
   "cell_type": "code",
   "execution_count": 39,
   "metadata": {},
   "outputs": [
    {
     "name": "stdout",
     "output_type": "stream",
     "text": [
      "+---------+\n",
      "|num_rooms|\n",
      "+---------+\n",
      "|        3|\n",
      "|        3|\n",
      "|        4|\n",
      "|        3|\n",
      "|        3|\n",
      "|        4|\n",
      "|        4|\n",
      "|        3|\n",
      "|        3|\n",
      "|        4|\n",
      "+---------+\n",
      "only showing top 10 rows\n",
      "\n"
     ]
    }
   ],
   "source": [
    "house_df.select('num_rooms').show(10)"
   ]
  },
  {
   "cell_type": "code",
   "execution_count": 40,
   "metadata": {},
   "outputs": [
    {
     "name": "stdout",
     "output_type": "stream",
     "text": [
      "+---------+\n",
      "|num_rooms|\n",
      "+---------+\n",
      "|        6|\n",
      "|        3|\n",
      "|        5|\n",
      "|        9|\n",
      "|        4|\n",
      "|        8|\n",
      "|        7|\n",
      "|        2|\n",
      "+---------+\n",
      "\n"
     ]
    }
   ],
   "source": [
    "# distinct values of a column\n",
    "house_df.select('num_rooms').distinct().show()"
   ]
  },
  {
   "cell_type": "code",
   "execution_count": 41,
   "metadata": {},
   "outputs": [
    {
     "data": {
      "text/plain": [
       "8"
      ]
     },
     "execution_count": 41,
     "metadata": {},
     "output_type": "execute_result"
    }
   ],
   "source": [
    "house_df.filter(house_df.num_rooms==7).count()"
   ]
  },
  {
   "cell_type": "code",
   "execution_count": 42,
   "metadata": {},
   "outputs": [
    {
     "name": "stdout",
     "output_type": "stream",
     "text": [
      "+----------+-----------+-----------+-----------+-------------------+-------+---------+----------------+------+---------------------+-----------------------------+----------------------------+------------------------------+-------------------------------+-------------------------------+----------------------------------------+----------------------------------------+----------------------------------------+---------------------+\n",
      "|build_year|        lat|living_area|       long|  municipality_name|zipcode|num_rooms|object_type_name| price|water_percentage_1000|travel_time_private_transport|travel_time_public_transport|number_of_buildings_in_hectare|number_of_apartments_in_hectare|number_of_workplaces_in_hectare|number_of_workplaces_sector_1_in_hectare|number_of_workplaces_sector_2_in_hectare|number_of_workplaces_sector_3_in_hectare|population_in_hectare|\n",
      "+----------+-----------+-----------+-----------+-------------------+-------+---------+----------------+------+---------------------+-----------------------------+----------------------------+------------------------------+-------------------------------+-------------------------------+----------------------------------------+----------------------------------------+----------------------------------------+---------------------+\n",
      "|      1990|47.00980759|        110|8.483789444|            Vitznau|   6354|        3|         Wohnung|815000|          0.400565383|                           35|                         102|                            10|                             26|                              7|                                       0|                                       0|                                       7|                   34|\n",
      "|      2017|46.87217712|        120| 9.88018322|   Klosters-Serneus|   7250|        3|         Wohnung|890000|          0.008272204|                           85|                         112|                             7|                             54|                              3|                                       0|                                       0|                                       3|                   44|\n",
      "|      2010|46.51917267|        107|6.525881767|        Préverenges|   1028|        4|         Wohnung|870000|          0.140533804|                            9|                          25|                             5|                             39|                              3|                                       0|                                       3|                                       0|                   89|\n",
      "|      2018|47.52134323|        103|8.536971092|             Bülach|   8180|        3|         Wohnung|829000|          0.003954127|                           14|                          18|                             2|                              2|                              3|                                       0|                                       3|                                       0|                    4|\n",
      "|      2007|46.51021576|         95|9.852426529|Celerina/Schlarigna|   7505|        3|         Wohnung|865000|          0.011115952|                          101|                         198|                             9|                             45|                              3|                                       0|                                       3|                                       3|                   85|\n",
      "+----------+-----------+-----------+-----------+-------------------+-------+---------+----------------+------+---------------------+-----------------------------+----------------------------+------------------------------+-------------------------------+-------------------------------+----------------------------------------+----------------------------------------+----------------------------------------+---------------------+\n",
      "only showing top 5 rows\n",
      "\n"
     ]
    }
   ],
   "source": [
    "house_df.filter((house_df.num_rooms>=3) & (house_df.num_rooms<=6)).show(5)"
   ]
  },
  {
   "cell_type": "code",
   "execution_count": 43,
   "metadata": {},
   "outputs": [
    {
     "name": "stdout",
     "output_type": "stream",
     "text": [
      "+----------+-----------+-----------+-----------+-----------------+-------+---------+----------------+-------+---------------------+-----------------------------+----------------------------+------------------------------+-------------------------------+-------------------------------+----------------------------------------+----------------------------------------+----------------------------------------+---------------------+\n",
      "|build_year|        lat|living_area|       long|municipality_name|zipcode|num_rooms|object_type_name|  price|water_percentage_1000|travel_time_private_transport|travel_time_public_transport|number_of_buildings_in_hectare|number_of_apartments_in_hectare|number_of_workplaces_in_hectare|number_of_workplaces_sector_1_in_hectare|number_of_workplaces_sector_2_in_hectare|number_of_workplaces_sector_3_in_hectare|population_in_hectare|\n",
      "+----------+-----------+-----------+-----------+-----------------+-------+---------+----------------+-------+---------------------+-----------------------------+----------------------------+------------------------------+-------------------------------+-------------------------------+----------------------------------------+----------------------------------------+----------------------------------------+---------------------+\n",
      "|      2013|46.21482468|        260|9.033567429|       Bellinzona|   6503|        9|       Sonstiges|1395000|          0.070289513|                           26|                          25|                             6|                              8|                              3|                                       0|                                       0|                                       3|                   25|\n",
      "|      1981|47.08975983|        340|  7.5865345|   Kirchberg (BE)|   3422|        8|       Sonstiges|1350000|          0.016264137|                           16|                          39|                             7|                             25|                              0|                                       0|                                       0|                                       0|                   43|\n",
      "|      1998|47.32530594|        315|8.199128151|          Seengen|   5707|        7|         Wohnung|1480000|          0.030235315|                           31|                          53|                             5|                             41|                              3|                                       0|                                       0|                                       3|                   89|\n",
      "|      1981| 46.3794899|        168|7.632205009|        Leukerbad|   3954|        7|         Wohnung|1220000|                  0.0|                           80|                         124|                             2|                             14|                              0|                                       0|                                       0|                                       0|                    0|\n",
      "|      1950|47.13293076|        160|8.137594223|          Nottwil|   6207|        7|       Sonstiges| 890000|          0.154618888|                           41|                          61|                             4|                             13|                              8|                                       3|                                       3|                                       5|                   24|\n",
      "+----------+-----------+-----------+-----------+-----------------+-------+---------+----------------+-------+---------------------+-----------------------------+----------------------------+------------------------------+-------------------------------+-------------------------------+----------------------------------------+----------------------------------------+----------------------------------------+---------------------+\n",
      "only showing top 5 rows\n",
      "\n"
     ]
    }
   ],
   "source": [
    "# to sort data, by default sorts in ascending order\n",
    "house_df.orderBy(house_df.num_rooms,ascending = False).show(5)"
   ]
  },
  {
   "cell_type": "code",
   "execution_count": 44,
   "metadata": {},
   "outputs": [
    {
     "name": "stdout",
     "output_type": "stream",
     "text": [
      "+----------+-----------+-----------+-----------+-----------------+-------+---------+----------------+-------+---------------------+-----------------------------+----------------------------+------------------------------+-------------------------------+-------------------------------+----------------------------------------+----------------------------------------+----------------------------------------+---------------------+\n",
      "|build_year|        lat|living_area|       long|municipality_name|zipcode|num_rooms|object_type_name|  price|water_percentage_1000|travel_time_private_transport|travel_time_public_transport|number_of_buildings_in_hectare|number_of_apartments_in_hectare|number_of_workplaces_in_hectare|number_of_workplaces_sector_1_in_hectare|number_of_workplaces_sector_2_in_hectare|number_of_workplaces_sector_3_in_hectare|population_in_hectare|\n",
      "+----------+-----------+-----------+-----------+-----------------+-------+---------+----------------+-------+---------------------+-----------------------------+----------------------------+------------------------------+-------------------------------+-------------------------------+----------------------------------------+----------------------------------------+----------------------------------------+---------------------+\n",
      "|      2015|47.10408401|        139| 8.67745018|      Rothenthurm|   6418|        6|         Wohnung| 830000|                  0.0|                           29|                          64|                            13|                             23|                              4|                                       0|                                       0|                                       4|                   39|\n",
      "|      2015|46.31029892|        180|7.513340473|         Randogne|   3975|        6|       Sonstiges|1255000|              5.53E-5|                           69|                         116|                             2|                             20|                              0|                                       0|                                       0|                                       0|                   13|\n",
      "|      2015|47.26880264|        180|8.483176231|  Aeugst am Albis|   8914|        5|         Wohnung|1250000|              6.94E-5|                           18|                          30|                            14|                             27|                              4|                                       0|                                       0|                                       4|                   60|\n",
      "|      2015|47.62506104|        195|9.240677834|    Münsterlingen|   8597|        5|         Wohnung|1150000|          0.063903175|                           46|                          96|                             5|                             11|                              4|                                       3|                                       0|                                       3|                   19|\n",
      "|      2015|47.46987534|        162|8.402927399|        Boppelsen|   8113|        5|       Sonstiges|1290000|           3.43293E-4|                           14|                          13|                            10|                             49|                              5|                                       0|                                       3|                                       4|                  109|\n",
      "|      2015| 47.5010376|        287|8.348413467|      Ehrendingen|   5420|        5|       Sonstiges|1490000|          0.005347793|                           23|                          39|                             7|                             23|                              3|                                       0|                                       0|                                       3|                   61|\n",
      "|      2015|47.41524506|        149|9.254723549|      Gossau (SG)|   9200|        5|         Wohnung|1170000|          0.001012563|                           42|                          64|                             3|                             17|                              3|                                       0|                                       3|                                       0|                   62|\n",
      "+----------+-----------+-----------+-----------+-----------------+-------+---------+----------------+-------+---------------------+-----------------------------+----------------------------+------------------------------+-------------------------------+-------------------------------+----------------------------------------+----------------------------------------+----------------------------------------+---------------------+\n",
      "only showing top 7 rows\n",
      "\n"
     ]
    }
   ],
   "source": [
    "house_df.filter(house_df.build_year == 2015).orderBy(house_df.num_rooms,ascending=False).show(7)"
   ]
  },
  {
   "cell_type": "code",
   "execution_count": 45,
   "metadata": {},
   "outputs": [
    {
     "name": "stdout",
     "output_type": "stream",
     "text": [
      "+----------+-----------+-----------+-----------+--------------------+-------+---------+----------------+------+---------------------+-----------------------------+----------------------------+------------------------------+-------------------------------+-------------------------------+----------------------------------------+----------------------------------------+----------------------------------------+---------------------+\n",
      "|build_year|        lat|living_area|       long|   municipality_name|zipcode|num_rooms|object_type_name| price|water_percentage_1000|travel_time_private_transport|travel_time_public_transport|number_of_buildings_in_hectare|number_of_apartments_in_hectare|number_of_workplaces_in_hectare|number_of_workplaces_sector_1_in_hectare|number_of_workplaces_sector_2_in_hectare|number_of_workplaces_sector_3_in_hectare|population_in_hectare|\n",
      "+----------+-----------+-----------+-----------+--------------------+-------+---------+----------------+------+---------------------+-----------------------------+----------------------------+------------------------------+-------------------------------+-------------------------------+----------------------------------------+----------------------------------------+----------------------------------------+---------------------+\n",
      "|      2015|47.39081192|        101|8.061793327|               Aarau|   5000|        2|         Wohnung|800000|           0.00191505|                           28|                          26|                             7|                             21|                              3|                                       0|                                       3|                                       0|                   45|\n",
      "|      2019|47.40680695|         65|8.560557365|              Zürich|   8050|        2|         Wohnung|990000|          0.003758925|                            0|                           0|                            13|                             52|                              3|                                       0|                                       0|                                       3|                  146|\n",
      "|      2018| 47.4246788|         82|  8.4006567|Oetwil an der Limmat|   8955|        2|         Wohnung|850000|          0.046031682|                           11|                          26|                             7|                             10|                              3|                                       0|                                       0|                                       3|                   29|\n",
      "|      2017|46.98397827|        108|9.570403099|              Malans|   7208|        2|         Wohnung|843180|                  0.0|                           59|                          76|                             4|                             12|                              0|                                       0|                                       0|                                       0|                   23|\n",
      "|      1977|46.79380798|         46|  9.8231287|               Davos|   7270|        2|         Wohnung|330000|          0.007664552|                           95|                         141|                             6|                             32|                              4|                                       0|                                       0|                                       4|                   37|\n",
      "+----------+-----------+-----------+-----------+--------------------+-------+---------+----------------+------+---------------------+-----------------------------+----------------------------+------------------------------+-------------------------------+-------------------------------+----------------------------------------+----------------------------------------+----------------------------------------+---------------------+\n",
      "only showing top 5 rows\n",
      "\n"
     ]
    }
   ],
   "source": [
    "house_df.orderBy(house_df.num_rooms).show(5)"
   ]
  },
  {
   "cell_type": "code",
   "execution_count": 46,
   "metadata": {},
   "outputs": [
    {
     "data": {
      "text/plain": [
       "41"
      ]
     },
     "execution_count": 46,
     "metadata": {},
     "output_type": "execute_result"
    }
   ],
   "source": [
    "house_df.filter(house_df.build_year == 2015).count()"
   ]
  },
  {
   "cell_type": "code",
   "execution_count": 47,
   "metadata": {},
   "outputs": [
    {
     "name": "stdout",
     "output_type": "stream",
     "text": [
      "+----------+-----+\n",
      "|build_year|count|\n",
      "+----------+-----+\n",
      "|      1829|    1|\n",
      "|      1990|   17|\n",
      "|      1975|    6|\n",
      "|      1977|    4|\n",
      "|      2003|   13|\n",
      "|      2007|   24|\n",
      "|      2018|  142|\n",
      "|      1974|    8|\n",
      "|      2015|   41|\n",
      "|      1871|    2|\n",
      "|      1019|    1|\n",
      "|      2006|   20|\n",
      "|      1978|    4|\n",
      "|      1925|    1|\n",
      "|      2013|   38|\n",
      "|      1785|    1|\n",
      "|      1956|    1|\n",
      "|      1997|    7|\n",
      "|      1988|    6|\n",
      "|      1994|    5|\n",
      "+----------+-----+\n",
      "only showing top 20 rows\n",
      "\n"
     ]
    }
   ],
   "source": [
    "# to group dataframe based on column\n",
    "house_df.groupBy(house_df.build_year).count().show()"
   ]
  },
  {
   "cell_type": "code",
   "execution_count": 48,
   "metadata": {},
   "outputs": [
    {
     "name": "stdout",
     "output_type": "stream",
     "text": [
      "+----------+---------+-----+\n",
      "|build_year|num_rooms|count|\n",
      "+----------+---------+-----+\n",
      "|      2020|        2|    1|\n",
      "|      2020|        3|    7|\n",
      "|      2020|        4|    7|\n",
      "|      2020|        5|    2|\n",
      "|      2019|        3|   17|\n",
      "+----------+---------+-----+\n",
      "only showing top 5 rows\n",
      "\n"
     ]
    }
   ],
   "source": [
    "house_df.groupBy(col('build_year'),col('num_rooms')).count().orderBy(col('build_year'),ascending=False).show(5)"
   ]
  },
  {
   "cell_type": "code",
   "execution_count": 49,
   "metadata": {},
   "outputs": [
    {
     "name": "stdout",
     "output_type": "stream",
     "text": [
      "+--------------------------+\n",
      "|sum(population_in_hectare)|\n",
      "+--------------------------+\n",
      "|                       393|\n",
      "+--------------------------+\n",
      "\n"
     ]
    }
   ],
   "source": [
    "house_df.filter(col('build_year')==2020).agg({'population_in_hectare':'sum'}).show()"
   ]
  },
  {
   "cell_type": "markdown",
   "metadata": {},
   "source": [
    "#### Performing SQL Queries"
   ]
  },
  {
   "cell_type": "code",
   "execution_count": 50,
   "metadata": {},
   "outputs": [],
   "source": [
    "# passing SQL queries directly to any dataframe\n",
    "# create table from dataframe\n",
    "house_df.registerTempTable('house_table') "
   ]
  },
  {
   "cell_type": "code",
   "execution_count": 51,
   "metadata": {},
   "outputs": [
    {
     "name": "stdout",
     "output_type": "stream",
     "text": [
      "+----------+-----------+-----------+-----------+-------------------+-------+---------+----------------+------+---------------------+-----------------------------+----------------------------+------------------------------+-------------------------------+-------------------------------+----------------------------------------+----------------------------------------+----------------------------------------+---------------------+\n",
      "|build_year|        lat|living_area|       long|  municipality_name|zipcode|num_rooms|object_type_name| price|water_percentage_1000|travel_time_private_transport|travel_time_public_transport|number_of_buildings_in_hectare|number_of_apartments_in_hectare|number_of_workplaces_in_hectare|number_of_workplaces_sector_1_in_hectare|number_of_workplaces_sector_2_in_hectare|number_of_workplaces_sector_3_in_hectare|population_in_hectare|\n",
      "+----------+-----------+-----------+-----------+-------------------+-------+---------+----------------+------+---------------------+-----------------------------+----------------------------+------------------------------+-------------------------------+-------------------------------+----------------------------------------+----------------------------------------+----------------------------------------+---------------------+\n",
      "|      1990|47.00980759|        110|8.483789444|            Vitznau|   6354|        3|         Wohnung|815000|          0.400565383|                           35|                         102|                            10|                             26|                              7|                                       0|                                       0|                                       7|                   34|\n",
      "|      2017|46.87217712|        120| 9.88018322|   Klosters-Serneus|   7250|        3|         Wohnung|890000|          0.008272204|                           85|                         112|                             7|                             54|                              3|                                       0|                                       0|                                       3|                   44|\n",
      "|      2010|46.51917267|        107|6.525881767|        Préverenges|   1028|        4|         Wohnung|870000|          0.140533804|                            9|                          25|                             5|                             39|                              3|                                       0|                                       3|                                       0|                   89|\n",
      "|      2018|47.52134323|        103|8.536971092|             Bülach|   8180|        3|         Wohnung|829000|          0.003954127|                           14|                          18|                             2|                              2|                              3|                                       0|                                       3|                                       0|                    4|\n",
      "|      2007|46.51021576|         95|9.852426529|Celerina/Schlarigna|   7505|        3|         Wohnung|865000|          0.011115952|                          101|                         198|                             9|                             45|                              3|                                       0|                                       3|                                       3|                   85|\n",
      "+----------+-----------+-----------+-----------+-------------------+-------+---------+----------------+------+---------------------+-----------------------------+----------------------------+------------------------------+-------------------------------+-------------------------------+----------------------------------------+----------------------------------------+----------------------------------------+---------------------+\n",
      "only showing top 5 rows\n",
      "\n"
     ]
    }
   ],
   "source": [
    "# pass sql query\n",
    "sqlContext.sql('select * from house_table').show(5)"
   ]
  },
  {
   "cell_type": "code",
   "execution_count": 52,
   "metadata": {},
   "outputs": [
    {
     "name": "stdout",
     "output_type": "stream",
     "text": [
      "+---------+\n",
      "|num_rooms|\n",
      "+---------+\n",
      "|        6|\n",
      "|        3|\n",
      "|        5|\n",
      "|        9|\n",
      "|        4|\n",
      "|        8|\n",
      "|        7|\n",
      "|        2|\n",
      "+---------+\n",
      "\n"
     ]
    }
   ],
   "source": [
    "sqlContext.sql('select distinct(num_rooms) from house_table').show()"
   ]
  },
  {
   "cell_type": "code",
   "execution_count": 53,
   "metadata": {},
   "outputs": [
    {
     "name": "stdout",
     "output_type": "stream",
     "text": [
      "+---------------+\n",
      "|max(build_year)|\n",
      "+---------------+\n",
      "|           2020|\n",
      "+---------------+\n",
      "\n"
     ]
    }
   ],
   "source": [
    "sqlContext.sql('select max(build_year) from house_table').show()"
   ]
  },
  {
   "cell_type": "code",
   "execution_count": null,
   "metadata": {},
   "outputs": [],
   "source": []
  },
  {
   "cell_type": "code",
   "execution_count": null,
   "metadata": {},
   "outputs": [],
   "source": []
  }
 ],
 "metadata": {
  "kernelspec": {
   "display_name": "Python",
   "language": "python",
   "name": "conda-env-python-py"
  },
  "language_info": {
   "codemirror_mode": {
    "name": "ipython",
    "version": 3
   },
   "file_extension": ".py",
   "mimetype": "text/x-python",
   "name": "python",
   "nbconvert_exporter": "python",
   "pygments_lexer": "ipython3",
   "version": "3.6.10"
  }
 },
 "nbformat": 4,
 "nbformat_minor": 4
}
