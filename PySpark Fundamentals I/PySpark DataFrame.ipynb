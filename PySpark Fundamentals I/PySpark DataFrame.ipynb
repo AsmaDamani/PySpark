{
 "cells": [
  {
   "cell_type": "code",
   "execution_count": 1,
   "metadata": {},
   "outputs": [
    {
     "name": "stdout",
     "output_type": "stream",
     "text": [
      "Requirement already satisfied: findspark in /home/jupyterlab/conda/envs/python/lib/python3.6/site-packages (1.3.0)\n",
      "Requirement already satisfied: pyspark in /home/jupyterlab/conda/envs/python/lib/python3.6/site-packages (2.4.5)\n",
      "Requirement already satisfied: py4j==0.10.7 in /home/jupyterlab/conda/envs/python/lib/python3.6/site-packages (from pyspark) (0.10.7)\n"
     ]
    }
   ],
   "source": [
    "!pip install findspark\n",
    "!pip install pyspark\n",
    "import findspark\n",
    "import pyspark\n",
    "findspark.init()\n",
    "sc = pyspark.SparkContext.getOrCreate()"
   ]
  },
  {
   "cell_type": "code",
   "execution_count": 2,
   "metadata": {},
   "outputs": [],
   "source": [
    "from pyspark.sql import *\n",
    "spark = SparkSession.builder.getOrCreate() "
   ]
  },
  {
   "cell_type": "code",
   "execution_count": 3,
   "metadata": {},
   "outputs": [],
   "source": [
    "# creating employee database with row function, column names\n",
    "Employee = Row(\"fisrtname\", \"lastname\", \"email\", \"salary\")"
   ]
  },
  {
   "cell_type": "code",
   "execution_count": 4,
   "metadata": {},
   "outputs": [
    {
     "data": {
      "text/plain": [
       "<Row(fisrtname, lastname, email, salary)>"
      ]
     },
     "execution_count": 4,
     "metadata": {},
     "output_type": "execute_result"
    }
   ],
   "source": [
    "Employee"
   ]
  },
  {
   "cell_type": "code",
   "execution_count": 5,
   "metadata": {},
   "outputs": [],
   "source": [
    "# create some employee data, same format\n",
    "employee1 = Employee('Basher', 'armbrust', 'bash@edureka.co', 100000)\n",
    "employee2 = Employee('Daniel', 'meng', 'daniel@stanford.edu', 120000)\n",
    "employee3 = Employee('Muriel', None, 'muriel@waterloo.edu', 140000)\n",
    "employee4 = Employee('Rachel', 'wendell', 'rach_3@edureka.co', 160000)\n",
    "employee5 = Employee('Zach', 'galifianakis', 'zach_g@edureka.co', 160000)"
   ]
  },
  {
   "cell_type": "code",
   "execution_count": 6,
   "metadata": {},
   "outputs": [
    {
     "name": "stdout",
     "output_type": "stream",
     "text": [
      "Row(fisrtname='Rachel', lastname='wendell', email='rach_3@edureka.co', salary=160000)\n"
     ]
    }
   ],
   "source": [
    "print(employee4)"
   ]
  },
  {
   "cell_type": "code",
   "execution_count": 7,
   "metadata": {},
   "outputs": [],
   "source": [
    "# department = Row(\"id\", \"name\")\n",
    "\n",
    "# department1 = department('123456','HR')\n",
    "# department2 = department('789012','OPS')\n",
    "# department3 = department('345678','FN')\n",
    "# department4 = department('901234','DEV')\n",
    "\n",
    "\n",
    "department1 = Row(id='123456', name='HR')\n",
    "department2 = Row(id='789012', name='OPS')\n",
    "department3 = Row(id='345678', name='FN')\n",
    "department4 = Row(id='901234', name='DEV')"
   ]
  },
  {
   "cell_type": "code",
   "execution_count": 8,
   "metadata": {},
   "outputs": [
    {
     "name": "stdout",
     "output_type": "stream",
     "text": [
      "Row(id='901234', name='DEV')\n"
     ]
    }
   ],
   "source": [
    "print(department4)"
   ]
  },
  {
   "cell_type": "code",
   "execution_count": 9,
   "metadata": {},
   "outputs": [],
   "source": [
    "departmentWithEmployee = Row(\"department\", \"Employees\")\n",
    "\n",
    "departmentWithEmployee_1 = departmentWithEmployee(department1, [employee1,employee2])\n",
    "departmentWithEmployee_2 = departmentWithEmployee(department2, [employee2,employee3,employee4])\n",
    "departmentWithEmployee_3 = departmentWithEmployee(department3, [employee4,employee1])\n",
    "departmentWithEmployee_4 = departmentWithEmployee(department4, [employee3])"
   ]
  },
  {
   "cell_type": "code",
   "execution_count": 10,
   "metadata": {},
   "outputs": [
    {
     "name": "stdout",
     "output_type": "stream",
     "text": [
      "Row(department=Row(id='789012', name='OPS'), Employees=[Row(fisrtname='Daniel', lastname='meng', email='daniel@stanford.edu', salary=120000), Row(fisrtname='Muriel', lastname=None, email='muriel@waterloo.edu', salary=140000), Row(fisrtname='Rachel', lastname='wendell', email='rach_3@edureka.co', salary=160000)])\n"
     ]
    }
   ],
   "source": [
    "print(departmentWithEmployee_2)"
   ]
  },
  {
   "cell_type": "code",
   "execution_count": 11,
   "metadata": {},
   "outputs": [],
   "source": [
    "departmentWithEmployee_df = [departmentWithEmployee_1, departmentWithEmployee_2]"
   ]
  },
  {
   "cell_type": "code",
   "execution_count": 12,
   "metadata": {},
   "outputs": [],
   "source": [
    "df = spark.createDataFrame(departmentWithEmployee_df)"
   ]
  },
  {
   "cell_type": "code",
   "execution_count": 13,
   "metadata": {},
   "outputs": [
    {
     "data": {
      "text/plain": [
       "DataFrame[department: struct<id:string,name:string>, Employees: array<struct<fisrtname:string,lastname:string,email:string,salary:bigint>>]"
      ]
     },
     "metadata": {},
     "output_type": "display_data"
    }
   ],
   "source": [
    "display(df)"
   ]
  },
  {
   "cell_type": "code",
   "execution_count": 14,
   "metadata": {},
   "outputs": [
    {
     "name": "stdout",
     "output_type": "stream",
     "text": [
      "+-------------+--------------------+\n",
      "|   department|           Employees|\n",
      "+-------------+--------------------+\n",
      "| [123456, HR]|[[Basher, armbrus...|\n",
      "|[789012, OPS]|[[Daniel, meng, d...|\n",
      "+-------------+--------------------+\n",
      "\n"
     ]
    }
   ],
   "source": [
    "df.show()"
   ]
  },
  {
   "cell_type": "code",
   "execution_count": 15,
   "metadata": {},
   "outputs": [
    {
     "data": {
      "text/plain": [
       "[Row(department=Row(id='123456', name='HR'), Employees=[Row(fisrtname='Basher', lastname='armbrust', email='bash@edureka.co', salary=100000), Row(fisrtname='Daniel', lastname='meng', email='daniel@stanford.edu', salary=120000)]),\n",
       " Row(department=Row(id='789012', name='OPS'), Employees=[Row(fisrtname='Daniel', lastname='meng', email='daniel@stanford.edu', salary=120000), Row(fisrtname='Muriel', lastname=None, email='muriel@waterloo.edu', salary=140000), Row(fisrtname='Rachel', lastname='wendell', email='rach_3@edureka.co', salary=160000)])]"
      ]
     },
     "execution_count": 15,
     "metadata": {},
     "output_type": "execute_result"
    }
   ],
   "source": [
    "df.collect()"
   ]
  },
  {
   "cell_type": "code",
   "execution_count": 16,
   "metadata": {},
   "outputs": [],
   "source": [
    "house_df = spark.read.csv(\"house_data.csv\", header = True)"
   ]
  },
  {
   "cell_type": "code",
   "execution_count": 17,
   "metadata": {},
   "outputs": [
    {
     "name": "stdout",
     "output_type": "stream",
     "text": [
      "+----------+-----------+-----------+-----------+-----------------+-------+---------+----------------+------+---------------------+-----------------------------+----------------------------+------------------------------+-------------------------------+-------------------------------+----------------------------------------+----------------------------------------+----------------------------------------+---------------------+\n",
      "|build_year|        lat|living_area|       long|municipality_name|zipcode|num_rooms|object_type_name| price|water_percentage_1000|travel_time_private_transport|travel_time_public_transport|number_of_buildings_in_hectare|number_of_apartments_in_hectare|number_of_workplaces_in_hectare|number_of_workplaces_sector_1_in_hectare|number_of_workplaces_sector_2_in_hectare|number_of_workplaces_sector_3_in_hectare|population_in_hectare|\n",
      "+----------+-----------+-----------+-----------+-----------------+-------+---------+----------------+------+---------------------+-----------------------------+----------------------------+------------------------------+-------------------------------+-------------------------------+----------------------------------------+----------------------------------------+----------------------------------------+---------------------+\n",
      "|      1990|47.00980759|        110|8.483789444|          Vitznau|   6354|        3|         Wohnung|815000|          0.400565383|                           35|                         102|                            10|                             26|                              7|                                       0|                                       0|                                       7|                   34|\n",
      "|      2017|46.87217712|        120| 9.88018322| Klosters-Serneus|   7250|        3|         Wohnung|890000|          0.008272204|                           85|                         112|                             7|                             54|                              3|                                       0|                                       0|                                       3|                   44|\n",
      "|      2010|46.51917267|        107|6.525881767|      Préverenges|   1028|        4|         Wohnung|870000|          0.140533804|                            9|                          25|                             5|                             39|                              3|                                       0|                                       3|                                       0|                   89|\n",
      "+----------+-----------+-----------+-----------+-----------------+-------+---------+----------------+------+---------------------+-----------------------------+----------------------------+------------------------------+-------------------------------+-------------------------------+----------------------------------------+----------------------------------------+----------------------------------------+---------------------+\n",
      "only showing top 3 rows\n",
      "\n"
     ]
    }
   ],
   "source": [
    "house_df.show(3)"
   ]
  },
  {
   "cell_type": "code",
   "execution_count": 18,
   "metadata": {},
   "outputs": [
    {
     "name": "stdout",
     "output_type": "stream",
     "text": [
      "root\n",
      " |-- build_year: string (nullable = true)\n",
      " |-- lat: string (nullable = true)\n",
      " |-- living_area: string (nullable = true)\n",
      " |-- long: string (nullable = true)\n",
      " |-- municipality_name: string (nullable = true)\n",
      " |-- zipcode: string (nullable = true)\n",
      " |-- num_rooms: string (nullable = true)\n",
      " |-- object_type_name: string (nullable = true)\n",
      " |-- price: string (nullable = true)\n",
      " |-- water_percentage_1000: string (nullable = true)\n",
      " |-- travel_time_private_transport: string (nullable = true)\n",
      " |-- travel_time_public_transport: string (nullable = true)\n",
      " |-- number_of_buildings_in_hectare: string (nullable = true)\n",
      " |-- number_of_apartments_in_hectare: string (nullable = true)\n",
      " |-- number_of_workplaces_in_hectare: string (nullable = true)\n",
      " |-- number_of_workplaces_sector_1_in_hectare: string (nullable = true)\n",
      " |-- number_of_workplaces_sector_2_in_hectare: string (nullable = true)\n",
      " |-- number_of_workplaces_sector_3_in_hectare: string (nullable = true)\n",
      " |-- population_in_hectare: string (nullable = true)\n",
      "\n"
     ]
    }
   ],
   "source": [
    "house_df.printSchema()"
   ]
  },
  {
   "cell_type": "code",
   "execution_count": 19,
   "metadata": {},
   "outputs": [
    {
     "data": {
      "text/plain": [
       "['build_year',\n",
       " 'lat',\n",
       " 'living_area',\n",
       " 'long',\n",
       " 'municipality_name',\n",
       " 'zipcode',\n",
       " 'num_rooms',\n",
       " 'object_type_name',\n",
       " 'price',\n",
       " 'water_percentage_1000',\n",
       " 'travel_time_private_transport',\n",
       " 'travel_time_public_transport',\n",
       " 'number_of_buildings_in_hectare',\n",
       " 'number_of_apartments_in_hectare',\n",
       " 'number_of_workplaces_in_hectare',\n",
       " 'number_of_workplaces_sector_1_in_hectare',\n",
       " 'number_of_workplaces_sector_2_in_hectare',\n",
       " 'number_of_workplaces_sector_3_in_hectare',\n",
       " 'population_in_hectare']"
      ]
     },
     "execution_count": 19,
     "metadata": {},
     "output_type": "execute_result"
    }
   ],
   "source": [
    "house_df.columns"
   ]
  },
  {
   "cell_type": "code",
   "execution_count": 20,
   "metadata": {},
   "outputs": [
    {
     "data": {
      "text/plain": [
       "999"
      ]
     },
     "execution_count": 20,
     "metadata": {},
     "output_type": "execute_result"
    }
   ],
   "source": [
    "house_df.count()"
   ]
  },
  {
   "cell_type": "code",
   "execution_count": 21,
   "metadata": {},
   "outputs": [
    {
     "data": {
      "text/plain": [
       "19"
      ]
     },
     "execution_count": 21,
     "metadata": {},
     "output_type": "execute_result"
    }
   ],
   "source": [
    "len(house_df.columns)"
   ]
  },
  {
   "cell_type": "code",
   "execution_count": 22,
   "metadata": {},
   "outputs": [
    {
     "name": "stdout",
     "output_type": "stream",
     "text": [
      "+-------+------------------+\n",
      "|summary|         num_rooms|\n",
      "+-------+------------------+\n",
      "|  count|               999|\n",
      "|   mean| 4.078078078078078|\n",
      "| stddev|0.9075004264229438|\n",
      "|    min|                 2|\n",
      "|    max|                 9|\n",
      "+-------+------------------+\n",
      "\n"
     ]
    }
   ],
   "source": [
    "house_df.describe('num_rooms').show()"
   ]
  },
  {
   "cell_type": "code",
   "execution_count": 23,
   "metadata": {},
   "outputs": [
    {
     "data": {
      "text/plain": [
       "pyspark.sql.dataframe.DataFrame"
      ]
     },
     "execution_count": 23,
     "metadata": {},
     "output_type": "execute_result"
    }
   ],
   "source": [
    "type(house_df)"
   ]
  },
  {
   "cell_type": "code",
   "execution_count": 24,
   "metadata": {},
   "outputs": [
    {
     "name": "stdout",
     "output_type": "stream",
     "text": [
      "+-----------+-----------+\n",
      "|        lat|       long|\n",
      "+-----------+-----------+\n",
      "|47.00980759|8.483789444|\n",
      "|46.87217712| 9.88018322|\n",
      "|46.51917267|6.525881767|\n",
      "|47.52134323|8.536971092|\n",
      "|46.51021576|9.852426529|\n",
      "+-----------+-----------+\n",
      "only showing top 5 rows\n",
      "\n"
     ]
    }
   ],
   "source": [
    "house_df.select('lat','long').show(5)"
   ]
  },
  {
   "cell_type": "code",
   "execution_count": 25,
   "metadata": {},
   "outputs": [
    {
     "name": "stdout",
     "output_type": "stream",
     "text": [
      "+----------+-----------+-----------+-----------+-----------------+-------+---------+----------------+------+---------------------+-----------------------------+----------------------------+------------------------------+-------------------------------+-------------------------------+----------------------------------------+----------------------------------------+----------------------------------------+---------------------+\n",
      "|build_year|        lat|living_area|       long|municipality_name|zipcode|num_rooms|object_type_name| price|water_percentage_1000|travel_time_private_transport|travel_time_public_transport|number_of_buildings_in_hectare|number_of_apartments_in_hectare|number_of_workplaces_in_hectare|number_of_workplaces_sector_1_in_hectare|number_of_workplaces_sector_2_in_hectare|number_of_workplaces_sector_3_in_hectare|population_in_hectare|\n",
      "+----------+-----------+-----------+-----------+-----------------+-------+---------+----------------+------+---------------------+-----------------------------+----------------------------+------------------------------+-------------------------------+-------------------------------+----------------------------------------+----------------------------------------+----------------------------------------+---------------------+\n",
      "|      2015|46.12470627|         85|8.712854385|         Brissago|   6614|        3|         Wohnung|999000|          0.348834175|                           41|                          89|                            15|                             36|                              3|                                       0|                                       0|                                       3|                   21|\n",
      "+----------+-----------+-----------+-----------+-----------------+-------+---------+----------------+------+---------------------+-----------------------------+----------------------------+------------------------------+-------------------------------+-------------------------------+----------------------------------------+----------------------------------------+----------------------------------------+---------------------+\n",
      "\n"
     ]
    }
   ],
   "source": [
    "house_df.filter(house_df.price == 999000).show()"
   ]
  },
  {
   "cell_type": "code",
   "execution_count": 26,
   "metadata": {},
   "outputs": [
    {
     "name": "stdout",
     "output_type": "stream",
     "text": [
      "+---------+\n",
      "|num_rooms|\n",
      "+---------+\n",
      "|        3|\n",
      "|        3|\n",
      "|        4|\n",
      "|        3|\n",
      "|        3|\n",
      "|        4|\n",
      "|        4|\n",
      "|        3|\n",
      "|        3|\n",
      "|        4|\n",
      "+---------+\n",
      "only showing top 10 rows\n",
      "\n"
     ]
    }
   ],
   "source": [
    "house_df.select('num_rooms').show(10)"
   ]
  },
  {
   "cell_type": "code",
   "execution_count": 27,
   "metadata": {},
   "outputs": [
    {
     "name": "stdout",
     "output_type": "stream",
     "text": [
      "+---------+\n",
      "|num_rooms|\n",
      "+---------+\n",
      "|        7|\n",
      "|        3|\n",
      "|        8|\n",
      "|        5|\n",
      "|        6|\n",
      "|        9|\n",
      "|        4|\n",
      "|        2|\n",
      "+---------+\n",
      "\n"
     ]
    }
   ],
   "source": [
    "house_df.select('num_rooms').distinct().show()"
   ]
  },
  {
   "cell_type": "code",
   "execution_count": 28,
   "metadata": {},
   "outputs": [
    {
     "data": {
      "text/plain": [
       "8"
      ]
     },
     "execution_count": 28,
     "metadata": {},
     "output_type": "execute_result"
    }
   ],
   "source": [
    "house_df.filter(house_df.num_rooms==7).count()"
   ]
  },
  {
   "cell_type": "code",
   "execution_count": 29,
   "metadata": {},
   "outputs": [
    {
     "name": "stdout",
     "output_type": "stream",
     "text": [
      "+----------+-----------+-----------+-----------+-------------------+-------+---------+----------------+------+---------------------+-----------------------------+----------------------------+------------------------------+-------------------------------+-------------------------------+----------------------------------------+----------------------------------------+----------------------------------------+---------------------+\n",
      "|build_year|        lat|living_area|       long|  municipality_name|zipcode|num_rooms|object_type_name| price|water_percentage_1000|travel_time_private_transport|travel_time_public_transport|number_of_buildings_in_hectare|number_of_apartments_in_hectare|number_of_workplaces_in_hectare|number_of_workplaces_sector_1_in_hectare|number_of_workplaces_sector_2_in_hectare|number_of_workplaces_sector_3_in_hectare|population_in_hectare|\n",
      "+----------+-----------+-----------+-----------+-------------------+-------+---------+----------------+------+---------------------+-----------------------------+----------------------------+------------------------------+-------------------------------+-------------------------------+----------------------------------------+----------------------------------------+----------------------------------------+---------------------+\n",
      "|      1990|47.00980759|        110|8.483789444|            Vitznau|   6354|        3|         Wohnung|815000|          0.400565383|                           35|                         102|                            10|                             26|                              7|                                       0|                                       0|                                       7|                   34|\n",
      "|      2017|46.87217712|        120| 9.88018322|   Klosters-Serneus|   7250|        3|         Wohnung|890000|          0.008272204|                           85|                         112|                             7|                             54|                              3|                                       0|                                       0|                                       3|                   44|\n",
      "|      2010|46.51917267|        107|6.525881767|        Préverenges|   1028|        4|         Wohnung|870000|          0.140533804|                            9|                          25|                             5|                             39|                              3|                                       0|                                       3|                                       0|                   89|\n",
      "|      2018|47.52134323|        103|8.536971092|             Bülach|   8180|        3|         Wohnung|829000|          0.003954127|                           14|                          18|                             2|                              2|                              3|                                       0|                                       3|                                       0|                    4|\n",
      "|      2007|46.51021576|         95|9.852426529|Celerina/Schlarigna|   7505|        3|         Wohnung|865000|          0.011115952|                          101|                         198|                             9|                             45|                              3|                                       0|                                       3|                                       3|                   85|\n",
      "|      2015|47.53541946|        112|7.710394859|              Augst|   4302|        4|         Wohnung|849000|          0.081795298|                           10|                          16|                             3|                             30|                              3|                                       0|                                       0|                                       3|                   69|\n",
      "|      2016|47.44316864|        119| 8.67109108|             Lindau|   8315|        4|         Wohnung|840000|                    0|                           13|                          24|                             2|                             11|                              0|                                       0|                                       0|                                       0|                   10|\n",
      "|      1978|47.53750229|         96|7.571207523|          Binningen|   4102|        3|         Wohnung|895000|          0.004377133|                            4|                          10|                             8|                             50|                             17|                                       0|                                       0|                                      17|                  110|\n",
      "|      1990|46.86417389|        127|9.881011963|   Klosters-Serneus|   7250|        3|         Wohnung|865000|          0.014617055|                           85|                         112|                             7|                             39|                              3|                                       0|                                       0|                                       3|                   28|\n",
      "|      2008|47.11698914|        110|8.775629997|         Einsiedeln|   8841|        4|         Wohnung|870000|          0.376262177|                           27|                          42|                             6|                             29|                              3|                                       0|                                       0|                                       3|                   54|\n",
      "|      2018|46.46045303|        118|6.208910942|    Arzier-Le Muids|   1273|        4|         Wohnung|847000|                    0|                           27|                          45|                             6|                             26|                              7|                                       0|                                       0|                                       7|                   61|\n",
      "|      2015|47.62913895|        137|9.247052193|      Münsterlingen|   8597|        4|         Wohnung|890000|          0.420068675|                           46|                          96|                             6|                             12|                              0|                                       0|                                       0|                                       0|                   25|\n",
      "|      2017|46.67969513|        109|7.665390015|              Spiez|   3700|        4|         Wohnung|870000|          0.020692061|                           23|                          34|                             3|                              5|                              0|                                       0|                                       0|                                       0|                    6|\n",
      "|      2018|46.87598801|        177|7.638694763|      Niederhünigen|   3504|        5|         Wohnung|710000|                    0|                           15|                          36|                             2|                              6|                              0|                                       0|                                       0|                                       0|                    5|\n",
      "|      1973|46.79772186|        100|9.821581841|              Davos|   7270|        5|         Wohnung|765000|           0.00648411|                           95|                         141|                             5|                             40|                              0|                                       0|                                       0|                                       0|                   20|\n",
      "|      2005|46.79140091|        104|9.262372017|             Sagogn|   7152|        4|         Wohnung|852000|          0.168258667|                           84|                         137|                             7|                             13|                              0|                                       0|                                       0|                                       0|                   16|\n",
      "|      1967| 46.2977066|         92|7.054903507|              Ollon|   1884|        3|         Wohnung|895000|                    0|                           39|                          45|                             7|                             25|                             13|                                       0|                                       3|                                      12|                   27|\n",
      "|      2017|47.55044937|        130|  9.1484375|       Bürglen (TG)|   8575|        4|         Wohnung|893000|          0.129177712|                           41|                          62|                             3|                             17|                              3|                                       0|                                       3|                                       0|                   22|\n",
      "|      2017|46.88021851|        117|  8.6463871|       Altdorf (UR)|   6460|        3|         Wohnung|880000|                    0|                           49|                          87|                             6|                             40|                              6|                                       0|                                       3|                                       5|                   55|\n",
      "|         1|46.10593414|         73|7.228157043|             Bagnes|   1936|        3|         Wohnung|890000|          0.000268458|                           59|                          86|                             4|                             21|                              0|                                       0|                                       0|                                       0|                    3|\n",
      "+----------+-----------+-----------+-----------+-------------------+-------+---------+----------------+------+---------------------+-----------------------------+----------------------------+------------------------------+-------------------------------+-------------------------------+----------------------------------------+----------------------------------------+----------------------------------------+---------------------+\n",
      "only showing top 20 rows\n",
      "\n"
     ]
    }
   ],
   "source": [
    "house_df.filter((house_df.num_rooms>=3) & (house_df.num_rooms<=6)).show()"
   ]
  },
  {
   "cell_type": "code",
   "execution_count": 30,
   "metadata": {},
   "outputs": [
    {
     "name": "stdout",
     "output_type": "stream",
     "text": [
      "+----------+-----------+-----------+-----------+-----------------+-------+---------+----------------+-------+---------------------+-----------------------------+----------------------------+------------------------------+-------------------------------+-------------------------------+----------------------------------------+----------------------------------------+----------------------------------------+---------------------+\n",
      "|build_year|        lat|living_area|       long|municipality_name|zipcode|num_rooms|object_type_name|  price|water_percentage_1000|travel_time_private_transport|travel_time_public_transport|number_of_buildings_in_hectare|number_of_apartments_in_hectare|number_of_workplaces_in_hectare|number_of_workplaces_sector_1_in_hectare|number_of_workplaces_sector_2_in_hectare|number_of_workplaces_sector_3_in_hectare|population_in_hectare|\n",
      "+----------+-----------+-----------+-----------+-----------------+-------+---------+----------------+-------+---------------------+-----------------------------+----------------------------+------------------------------+-------------------------------+-------------------------------+----------------------------------------+----------------------------------------+----------------------------------------+---------------------+\n",
      "|      2013|46.21482468|        260|9.033567429|       Bellinzona|   6503|        9|       Sonstiges|1395000|          0.070289513|                           26|                          25|                             6|                              8|                              3|                                       0|                                       0|                                       3|                   25|\n",
      "|      1981|47.08975983|        340|  7.5865345|   Kirchberg (BE)|   3422|        8|       Sonstiges|1350000|          0.016264137|                           16|                          39|                             7|                             25|                              0|                                       0|                                       0|                                       0|                   43|\n",
      "|      1998|47.32530594|        315|8.199128151|          Seengen|   5707|        7|         Wohnung|1480000|          0.030235315|                           31|                          53|                             5|                             41|                              3|                                       0|                                       0|                                       3|                   89|\n",
      "|      1981| 46.3794899|        168|7.632205009|        Leukerbad|   3954|        7|         Wohnung|1220000|                    0|                           80|                         124|                             2|                             14|                              0|                                       0|                                       0|                                       0|                    0|\n",
      "|      1950|47.13293076|        160|8.137594223|          Nottwil|   6207|        7|       Sonstiges| 890000|          0.154618888|                           41|                          61|                             4|                             13|                              8|                                       3|                                       3|                                       5|                   24|\n",
      "+----------+-----------+-----------+-----------+-----------------+-------+---------+----------------+-------+---------------------+-----------------------------+----------------------------+------------------------------+-------------------------------+-------------------------------+----------------------------------------+----------------------------------------+----------------------------------------+---------------------+\n",
      "only showing top 5 rows\n",
      "\n"
     ]
    }
   ],
   "source": [
    "house_df.orderBy(house_df.num_rooms,ascending = False).show(5)"
   ]
  },
  {
   "cell_type": "code",
   "execution_count": 31,
   "metadata": {},
   "outputs": [
    {
     "name": "stdout",
     "output_type": "stream",
     "text": [
      "+----------+-----------+-----------+-----------+--------------------+-------+---------+----------------+------+---------------------+-----------------------------+----------------------------+------------------------------+-------------------------------+-------------------------------+----------------------------------------+----------------------------------------+----------------------------------------+---------------------+\n",
      "|build_year|        lat|living_area|       long|   municipality_name|zipcode|num_rooms|object_type_name| price|water_percentage_1000|travel_time_private_transport|travel_time_public_transport|number_of_buildings_in_hectare|number_of_apartments_in_hectare|number_of_workplaces_in_hectare|number_of_workplaces_sector_1_in_hectare|number_of_workplaces_sector_2_in_hectare|number_of_workplaces_sector_3_in_hectare|population_in_hectare|\n",
      "+----------+-----------+-----------+-----------+--------------------+-------+---------+----------------+------+---------------------+-----------------------------+----------------------------+------------------------------+-------------------------------+-------------------------------+----------------------------------------+----------------------------------------+----------------------------------------+---------------------+\n",
      "|      2015|47.39081192|        101|8.061793327|               Aarau|   5000|        2|         Wohnung|800000|           0.00191505|                           28|                          26|                             7|                             21|                              3|                                       0|                                       3|                                       0|                   45|\n",
      "|      2019|47.40680695|         65|8.560557365|              Zürich|   8050|        2|         Wohnung|990000|          0.003758925|                            0|                           0|                            13|                             52|                              3|                                       0|                                       0|                                       3|                  146|\n",
      "|      2018| 47.4246788|         82|  8.4006567|Oetwil an der Limmat|   8955|        2|         Wohnung|850000|          0.046031682|                           11|                          26|                             7|                             10|                              3|                                       0|                                       0|                                       3|                   29|\n",
      "|      2017|46.98397827|        108|9.570403099|              Malans|   7208|        2|         Wohnung|843180|                    0|                           59|                          76|                             4|                             12|                              0|                                       0|                                       0|                                       0|                   23|\n",
      "|      1977|46.79380798|         46|  9.8231287|               Davos|   7270|        2|         Wohnung|330000|          0.007664552|                           95|                         141|                             6|                             32|                              4|                                       0|                                       0|                                       4|                   37|\n",
      "+----------+-----------+-----------+-----------+--------------------+-------+---------+----------------+------+---------------------+-----------------------------+----------------------------+------------------------------+-------------------------------+-------------------------------+----------------------------------------+----------------------------------------+----------------------------------------+---------------------+\n",
      "only showing top 5 rows\n",
      "\n"
     ]
    }
   ],
   "source": [
    "house_df.orderBy(house_df.num_rooms).show(5)"
   ]
  },
  {
   "cell_type": "code",
   "execution_count": null,
   "metadata": {},
   "outputs": [],
   "source": []
  }
 ],
 "metadata": {
  "kernelspec": {
   "display_name": "Python",
   "language": "python",
   "name": "conda-env-python-py"
  },
  "language_info": {
   "codemirror_mode": {
    "name": "ipython",
    "version": 3
   },
   "file_extension": ".py",
   "mimetype": "text/x-python",
   "name": "python",
   "nbconvert_exporter": "python",
   "pygments_lexer": "ipython3",
   "version": "3.6.10"
  }
 },
 "nbformat": 4,
 "nbformat_minor": 4
}
