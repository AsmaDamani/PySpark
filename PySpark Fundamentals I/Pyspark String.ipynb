{
 "cells": [
  {
   "cell_type": "code",
   "execution_count": 1,
   "metadata": {},
   "outputs": [
    {
     "name": "stdout",
     "output_type": "stream",
     "text": [
      "Requirement already satisfied: findspark in /home/jupyterlab/conda/envs/python/lib/python3.6/site-packages (1.3.0)\n",
      "Requirement already satisfied: pyspark in /home/jupyterlab/conda/envs/python/lib/python3.6/site-packages (2.4.5)\n",
      "Requirement already satisfied: py4j==0.10.7 in /home/jupyterlab/conda/envs/python/lib/python3.6/site-packages (from pyspark) (0.10.7)\n"
     ]
    }
   ],
   "source": [
    "!pip install findspark\n",
    "!pip install pyspark\n",
    "import findspark\n",
    "import pyspark\n",
    "from pyspark.sql.functions import *\n",
    "from pyspark.sql import *\n",
    "from pyspark.sql.types import *\n",
    "spark = SparkSession.builder.getOrCreate() \n",
    "findspark.init()\n",
    "sc = pyspark.SparkContext.getOrCreate()\n",
    "sqlContext = SQLContext(sc)"
   ]
  },
  {
   "cell_type": "code",
   "execution_count": 2,
   "metadata": {},
   "outputs": [
    {
     "name": "stdout",
     "output_type": "stream",
     "text": [
      "+------+------+\n",
      "|     a|     b|\n",
      "+------+------+\n",
      "| 00100|  0010|\n",
      "|003000|   002|\n",
      "| 05000| 00200|\n",
      "|  asma|Rehman|\n",
      "|  zara|Rehman|\n",
      "|  saif|Rehman|\n",
      "|     4|     1|\n",
      "|     7|     8|\n",
      "+------+------+\n",
      "\n"
     ]
    }
   ],
   "source": [
    "df = sqlContext.createDataFrame( [(\"00100\",\"0010\"),(\"003000\",\"002\"),(\"05000\",\"00200\"),(\"asma\",\"Rehman\"),(\"zara\",\"Rehman\"),(\"saif\",\"Rehman\"),(\"4\",\"1\"),(\"7\",\"8\")], \n",
    "                                 [\"a\", \"b\"] )\n",
    "df.show()"
   ]
  },
  {
   "cell_type": "code",
   "execution_count": 3,
   "metadata": {},
   "outputs": [
    {
     "name": "stdout",
     "output_type": "stream",
     "text": [
      "+------+------+-------+\n",
      "|     a|     b|row_num|\n",
      "+------+------+-------+\n",
      "| 00100|  0010|      1|\n",
      "|003000|   002|      2|\n",
      "| 05000| 00200|      3|\n",
      "|     4|     1|      4|\n",
      "|     7|     8|      5|\n",
      "|  asma|Rehman|      6|\n",
      "|  saif|Rehman|      7|\n",
      "|  zara|Rehman|      8|\n",
      "+------+------+-------+\n",
      "\n"
     ]
    }
   ],
   "source": [
    "df = df.withColumn('row_num',row_number().over(Window.partitionBy().orderBy(\"a\")))\n",
    "df.show()"
   ]
  },
  {
   "cell_type": "code",
   "execution_count": 4,
   "metadata": {},
   "outputs": [
    {
     "name": "stdout",
     "output_type": "stream",
     "text": [
      "+------+-----+-------+\n",
      "|     a|    b|row_num|\n",
      "+------+-----+-------+\n",
      "| 00100| 0010|      1|\n",
      "|003000|  002|      2|\n",
      "| 05000|00200|      3|\n",
      "|     4|    1|      4|\n",
      "|     7|    8|      5|\n",
      "+------+-----+-------+\n",
      "\n"
     ]
    }
   ],
   "source": [
    "df_int = df.where(col('row_num').between(1,5))\n",
    "df_int.show()"
   ]
  },
  {
   "cell_type": "code",
   "execution_count": 5,
   "metadata": {},
   "outputs": [
    {
     "name": "stdout",
     "output_type": "stream",
     "text": [
      "+------+-----+-------+---------------------+---------------------+\n",
      "|a     |b    |row_num|a_remove leading zero|b_remove_leading_zero|\n",
      "+------+-----+-------+---------------------+---------------------+\n",
      "|00100 |0010 |1      |100                  |10                   |\n",
      "|003000|002  |2      |3000                 |2                    |\n",
      "|05000 |00200|3      |5000                 |200                  |\n",
      "|4     |1    |4      |4                    |1                    |\n",
      "|7     |8    |5      |7                    |8                    |\n",
      "+------+-----+-------+---------------------+---------------------+\n",
      "\n"
     ]
    }
   ],
   "source": [
    "# Remove leading zero of column\n",
    "df_int= df_int.withColumn('a_remove leading zero', regexp_replace('a', '^0*', '').cast(IntegerType()))\\\n",
    ".withColumn('b_remove_leading_zero',regexp_replace('b','^0*',\"\").cast(IntegerType()))\n",
    "\n",
    "df_int.show(truncate = False)"
   ]
  },
  {
   "cell_type": "code",
   "execution_count": 6,
   "metadata": {},
   "outputs": [
    {
     "name": "stdout",
     "output_type": "stream",
     "text": [
      "root\n",
      " |-- a: string (nullable = true)\n",
      " |-- b: string (nullable = true)\n",
      " |-- row_num: integer (nullable = true)\n",
      " |-- a_remove leading zero: integer (nullable = true)\n",
      " |-- b_remove_leading_zero: integer (nullable = true)\n",
      "\n"
     ]
    }
   ],
   "source": [
    "df_int.printSchema()"
   ]
  },
  {
   "cell_type": "code",
   "execution_count": 7,
   "metadata": {},
   "outputs": [],
   "source": [
    "df_string = df.where(col('row_num').between(6,df.count()))"
   ]
  },
  {
   "cell_type": "code",
   "execution_count": 8,
   "metadata": {},
   "outputs": [],
   "source": [
    "df_string=df_string.drop('row_num')"
   ]
  },
  {
   "cell_type": "code",
   "execution_count": 9,
   "metadata": {},
   "outputs": [
    {
     "name": "stdout",
     "output_type": "stream",
     "text": [
      "+----+------+\n",
      "|   a|     b|\n",
      "+----+------+\n",
      "|asma|Rehman|\n",
      "|saif|Rehman|\n",
      "|zara|Rehman|\n",
      "+----+------+\n",
      "\n"
     ]
    }
   ],
   "source": [
    "df_string.show()"
   ]
  },
  {
   "cell_type": "code",
   "execution_count": 10,
   "metadata": {},
   "outputs": [
    {
     "name": "stdout",
     "output_type": "stream",
     "text": [
      "+----+------+---------+\n",
      "|   a|     b|a_leftpad|\n",
      "+----+------+---------+\n",
      "|asma|Rehman| ####asma|\n",
      "|saif|Rehman| ####saif|\n",
      "|zara|Rehman| ####zara|\n",
      "+----+------+---------+\n",
      "\n"
     ]
    }
   ],
   "source": [
    "# left pad of the column\n",
    "df_string = df_string.withColumn('a_leftpad', lpad(df_string.a,8,'#'))\n",
    "df_string.show()"
   ]
  },
  {
   "cell_type": "code",
   "execution_count": 11,
   "metadata": {},
   "outputs": [
    {
     "name": "stdout",
     "output_type": "stream",
     "text": [
      "+----+------+---------+----------+\n",
      "|   a|     b|a_leftpad|a_rightpad|\n",
      "+----+------+---------+----------+\n",
      "|asma|Rehman| ####asma|  asma####|\n",
      "|saif|Rehman| ####saif|  saif####|\n",
      "|zara|Rehman| ####zara|  zara####|\n",
      "+----+------+---------+----------+\n",
      "\n"
     ]
    }
   ],
   "source": [
    "# right pad of the column\n",
    "df_string = df_string.withColumn('a_rightpad', rpad(df_string.a,8,'#'))\n",
    "df_string.show()"
   ]
  },
  {
   "cell_type": "code",
   "execution_count": 12,
   "metadata": {},
   "outputs": [
    {
     "name": "stdout",
     "output_type": "stream",
     "text": [
      "+----+------+---------+----------+\n",
      "|a   |b     |a_leftpad|a_rightpad|\n",
      "+----+------+---------+----------+\n",
      "|asma|Rehman|    asma |asma####  |\n",
      "|saif|Rehman|    saif |saif####  |\n",
      "|zara|Rehman|    zara |zara####  |\n",
      "+----+------+---------+----------+\n",
      "\n"
     ]
    }
   ],
   "source": [
    "# left pad of the column\n",
    "df_string = df_string.withColumn('a_leftpad', lpad(df_string.a,8,' '))\n",
    "df_string.show(truncate = False)"
   ]
  },
  {
   "cell_type": "code",
   "execution_count": 13,
   "metadata": {},
   "outputs": [
    {
     "name": "stdout",
     "output_type": "stream",
     "text": [
      "+----+------+---------+----------+\n",
      "|a   |b     |a_leftpad|a_rightpad|\n",
      "+----+------+---------+----------+\n",
      "|asma|Rehman|    asma |asma      |\n",
      "|saif|Rehman|    saif |saif      |\n",
      "|zara|Rehman|    zara |zara      |\n",
      "+----+------+---------+----------+\n",
      "\n"
     ]
    }
   ],
   "source": [
    "df_string = df_string.withColumn('a_rightpad', rpad(df_string.a,8,' '))\n",
    "df_string.show(truncate = False)"
   ]
  },
  {
   "cell_type": "code",
   "execution_count": 14,
   "metadata": {},
   "outputs": [
    {
     "name": "stdout",
     "output_type": "stream",
     "text": [
      "+----+------+---------+----------+------+\n",
      "|a   |b     |a_leftpad|a_rightpad|a_trim|\n",
      "+----+------+---------+----------+------+\n",
      "|asma|Rehman|    asma |asma      |asma  |\n",
      "|saif|Rehman|    saif |saif      |saif  |\n",
      "|zara|Rehman|    zara |zara      |zara  |\n",
      "+----+------+---------+----------+------+\n",
      "\n"
     ]
    }
   ],
   "source": [
    "# Remove leading and trailing space\n",
    "df_string = df_string.withColumn('a_trim', trim(df_string.a))\n",
    "df_string.show(truncate = False)"
   ]
  },
  {
   "cell_type": "code",
   "execution_count": 15,
   "metadata": {},
   "outputs": [],
   "source": [
    "df_names = sqlContext.createDataFrame( [(\"asma rehman\",),(\"zara rehman\",)], [\"names\"] )"
   ]
  },
  {
   "cell_type": "code",
   "execution_count": 16,
   "metadata": {},
   "outputs": [
    {
     "name": "stdout",
     "output_type": "stream",
     "text": [
      "+-----------+\n",
      "|      names|\n",
      "+-----------+\n",
      "|asma rehman|\n",
      "|zara rehman|\n",
      "+-----------+\n",
      "\n"
     ]
    }
   ],
   "source": [
    "df_names.show()"
   ]
  },
  {
   "cell_type": "code",
   "execution_count": 17,
   "metadata": {},
   "outputs": [
    {
     "name": "stdout",
     "output_type": "stream",
     "text": [
      "+-----------+----------+---------+\n",
      "|      names|first_name|last_name|\n",
      "+-----------+----------+---------+\n",
      "|asma rehman|      asma|   rehman|\n",
      "|zara rehman|      zara|   rehman|\n",
      "+-----------+----------+---------+\n",
      "\n"
     ]
    }
   ],
   "source": [
    "# String Split of the column\n",
    "df_names = df_names.withColumn('first_name', split(col('names'),\" \").getItem(0)).withColumn('last_name',split(col('names'),\" \").getItem(1))\n",
    "df_names.show()"
   ]
  },
  {
   "cell_type": "code",
   "execution_count": 18,
   "metadata": {},
   "outputs": [
    {
     "name": "stdout",
     "output_type": "stream",
     "text": [
      "+-----------+----------+---------+------------+\n",
      "|      names|first_name|last_name|      Repeat|\n",
      "+-----------+----------+---------+------------+\n",
      "|asma rehman|      asma|   rehman|asmaasmaasma|\n",
      "|zara rehman|      zara|   rehman|zarazarazara|\n",
      "+-----------+----------+---------+------------+\n",
      "\n"
     ]
    }
   ],
   "source": [
    "# repeat the column\n",
    "df_names.withColumn('Repeat',expr(\"repeat(first_name,3)\")).show()"
   ]
  },
  {
   "cell_type": "code",
   "execution_count": 19,
   "metadata": {},
   "outputs": [
    {
     "name": "stdout",
     "output_type": "stream",
     "text": [
      "+-----------+----------+---------+--------------+\n",
      "|      names|first_name|last_name|substring_name|\n",
      "+-----------+----------+---------+--------------+\n",
      "|asma rehman|      asma|   rehman|          asma|\n",
      "|zara rehman|      zara|   rehman|          zara|\n",
      "+-----------+----------+---------+--------------+\n",
      "\n",
      "+-----------+----------+---------+-------------------+\n",
      "|      names|first_name|last_name|substring_name_last|\n",
      "+-----------+----------+---------+-------------------+\n",
      "|asma rehman|      asma|   rehman|               hman|\n",
      "|zara rehman|      zara|   rehman|               hman|\n",
      "+-----------+----------+---------+-------------------+\n",
      "\n"
     ]
    }
   ],
   "source": [
    "# substring\n",
    "df_names.withColumn(\"substring_name\",df_names.names.substr(1,4)).show()\n",
    "df_names.withColumn(\"substring_name_last\",df_names.names.substr(-4,4)).show()"
   ]
  },
  {
   "cell_type": "code",
   "execution_count": 20,
   "metadata": {},
   "outputs": [
    {
     "name": "stdout",
     "output_type": "stream",
     "text": [
      "+-----------+----------+---------+------------+\n",
      "|      names|first_name|last_name|length_names|\n",
      "+-----------+----------+---------+------------+\n",
      "|asma rehman|      asma|   rehman|          11|\n",
      "|zara rehman|      zara|   rehman|          11|\n",
      "+-----------+----------+---------+------------+\n",
      "\n"
     ]
    }
   ],
   "source": [
    "df_names.withColumn('length_names',length(\"names\")).show()"
   ]
  },
  {
   "cell_type": "code",
   "execution_count": 21,
   "metadata": {},
   "outputs": [
    {
     "name": "stdout",
     "output_type": "stream",
     "text": [
      "+-----------+----------+\n",
      "|      names|  birthday|\n",
      "+-----------+----------+\n",
      "|asma rehman|17-01-1996|\n",
      "|zara rehman|28-10-1990|\n",
      "+-----------+----------+\n",
      "\n"
     ]
    },
    {
     "data": {
      "text/plain": [
       "[('birthday', 'string')]"
      ]
     },
     "execution_count": 21,
     "metadata": {},
     "output_type": "execute_result"
    }
   ],
   "source": [
    "df_date = sqlContext.createDataFrame( [(\"asma rehman\",\"17-01-1996\"),(\"zara rehman\",\"28-10-1990\")], [\"names\",\"birthday\"] )\n",
    "df_date.show()\n",
    "df_date.select('birthday').dtypes"
   ]
  },
  {
   "cell_type": "code",
   "execution_count": 22,
   "metadata": {},
   "outputs": [
    {
     "data": {
      "text/plain": [
       "[('birthday', 'date')]"
      ]
     },
     "execution_count": 22,
     "metadata": {},
     "output_type": "execute_result"
    }
   ],
   "source": [
    "# Convert string to date\n",
    "df_date = df_date.withColumn('birthday',to_date(df_date.birthday,\"dd-MM-yyyy\"))\n",
    "df_date.select('birthday').dtypes"
   ]
  },
  {
   "cell_type": "code",
   "execution_count": 23,
   "metadata": {},
   "outputs": [
    {
     "data": {
      "text/plain": [
       "[('birthday', 'string')]"
      ]
     },
     "execution_count": 23,
     "metadata": {},
     "output_type": "execute_result"
    }
   ],
   "source": [
    "# convert date to string\n",
    "df_date =df_date.withColumn('birthday',df_date.birthday.cast(StringType()))\n",
    "df_date.select('birthday').dtypes"
   ]
  },
  {
   "cell_type": "code",
   "execution_count": 26,
   "metadata": {},
   "outputs": [
    {
     "name": "stdout",
     "output_type": "stream",
     "text": [
      "+-----------+----------+---------+-----------------+\n",
      "|names      |first_name|last_name|upper(first_name)|\n",
      "+-----------+----------+---------+-----------------+\n",
      "|asma rehman|asma      |rehman   |ASMA             |\n",
      "|zara rehman|zara      |rehman   |ZARA             |\n",
      "+-----------+----------+---------+-----------------+\n",
      "\n"
     ]
    }
   ],
   "source": [
    "# convert column yo upper case\n",
    "df_names.select(\"*\",upper(col('first_name'))).show(truncate = False)"
   ]
  },
  {
   "cell_type": "code",
   "execution_count": 27,
   "metadata": {},
   "outputs": [
    {
     "name": "stdout",
     "output_type": "stream",
     "text": [
      "+-----------+----------+---------+--------------+\n",
      "|      names|first_name|last_name|initcap(names)|\n",
      "+-----------+----------+---------+--------------+\n",
      "|asma rehman|      asma|   rehman|   Asma Rehman|\n",
      "|zara rehman|      zara|   rehman|   Zara Rehman|\n",
      "+-----------+----------+---------+--------------+\n",
      "\n"
     ]
    }
   ],
   "source": [
    "# title or proper case\n",
    "df_names.select(\"*\",initcap(col('names'))).show()"
   ]
  },
  {
   "cell_type": "code",
   "execution_count": null,
   "metadata": {},
   "outputs": [],
   "source": []
  }
 ],
 "metadata": {
  "kernelspec": {
   "display_name": "Python",
   "language": "python",
   "name": "conda-env-python-py"
  },
  "language_info": {
   "codemirror_mode": {
    "name": "ipython",
    "version": 3
   },
   "file_extension": ".py",
   "mimetype": "text/x-python",
   "name": "python",
   "nbconvert_exporter": "python",
   "pygments_lexer": "ipython3",
   "version": "3.6.10"
  }
 },
 "nbformat": 4,
 "nbformat_minor": 4
}
