{
 "cells": [
  {
   "cell_type": "code",
   "execution_count": 1,
   "metadata": {},
   "outputs": [
    {
     "name": "stdout",
     "output_type": "stream",
     "text": [
      "Requirement already satisfied: findspark in /home/jupyterlab/conda/envs/python/lib/python3.6/site-packages (1.3.0)\n",
      "Requirement already satisfied: pyspark in /home/jupyterlab/conda/envs/python/lib/python3.6/site-packages (2.4.5)\n",
      "Requirement already satisfied: py4j==0.10.7 in /home/jupyterlab/conda/envs/python/lib/python3.6/site-packages (from pyspark) (0.10.7)\n"
     ]
    }
   ],
   "source": [
    "import findspark\n",
    "import pyspark\n",
    "from pyspark.sql.functions import *\n",
    "from pyspark.sql import *\n",
    "from pyspark.sql.types import *\n",
    "spark = SparkSession.builder.getOrCreate() \n",
    "findspark.init()\n",
    "sc = pyspark.SparkContext.getOrCreate()\n",
    "sqlContext = SQLContext(sc)\n"
   ]
  },
  {
   "cell_type": "code",
   "execution_count": 2,
   "metadata": {},
   "outputs": [],
   "source": [
    "house_df = spark.read.csv('house_data.csv',inferSchema= True, header = True)"
   ]
  },
  {
   "cell_type": "code",
   "execution_count": 3,
   "metadata": {},
   "outputs": [
    {
     "name": "stdout",
     "output_type": "stream",
     "text": [
      "root\n",
      " |-- build_year: integer (nullable = true)\n",
      " |-- lat: double (nullable = true)\n",
      " |-- living_area: integer (nullable = true)\n",
      " |-- long: double (nullable = true)\n",
      " |-- municipality_name: string (nullable = true)\n",
      " |-- zipcode: integer (nullable = true)\n",
      " |-- num_rooms: integer (nullable = true)\n",
      " |-- object_type_name: string (nullable = true)\n",
      " |-- price: integer (nullable = true)\n",
      " |-- water_percentage_1000: double (nullable = true)\n",
      " |-- travel_time_private_transport: integer (nullable = true)\n",
      " |-- travel_time_public_transport: integer (nullable = true)\n",
      " |-- number_of_buildings_in_hectare: integer (nullable = true)\n",
      " |-- number_of_apartments_in_hectare: integer (nullable = true)\n",
      " |-- number_of_workplaces_in_hectare: integer (nullable = true)\n",
      " |-- number_of_workplaces_sector_1_in_hectare: integer (nullable = true)\n",
      " |-- number_of_workplaces_sector_2_in_hectare: integer (nullable = true)\n",
      " |-- number_of_workplaces_sector_3_in_hectare: integer (nullable = true)\n",
      " |-- population_in_hectare: integer (nullable = true)\n",
      "\n"
     ]
    }
   ],
   "source": [
    "house_df.printSchema()"
   ]
  },
  {
   "cell_type": "code",
   "execution_count": 4,
   "metadata": {},
   "outputs": [
    {
     "data": {
      "text/plain": [
       "DataFrame[summary: string, build_year: string, lat: string, living_area: string, long: string, municipality_name: string, zipcode: string, num_rooms: string, object_type_name: string, price: string, water_percentage_1000: string, travel_time_private_transport: string, travel_time_public_transport: string, number_of_buildings_in_hectare: string, number_of_apartments_in_hectare: string, number_of_workplaces_in_hectare: string, number_of_workplaces_sector_1_in_hectare: string, number_of_workplaces_sector_2_in_hectare: string, number_of_workplaces_sector_3_in_hectare: string, population_in_hectare: string]"
      ]
     },
     "execution_count": 4,
     "metadata": {},
     "output_type": "execute_result"
    }
   ],
   "source": [
    "house_df.describe()"
   ]
  },
  {
   "cell_type": "code",
   "execution_count": 5,
   "metadata": {},
   "outputs": [
    {
     "data": {
      "text/plain": [
       "[Row(build_year=1990, lat=47.00980759, living_area=110, long=8.483789444, municipality_name='Vitznau', zipcode=6354, num_rooms=3, object_type_name='Wohnung', price=815000, water_percentage_1000=0.400565383, travel_time_private_transport=35, travel_time_public_transport=102, number_of_buildings_in_hectare=10, number_of_apartments_in_hectare=26, number_of_workplaces_in_hectare=7, number_of_workplaces_sector_1_in_hectare=0, number_of_workplaces_sector_2_in_hectare=0, number_of_workplaces_sector_3_in_hectare=7, population_in_hectare=34),\n",
       " Row(build_year=2017, lat=46.87217712, living_area=120, long=9.88018322, municipality_name='Klosters-Serneus', zipcode=7250, num_rooms=3, object_type_name='Wohnung', price=890000, water_percentage_1000=0.008272204, travel_time_private_transport=85, travel_time_public_transport=112, number_of_buildings_in_hectare=7, number_of_apartments_in_hectare=54, number_of_workplaces_in_hectare=3, number_of_workplaces_sector_1_in_hectare=0, number_of_workplaces_sector_2_in_hectare=0, number_of_workplaces_sector_3_in_hectare=3, population_in_hectare=44)]"
      ]
     },
     "execution_count": 5,
     "metadata": {},
     "output_type": "execute_result"
    }
   ],
   "source": [
    "house_df.take(2)"
   ]
  },
  {
   "cell_type": "code",
   "execution_count": 6,
   "metadata": {},
   "outputs": [
    {
     "name": "stdout",
     "output_type": "stream",
     "text": [
      "+----------+-----------+-----------+-----------+-----------------+-------+---------+----------------+------+---------------------+-----------------------------+----------------------------+------------------------------+-------------------------------+-------------------------------+----------------------------------------+----------------------------------------+----------------------------------------+---------------------+\n",
      "|build_year|        lat|living_area|       long|municipality_name|zipcode|num_rooms|object_type_name| price|water_percentage_1000|travel_time_private_transport|travel_time_public_transport|number_of_buildings_in_hectare|number_of_apartments_in_hectare|number_of_workplaces_in_hectare|number_of_workplaces_sector_1_in_hectare|number_of_workplaces_sector_2_in_hectare|number_of_workplaces_sector_3_in_hectare|population_in_hectare|\n",
      "+----------+-----------+-----------+-----------+-----------------+-------+---------+----------------+------+---------------------+-----------------------------+----------------------------+------------------------------+-------------------------------+-------------------------------+----------------------------------------+----------------------------------------+----------------------------------------+---------------------+\n",
      "|      1990|47.00980759|        110|8.483789444|          Vitznau|   6354|        3|         Wohnung|815000|          0.400565383|                           35|                         102|                            10|                             26|                              7|                                       0|                                       0|                                       7|                   34|\n",
      "|      2017|46.87217712|        120| 9.88018322| Klosters-Serneus|   7250|        3|         Wohnung|890000|          0.008272204|                           85|                         112|                             7|                             54|                              3|                                       0|                                       0|                                       3|                   44|\n",
      "|      2010|46.51917267|        107|6.525881767|      Préverenges|   1028|        4|         Wohnung|870000|          0.140533804|                            9|                          25|                             5|                             39|                              3|                                       0|                                       3|                                       0|                   89|\n",
      "+----------+-----------+-----------+-----------+-----------------+-------+---------+----------------+------+---------------------+-----------------------------+----------------------------+------------------------------+-------------------------------+-------------------------------+----------------------------------------+----------------------------------------+----------------------------------------+---------------------+\n",
      "only showing top 3 rows\n",
      "\n"
     ]
    }
   ],
   "source": [
    "house_df.show(3)"
   ]
  },
  {
   "cell_type": "code",
   "execution_count": 7,
   "metadata": {},
   "outputs": [
    {
     "data": {
      "text/plain": [
       "DataFrame[build_year: int, lat: double, living_area: int, long: double, municipality_name: string, zipcode: int, num_rooms: int, object_type_name: string, price: int, water_percentage_1000: double, travel_time_private_transport: int, travel_time_public_transport: int, number_of_buildings_in_hectare: int, number_of_apartments_in_hectare: int, number_of_workplaces_in_hectare: int, number_of_workplaces_sector_1_in_hectare: int, number_of_workplaces_sector_2_in_hectare: int, number_of_workplaces_sector_3_in_hectare: int, population_in_hectare: int]"
      ]
     },
     "metadata": {},
     "output_type": "display_data"
    }
   ],
   "source": [
    "display(house_df)"
   ]
  },
  {
   "cell_type": "code",
   "execution_count": 8,
   "metadata": {},
   "outputs": [],
   "source": [
    "h_df = spark.read.format(\"csv\").option(\"inferSchema\", True).option(\"header\",True).load(\"house_data.csv\")"
   ]
  },
  {
   "cell_type": "code",
   "execution_count": 9,
   "metadata": {},
   "outputs": [
    {
     "name": "stdout",
     "output_type": "stream",
     "text": [
      "+----------+-----------+-----------+-----------+-----------------+-------+---------+----------------+------+---------------------+-----------------------------+----------------------------+------------------------------+-------------------------------+-------------------------------+----------------------------------------+----------------------------------------+----------------------------------------+---------------------+\n",
      "|build_year|        lat|living_area|       long|municipality_name|zipcode|num_rooms|object_type_name| price|water_percentage_1000|travel_time_private_transport|travel_time_public_transport|number_of_buildings_in_hectare|number_of_apartments_in_hectare|number_of_workplaces_in_hectare|number_of_workplaces_sector_1_in_hectare|number_of_workplaces_sector_2_in_hectare|number_of_workplaces_sector_3_in_hectare|population_in_hectare|\n",
      "+----------+-----------+-----------+-----------+-----------------+-------+---------+----------------+------+---------------------+-----------------------------+----------------------------+------------------------------+-------------------------------+-------------------------------+----------------------------------------+----------------------------------------+----------------------------------------+---------------------+\n",
      "|      1990|47.00980759|        110|8.483789444|          Vitznau|   6354|        3|         Wohnung|815000|          0.400565383|                           35|                         102|                            10|                             26|                              7|                                       0|                                       0|                                       7|                   34|\n",
      "|      2017|46.87217712|        120| 9.88018322| Klosters-Serneus|   7250|        3|         Wohnung|890000|          0.008272204|                           85|                         112|                             7|                             54|                              3|                                       0|                                       0|                                       3|                   44|\n",
      "+----------+-----------+-----------+-----------+-----------------+-------+---------+----------------+------+---------------------+-----------------------------+----------------------------+------------------------------+-------------------------------+-------------------------------+----------------------------------------+----------------------------------------+----------------------------------------+---------------------+\n",
      "only showing top 2 rows\n",
      "\n"
     ]
    }
   ],
   "source": [
    "h_df.show(2)"
   ]
  },
  {
   "cell_type": "code",
   "execution_count": 10,
   "metadata": {},
   "outputs": [],
   "source": [
    "h_df.registerTempTable(\"h_table\")"
   ]
  },
  {
   "cell_type": "code",
   "execution_count": 11,
   "metadata": {},
   "outputs": [
    {
     "name": "stdout",
     "output_type": "stream",
     "text": [
      "+----------+-----------+-----------+-----------+-----------------+-------+---------+----------------+------+---------------------+-----------------------------+----------------------------+------------------------------+-------------------------------+-------------------------------+----------------------------------------+----------------------------------------+----------------------------------------+---------------------+\n",
      "|build_year|        lat|living_area|       long|municipality_name|zipcode|num_rooms|object_type_name| price|water_percentage_1000|travel_time_private_transport|travel_time_public_transport|number_of_buildings_in_hectare|number_of_apartments_in_hectare|number_of_workplaces_in_hectare|number_of_workplaces_sector_1_in_hectare|number_of_workplaces_sector_2_in_hectare|number_of_workplaces_sector_3_in_hectare|population_in_hectare|\n",
      "+----------+-----------+-----------+-----------+-----------------+-------+---------+----------------+------+---------------------+-----------------------------+----------------------------+------------------------------+-------------------------------+-------------------------------+----------------------------------------+----------------------------------------+----------------------------------------+---------------------+\n",
      "|      1990|47.00980759|        110|8.483789444|          Vitznau|   6354|        3|         Wohnung|815000|          0.400565383|                           35|                         102|                            10|                             26|                              7|                                       0|                                       0|                                       7|                   34|\n",
      "|      2017|46.87217712|        120| 9.88018322| Klosters-Serneus|   7250|        3|         Wohnung|890000|          0.008272204|                           85|                         112|                             7|                             54|                              3|                                       0|                                       0|                                       3|                   44|\n",
      "+----------+-----------+-----------+-----------+-----------------+-------+---------+----------------+------+---------------------+-----------------------------+----------------------------+------------------------------+-------------------------------+-------------------------------+----------------------------------------+----------------------------------------+----------------------------------------+---------------------+\n",
      "only showing top 2 rows\n",
      "\n"
     ]
    }
   ],
   "source": [
    "sqlContext.sql('select * from h_table').show(2)"
   ]
  },
  {
   "cell_type": "code",
   "execution_count": 12,
   "metadata": {},
   "outputs": [],
   "source": [
    "selected_df = house_df.select('build_year','municipality_name','living_area','price', 'num_rooms')"
   ]
  },
  {
   "cell_type": "code",
   "execution_count": 13,
   "metadata": {},
   "outputs": [
    {
     "name": "stdout",
     "output_type": "stream",
     "text": [
      "+----------+-----------------+-----------+------+---------+\n",
      "|build_year|municipality_name|living_area| price|num_rooms|\n",
      "+----------+-----------------+-----------+------+---------+\n",
      "|      1990|          Vitznau|        110|815000|        3|\n",
      "|      2017| Klosters-Serneus|        120|890000|        3|\n",
      "|      2010|      Préverenges|        107|870000|        4|\n",
      "|      2018|           Bülach|        103|829000|        3|\n",
      "+----------+-----------------+-----------+------+---------+\n",
      "only showing top 4 rows\n",
      "\n"
     ]
    }
   ],
   "source": [
    "selected_df.show(4)"
   ]
  },
  {
   "cell_type": "code",
   "execution_count": 14,
   "metadata": {},
   "outputs": [
    {
     "data": {
      "text/plain": [
       "998"
      ]
     },
     "execution_count": 14,
     "metadata": {},
     "output_type": "execute_result"
    }
   ],
   "source": [
    "selected_df.count()"
   ]
  },
  {
   "cell_type": "code",
   "execution_count": 15,
   "metadata": {},
   "outputs": [
    {
     "data": {
      "text/plain": [
       "166"
      ]
     },
     "execution_count": 15,
     "metadata": {},
     "output_type": "execute_result"
    }
   ],
   "source": [
    "selected_df.select('living_area').distinct().count()"
   ]
  },
  {
   "cell_type": "code",
   "execution_count": 16,
   "metadata": {},
   "outputs": [
    {
     "data": {
      "text/plain": [
       "166"
      ]
     },
     "execution_count": 16,
     "metadata": {},
     "output_type": "execute_result"
    }
   ],
   "source": [
    "selected_df.dropDuplicates(subset = ['living_area']).count()"
   ]
  },
  {
   "cell_type": "code",
   "execution_count": 17,
   "metadata": {},
   "outputs": [
    {
     "name": "stdout",
     "output_type": "stream",
     "text": [
      "+----------+-----------------+-----------+------+---------+--------------+\n",
      "|build_year|municipality_name|living_area| price|num_rooms|   test_column|\n",
      "+----------+-----------------+-----------+------+---------+--------------+\n",
      "|      1990|          Vitznau|        110|815000|        3|this is a test|\n",
      "|      2017| Klosters-Serneus|        120|890000|        3|this is a test|\n",
      "|      2010|      Préverenges|        107|870000|        4|this is a test|\n",
      "+----------+-----------------+-----------+------+---------+--------------+\n",
      "only showing top 3 rows\n",
      "\n"
     ]
    }
   ],
   "source": [
    "selected_df.withColumn('test_column',lit('this is a test')).show(3)"
   ]
  },
  {
   "cell_type": "code",
   "execution_count": 18,
   "metadata": {},
   "outputs": [
    {
     "name": "stdout",
     "output_type": "stream",
     "text": [
      "+----------+-------------------+-----------+------+---------+-----------+\n",
      "|build_year|  municipality_name|living_area| price|num_rooms|price_label|\n",
      "+----------+-------------------+-----------+------+---------+-----------+\n",
      "|      1990|            Vitznau|        110|815000|        3| Reasonable|\n",
      "|      2017|   Klosters-Serneus|        120|890000|        3| Reasonable|\n",
      "|      2010|        Préverenges|        107|870000|        4| Reasonable|\n",
      "|      2018|             Bülach|        103|829000|        3| Reasonable|\n",
      "|      2007|Celerina/Schlarigna|         95|865000|        3| Reasonable|\n",
      "|      2015|              Augst|        112|849000|        4| Reasonable|\n",
      "|      2016|             Lindau|        119|840000|        4| Reasonable|\n",
      "|      1978|          Binningen|         96|895000|        3|  expensive|\n",
      "|      1990|   Klosters-Serneus|        127|865000|        3| Reasonable|\n",
      "|      2008|         Einsiedeln|        110|870000|        4| Reasonable|\n",
      "|      2018|    Arzier-Le Muids|        118|847000|        4| Reasonable|\n",
      "|      2015|      Münsterlingen|        137|890000|        4| Reasonable|\n",
      "|      2017|              Spiez|        109|870000|        4| Reasonable|\n",
      "|      2018|      Niederhünigen|        177|710000|        5| Reasonable|\n",
      "|      1973|              Davos|        100|765000|        5| Reasonable|\n",
      "|      2005|             Sagogn|        104|852000|        4| Reasonable|\n",
      "|      1967|              Ollon|         92|895000|        3|  expensive|\n",
      "|      2017|       Bürglen (TG)|        130|893000|        4|  expensive|\n",
      "|      2017|       Altdorf (UR)|        117|880000|        3| Reasonable|\n",
      "|      2001|         Einsiedeln|        137|835000|        4| Reasonable|\n",
      "+----------+-------------------+-----------+------+---------+-----------+\n",
      "only showing top 20 rows\n",
      "\n"
     ]
    }
   ],
   "source": [
    "selected_df.withColumn('price_label',when(col('price')>890000,lit('expensive')).otherwise('Reasonable')).show()"
   ]
  },
  {
   "cell_type": "code",
   "execution_count": 19,
   "metadata": {},
   "outputs": [
    {
     "name": "stdout",
     "output_type": "stream",
     "text": [
      "+----------+-----------------+------+---------+\n",
      "|build_year|municipality_name| price|num_rooms|\n",
      "+----------+-----------------+------+---------+\n",
      "|      1990|          Vitznau|815000|        3|\n",
      "|      2017| Klosters-Serneus|890000|        3|\n",
      "|      2010|      Préverenges|870000|        4|\n",
      "+----------+-----------------+------+---------+\n",
      "only showing top 3 rows\n",
      "\n"
     ]
    }
   ],
   "source": [
    "selected_df.drop(col('living_area')).show(3)"
   ]
  },
  {
   "cell_type": "code",
   "execution_count": 20,
   "metadata": {},
   "outputs": [
    {
     "name": "stdout",
     "output_type": "stream",
     "text": [
      "+----------+-----------------+-----------+-------+---------+\n",
      "|build_year|municipality_name|living_area|  price|num_rooms|\n",
      "+----------+-----------------+-----------+-------+---------+\n",
      "|      1990|          Vitznau|        110| 815000|        3|\n",
      "|      2016|           Lindau|        119| 840000|        4|\n",
      "|      2019|          Menznau|        123| 820000|        4|\n",
      "|      2007|       Diepoldsau|        145| 820000|        4|\n",
      "|      2008|            Aarau|        110| 885000|        3|\n",
      "|      2015|            Aarau|        120| 860000|        3|\n",
      "|      2019|       Diepoldsau|        142| 855000|        4|\n",
      "|      2009|          Eglisau|        100| 850000|        4|\n",
      "|      2015|            Aarau|        101| 800000|        2|\n",
      "|      2015|            Aarau|        119| 860000|        4|\n",
      "|      1983|           Gersau|        150| 850000|        6|\n",
      "|      1983|          Eglisau|        152| 835000|        5|\n",
      "|      1992|         Wollerau|        102| 960000|        3|\n",
      "|      2018|          Aristau|        198| 965000|        5|\n",
      "|      2014|            Aarau|        131| 940000|        4|\n",
      "|      2011|          Hittnau|        161|1155000|        4|\n",
      "|      2014|            Aarau|        131| 940000|        4|\n",
      "|      2016|          Vitznau|        199|2960000|        4|\n",
      "|      2013|          Eglisau|        141| 998000|        4|\n",
      "|      2013|          Vitznau|        125|1230000|        4|\n",
      "+----------+-----------------+-----------+-------+---------+\n",
      "only showing top 20 rows\n",
      "\n"
     ]
    }
   ],
   "source": [
    "selected_df.filter(col('municipality_name').like(\"%au\")).show()"
   ]
  },
  {
   "cell_type": "code",
   "execution_count": 21,
   "metadata": {},
   "outputs": [
    {
     "name": "stdout",
     "output_type": "stream",
     "text": [
      "+----------+--------------------+-----------+------+---------+\n",
      "|build_year|   municipality_name|living_area| price|num_rooms|\n",
      "+----------+--------------------+-----------+------+---------+\n",
      "|      2015|               Aarau|        101|800000|        2|\n",
      "|      2018|Oetwil an der Limmat|         82|850000|        2|\n",
      "|      1991|             Dürnten|        145|850000|        6|\n",
      "|      2017|              Malans|        108|843180|        2|\n",
      "+----------+--------------------+-----------+------+---------+\n",
      "only showing top 4 rows\n",
      "\n"
     ]
    }
   ],
   "source": [
    "selected_df.filter(col('num_rooms').isin(2,6)).show(4)"
   ]
  },
  {
   "cell_type": "code",
   "execution_count": 22,
   "metadata": {},
   "outputs": [
    {
     "name": "stdout",
     "output_type": "stream",
     "text": [
      "+----------+-----------------+-----------+------+---------+--------------------+\n",
      "|build_year|municipality_name|living_area| price|num_rooms|           year_name|\n",
      "+----------+-----------------+-----------+------+---------+--------------------+\n",
      "|      1990|          Vitznau|        110|815000|        3|      1990 - Vitznau|\n",
      "|      2017| Klosters-Serneus|        120|890000|        3|2017 - Klosters-S...|\n",
      "|      2010|      Préverenges|        107|870000|        4|  2010 - Préverenges|\n",
      "+----------+-----------------+-----------+------+---------+--------------------+\n",
      "only showing top 3 rows\n",
      "\n"
     ]
    }
   ],
   "source": [
    "selected_df.withColumn('year_name',concat(col('build_year'),lit(\" - \"),col('municipality_name'))).show(3)"
   ]
  },
  {
   "cell_type": "code",
   "execution_count": 23,
   "metadata": {},
   "outputs": [
    {
     "name": "stdout",
     "output_type": "stream",
     "text": [
      "+-----------+\n",
      "|        lat|\n",
      "+-----------+\n",
      "|47.00980759|\n",
      "|46.87217712|\n",
      "|46.51917267|\n",
      "+-----------+\n",
      "only showing top 3 rows\n",
      "\n"
     ]
    }
   ],
   "source": [
    "house_df.select('lat').show(3)"
   ]
  },
  {
   "cell_type": "code",
   "execution_count": 24,
   "metadata": {},
   "outputs": [
    {
     "name": "stdout",
     "output_type": "stream",
     "text": [
      "+--------+\n",
      "|latitude|\n",
      "+--------+\n",
      "|      48|\n",
      "|      47|\n",
      "|      47|\n",
      "+--------+\n",
      "only showing top 3 rows\n",
      "\n"
     ]
    }
   ],
   "source": [
    "house_df.select(ceil(col('lat')).alias('latitude')).show(3)"
   ]
  },
  {
   "cell_type": "code",
   "execution_count": 25,
   "metadata": {},
   "outputs": [
    {
     "name": "stdout",
     "output_type": "stream",
     "text": [
      "+----------+----------------+-----------+------+---------+\n",
      "|build_year|          m_name|living_area| price|num_rooms|\n",
      "+----------+----------------+-----------+------+---------+\n",
      "|      1990|         Vitznau|        110|815000|        3|\n",
      "|      2017|Klosters-Serneus|        120|890000|        3|\n",
      "|      2010|     Préverenges|        107|870000|        4|\n",
      "+----------+----------------+-----------+------+---------+\n",
      "only showing top 3 rows\n",
      "\n"
     ]
    }
   ],
   "source": [
    "selected_df.withColumnRenamed('municipality_name','m_name').show(3)"
   ]
  },
  {
   "cell_type": "code",
   "execution_count": 26,
   "metadata": {},
   "outputs": [
    {
     "data": {
      "text/plain": [
       "[('price', 'int')]"
      ]
     },
     "execution_count": 26,
     "metadata": {},
     "output_type": "execute_result"
    }
   ],
   "source": [
    "selected_df.select(\"price\").dtypes"
   ]
  },
  {
   "cell_type": "code",
   "execution_count": 27,
   "metadata": {},
   "outputs": [
    {
     "name": "stdout",
     "output_type": "stream",
     "text": [
      "+----------+-----------------+-----------+------+---------+----------+\n",
      "|build_year|municipality_name|living_area| price|num_rooms|price_type|\n",
      "+----------+-----------------+-----------+------+---------+----------+\n",
      "|      1990|          Vitznau|        110|815000|        3|  815000.0|\n",
      "|      2017| Klosters-Serneus|        120|890000|        3|  890000.0|\n",
      "|      2010|      Préverenges|        107|870000|        4|  870000.0|\n",
      "+----------+-----------------+-----------+------+---------+----------+\n",
      "only showing top 3 rows\n",
      "\n"
     ]
    }
   ],
   "source": [
    "selected_df.withColumn('price_type',col('price').cast(DoubleType())).show(3)"
   ]
  },
  {
   "cell_type": "code",
   "execution_count": 28,
   "metadata": {},
   "outputs": [
    {
     "name": "stdout",
     "output_type": "stream",
     "text": [
      "+----------+------------------+\n",
      "|build_year|        avg(price)|\n",
      "+----------+------------------+\n",
      "|      1829|         1250000.0|\n",
      "|      1990|1190294.1176470588|\n",
      "|      1975|1343333.3333333333|\n",
      "+----------+------------------+\n",
      "only showing top 3 rows\n",
      "\n"
     ]
    }
   ],
   "source": [
    "selected_df.groupBy('build_year').agg({'price': 'mean'}).show(3)"
   ]
  },
  {
   "cell_type": "code",
   "execution_count": 29,
   "metadata": {},
   "outputs": [
    {
     "name": "stdout",
     "output_type": "stream",
     "text": [
      "+----------------+\n",
      "|max(living_area)|\n",
      "+----------------+\n",
      "|            1226|\n",
      "+----------------+\n",
      "\n"
     ]
    }
   ],
   "source": [
    "selected_df.agg({'living_area':'max'}).show()"
   ]
  },
  {
   "cell_type": "code",
   "execution_count": 30,
   "metadata": {},
   "outputs": [
    {
     "name": "stdout",
     "output_type": "stream",
     "text": [
      "+----------------+\n",
      "|min(living_area)|\n",
      "+----------------+\n",
      "|              46|\n",
      "+----------------+\n",
      "\n"
     ]
    }
   ],
   "source": [
    "selected_df.agg({'living_area':'min'}).show()"
   ]
  },
  {
   "cell_type": "code",
   "execution_count": null,
   "metadata": {},
   "outputs": [],
   "source": []
  }
 ],
 "metadata": {
  "kernelspec": {
   "display_name": "Python 3",
   "language": "python",
   "name": "python3"
  },
  "language_info": {
   "codemirror_mode": {
    "name": "ipython",
    "version": 3
   },
   "file_extension": ".py",
   "mimetype": "text/x-python",
   "name": "python",
   "nbconvert_exporter": "python",
   "pygments_lexer": "ipython3",
   "version": "3.7.4"
  }
 },
 "nbformat": 4,
 "nbformat_minor": 4
}
