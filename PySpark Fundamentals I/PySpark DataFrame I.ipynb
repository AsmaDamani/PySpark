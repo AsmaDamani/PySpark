{
 "cells": [
  {
   "cell_type": "code",
   "execution_count": 1,
   "metadata": {},
   "outputs": [
    {
     "name": "stdout",
     "output_type": "stream",
     "text": [
      "Requirement already satisfied: findspark in /home/jupyterlab/conda/envs/python/lib/python3.6/site-packages (1.3.0)\n",
      "Requirement already satisfied: pyspark in /home/jupyterlab/conda/envs/python/lib/python3.6/site-packages (2.4.5)\n",
      "Requirement already satisfied: py4j==0.10.7 in /home/jupyterlab/conda/envs/python/lib/python3.6/site-packages (from pyspark) (0.10.7)\n"
     ]
    }
   ],
   "source": [
    "!pip install findspark\n",
    "!pip install pyspark\n",
    "import findspark\n",
    "import pyspark\n",
    "from pyspark.sql.functions import *\n",
    "from pyspark.sql import *\n",
    "spark = SparkSession.builder.getOrCreate() \n",
    "findspark.init()\n",
    "sc = pyspark.SparkContext.getOrCreate()\n",
    "sqlContext = SQLContext(sc)"
   ]
  },
  {
   "cell_type": "markdown",
   "metadata": {},
   "source": [
    "#### Dataframe creation"
   ]
  },
  {
   "cell_type": "code",
   "execution_count": 2,
   "metadata": {},
   "outputs": [],
   "source": [
    "# creating employee database with row function, column names\n",
    "Employee = Row(\"fisrtname\", \"lastname\", \"email\", \"salary\")"
   ]
  },
  {
   "cell_type": "code",
   "execution_count": 3,
   "metadata": {},
   "outputs": [
    {
     "data": {
      "text/plain": [
       "<Row(fisrtname, lastname, email, salary)>"
      ]
     },
     "execution_count": 3,
     "metadata": {},
     "output_type": "execute_result"
    }
   ],
   "source": [
    "Employee"
   ]
  },
  {
   "cell_type": "code",
   "execution_count": 4,
   "metadata": {},
   "outputs": [],
   "source": [
    "# create some employee data, same format\n",
    "employee1 = Employee('Basher', 'armbrust', 'bash@edureka.co', 100000)\n",
    "employee2 = Employee('Daniel', 'meng', 'daniel@stanford.edu', 120000)\n",
    "employee3 = Employee('Muriel', None, 'muriel@waterloo.edu', 140000)\n",
    "employee4 = Employee('Rachel', 'wendell', 'rach_3@edureka.co', 160000)\n",
    "employee5 = Employee('Zach', 'galifianakis', 'zach_g@edureka.co', 160000)"
   ]
  },
  {
   "cell_type": "code",
   "execution_count": 5,
   "metadata": {},
   "outputs": [
    {
     "name": "stdout",
     "output_type": "stream",
     "text": [
      "Row(fisrtname='Rachel', lastname='wendell', email='rach_3@edureka.co', salary=160000)\n"
     ]
    }
   ],
   "source": [
    "print(employee4)"
   ]
  },
  {
   "cell_type": "code",
   "execution_count": 6,
   "metadata": {},
   "outputs": [],
   "source": [
    "# department = Row(\"id\", \"name\")\n",
    "\n",
    "# department1 = department('123456','HR')\n",
    "# department2 = department('789012','OPS')\n",
    "# department3 = department('345678','FN')\n",
    "# department4 = department('901234','DEV')\n",
    "\n",
    "\n",
    "department1 = Row(id='123456', name='HR')\n",
    "department2 = Row(id='789012', name='OPS')\n",
    "department3 = Row(id='345678', name='FN')\n",
    "department4 = Row(id='901234', name='DEV')"
   ]
  },
  {
   "cell_type": "code",
   "execution_count": 7,
   "metadata": {},
   "outputs": [
    {
     "name": "stdout",
     "output_type": "stream",
     "text": [
      "Row(id='901234', name='DEV')\n"
     ]
    }
   ],
   "source": [
    "print(department4)"
   ]
  },
  {
   "cell_type": "code",
   "execution_count": 8,
   "metadata": {},
   "outputs": [],
   "source": [
    "departmentWithEmployee = Row(\"department\", \"Employees\")\n",
    "\n",
    "departmentWithEmployee_1 = departmentWithEmployee(department1, [employee1,employee2])\n",
    "departmentWithEmployee_2 = departmentWithEmployee(department2, [employee2,employee3,employee4])\n",
    "departmentWithEmployee_3 = departmentWithEmployee(department3, [employee4,employee1])\n",
    "departmentWithEmployee_4 = departmentWithEmployee(department4, [employee3])"
   ]
  },
  {
   "cell_type": "code",
   "execution_count": 9,
   "metadata": {},
   "outputs": [
    {
     "name": "stdout",
     "output_type": "stream",
     "text": [
      "Row(department=Row(id='789012', name='OPS'), Employees=[Row(fisrtname='Daniel', lastname='meng', email='daniel@stanford.edu', salary=120000), Row(fisrtname='Muriel', lastname=None, email='muriel@waterloo.edu', salary=140000), Row(fisrtname='Rachel', lastname='wendell', email='rach_3@edureka.co', salary=160000)])\n"
     ]
    }
   ],
   "source": [
    "print(departmentWithEmployee_2)"
   ]
  },
  {
   "cell_type": "code",
   "execution_count": 10,
   "metadata": {},
   "outputs": [],
   "source": [
    "# creating dataframe\n",
    "departmentWithEmployee_df = [departmentWithEmployee_1, departmentWithEmployee_2]\n",
    "df1 = spark.createDataFrame(departmentWithEmployee_df)\n",
    "\n",
    "departmentWithEmployee_df = [departmentWithEmployee_2, departmentWithEmployee_4]\n",
    "df2 = spark.createDataFrame(departmentWithEmployee_df)"
   ]
  },
  {
   "cell_type": "code",
   "execution_count": 11,
   "metadata": {},
   "outputs": [
    {
     "name": "stdout",
     "output_type": "stream",
     "text": [
      "+-------------+--------------------+\n",
      "|   department|           Employees|\n",
      "+-------------+--------------------+\n",
      "| [123456, HR]|[[Basher, armbrus...|\n",
      "|[789012, OPS]|[[Daniel, meng, d...|\n",
      "+-------------+--------------------+\n",
      "\n"
     ]
    }
   ],
   "source": [
    "df1.show()"
   ]
  },
  {
   "cell_type": "code",
   "execution_count": 12,
   "metadata": {},
   "outputs": [
    {
     "data": {
      "text/plain": [
       "DataFrame[department: struct<id:string,name:string>, Employees: array<struct<fisrtname:string,lastname:string,email:string,salary:bigint>>]"
      ]
     },
     "metadata": {},
     "output_type": "display_data"
    }
   ],
   "source": [
    "display(df2)"
   ]
  },
  {
   "cell_type": "code",
   "execution_count": 13,
   "metadata": {},
   "outputs": [
    {
     "name": "stdout",
     "output_type": "stream",
     "text": [
      "+-------------+--------------------+\n",
      "|   department|           Employees|\n",
      "+-------------+--------------------+\n",
      "|[789012, OPS]|[[Daniel, meng, d...|\n",
      "|[901234, DEV]|[[Muriel,, muriel...|\n",
      "+-------------+--------------------+\n",
      "\n"
     ]
    }
   ],
   "source": [
    "df2.show()"
   ]
  },
  {
   "cell_type": "code",
   "execution_count": 14,
   "metadata": {},
   "outputs": [
    {
     "data": {
      "text/plain": [
       "[Row(department=Row(id='123456', name='HR'), Employees=[Row(fisrtname='Basher', lastname='armbrust', email='bash@edureka.co', salary=100000), Row(fisrtname='Daniel', lastname='meng', email='daniel@stanford.edu', salary=120000)]),\n",
       " Row(department=Row(id='789012', name='OPS'), Employees=[Row(fisrtname='Daniel', lastname='meng', email='daniel@stanford.edu', salary=120000), Row(fisrtname='Muriel', lastname=None, email='muriel@waterloo.edu', salary=140000), Row(fisrtname='Rachel', lastname='wendell', email='rach_3@edureka.co', salary=160000)])]"
      ]
     },
     "execution_count": 14,
     "metadata": {},
     "output_type": "execute_result"
    }
   ],
   "source": [
    "df1.collect()"
   ]
  },
  {
   "cell_type": "code",
   "execution_count": 15,
   "metadata": {},
   "outputs": [
    {
     "name": "stdout",
     "output_type": "stream",
     "text": [
      "+-------------+--------------------+\n",
      "|   department|           Employees|\n",
      "+-------------+--------------------+\n",
      "| [123456, HR]|[[Basher, armbrus...|\n",
      "|[789012, OPS]|[[Daniel, meng, d...|\n",
      "|[789012, OPS]|[[Daniel, meng, d...|\n",
      "|[901234, DEV]|[[Muriel,, muriel...|\n",
      "+-------------+--------------------+\n",
      "\n"
     ]
    }
   ],
   "source": [
    "# union\n",
    "unionDf = df1.union(df2)\n",
    "\n",
    "# display(unionDf)\n",
    "\n",
    "unionDf.show()"
   ]
  },
  {
   "cell_type": "code",
   "execution_count": null,
   "metadata": {},
   "outputs": [],
   "source": [
    "intersectionDf = df1.intersect(df2)\n",
    "\n",
    "# display(intersectionDf)\n",
    "\n",
    "intersectionDf.show()"
   ]
  },
  {
   "cell_type": "code",
   "execution_count": null,
   "metadata": {},
   "outputs": [],
   "source": [
    "unionDf.select('Employees').show()"
   ]
  },
  {
   "cell_type": "code",
   "execution_count": null,
   "metadata": {},
   "outputs": [],
   "source": [
    "# explode - Returns a new row for each element in the given array\n",
    "explodeDf = unionDf.select(explode('Employees').alias('Emp'))"
   ]
  },
  {
   "cell_type": "code",
   "execution_count": null,
   "metadata": {},
   "outputs": [],
   "source": [
    "explodeDf.show()"
   ]
  },
  {
   "cell_type": "code",
   "execution_count": null,
   "metadata": {},
   "outputs": [],
   "source": [
    "# variant of select, accept SQL expressions\n",
    "flatDf = explodeDf.selectExpr(\"Emp.fisrtname\", \"Emp.lastname\", \"Emp.email\",\"Emp.salary\")"
   ]
  },
  {
   "cell_type": "code",
   "execution_count": null,
   "metadata": {},
   "outputs": [],
   "source": [
    "flatDf.show()"
   ]
  },
  {
   "cell_type": "markdown",
   "metadata": {},
   "source": [
    "#### Reading Data from CSV file and performing actions"
   ]
  },
  {
   "cell_type": "code",
   "execution_count": null,
   "metadata": {},
   "outputs": [],
   "source": [
    "# Reading data from csv\n",
    "house_df = spark.read.csv(\"house_data.csv\", inferSchema= True, header = True)"
   ]
  },
  {
   "cell_type": "code",
   "execution_count": null,
   "metadata": {},
   "outputs": [],
   "source": [
    "# print results\n",
    "house_df.show(3)"
   ]
  },
  {
   "cell_type": "code",
   "execution_count": null,
   "metadata": {},
   "outputs": [],
   "source": [
    "# return list of rows\n",
    "house_df.take(3)"
   ]
  },
  {
   "cell_type": "code",
   "execution_count": null,
   "metadata": {},
   "outputs": [],
   "source": [
    "# to get structure of dataframe\n",
    "house_df.printSchema() "
   ]
  },
  {
   "cell_type": "code",
   "execution_count": null,
   "metadata": {},
   "outputs": [],
   "source": [
    "# column names\n",
    "house_df.columns  "
   ]
  },
  {
   "cell_type": "code",
   "execution_count": null,
   "metadata": {},
   "outputs": [],
   "source": [
    "# row count \n",
    "house_df.count()"
   ]
  },
  {
   "cell_type": "code",
   "execution_count": null,
   "metadata": {},
   "outputs": [],
   "source": [
    "# column count\n",
    "len(house_df.columns)"
   ]
  },
  {
   "cell_type": "code",
   "execution_count": null,
   "metadata": {},
   "outputs": [],
   "source": [
    "# to get statistical summary of given column\n",
    "house_df.describe('num_rooms').show()"
   ]
  },
  {
   "cell_type": "code",
   "execution_count": null,
   "metadata": {},
   "outputs": [],
   "source": [
    "type(house_df)"
   ]
  },
  {
   "cell_type": "code",
   "execution_count": null,
   "metadata": {},
   "outputs": [],
   "source": [
    "# to select columns\n",
    "house_df.select('lat','long').show(5)"
   ]
  },
  {
   "cell_type": "code",
   "execution_count": null,
   "metadata": {},
   "outputs": [],
   "source": [
    "house_df.filter(house_df.price == 999000).show()"
   ]
  },
  {
   "cell_type": "code",
   "execution_count": null,
   "metadata": {},
   "outputs": [],
   "source": [
    "house_df.filter( (col('build_year')==2010) | (col('build_year')==2018)).show(3)"
   ]
  },
  {
   "cell_type": "code",
   "execution_count": null,
   "metadata": {},
   "outputs": [],
   "source": [
    "house_df.where(col('num_rooms').isNull()).show()"
   ]
  },
  {
   "cell_type": "code",
   "execution_count": null,
   "metadata": {},
   "outputs": [],
   "source": [
    "house_df.select(col('build_year')).where(col('num_rooms')==4).show()"
   ]
  },
  {
   "cell_type": "code",
   "execution_count": null,
   "metadata": {},
   "outputs": [],
   "source": [
    "house_df.select('num_rooms').show(10)"
   ]
  },
  {
   "cell_type": "code",
   "execution_count": null,
   "metadata": {},
   "outputs": [],
   "source": [
    "# distinct values of a column\n",
    "house_df.select('num_rooms').distinct().show()"
   ]
  },
  {
   "cell_type": "code",
   "execution_count": null,
   "metadata": {},
   "outputs": [],
   "source": [
    "house_df.filter(house_df.num_rooms==7).count()"
   ]
  },
  {
   "cell_type": "code",
   "execution_count": null,
   "metadata": {},
   "outputs": [],
   "source": [
    "house_df.filter((house_df.num_rooms>=3) & (house_df.num_rooms<=6)).show(5)"
   ]
  },
  {
   "cell_type": "code",
   "execution_count": null,
   "metadata": {},
   "outputs": [],
   "source": [
    "# to sort data, by default sorts in ascending order\n",
    "house_df.orderBy(house_df.num_rooms,ascending = False).show(5)"
   ]
  },
  {
   "cell_type": "code",
   "execution_count": null,
   "metadata": {},
   "outputs": [],
   "source": [
    "house_df.filter(house_df.build_year == 2015).orderBy(house_df.num_rooms,ascending=False).show(7)"
   ]
  },
  {
   "cell_type": "code",
   "execution_count": null,
   "metadata": {},
   "outputs": [],
   "source": [
    "house_df.orderBy(house_df.num_rooms).show(5)"
   ]
  },
  {
   "cell_type": "code",
   "execution_count": null,
   "metadata": {},
   "outputs": [],
   "source": [
    "house_df.filter(house_df.build_year == 2015).count()"
   ]
  },
  {
   "cell_type": "code",
   "execution_count": null,
   "metadata": {},
   "outputs": [],
   "source": [
    "# to group dataframe based on column\n",
    "house_df.groupBy(house_df.build_year).count().show()"
   ]
  },
  {
   "cell_type": "code",
   "execution_count": null,
   "metadata": {},
   "outputs": [],
   "source": [
    "house_df.groupBy(col('build_year'),col('num_rooms')).count().orderBy(col('build_year'),ascending=False).show(5)"
   ]
  },
  {
   "cell_type": "code",
   "execution_count": null,
   "metadata": {},
   "outputs": [],
   "source": [
    "house_df.filter(col('build_year')==2020).agg({'population_in_hectare':'sum'}).show()"
   ]
  },
  {
   "cell_type": "markdown",
   "metadata": {},
   "source": [
    "#### Performing SQL Queries"
   ]
  },
  {
   "cell_type": "code",
   "execution_count": null,
   "metadata": {},
   "outputs": [],
   "source": [
    "# passing SQL queries directly to any dataframe\n",
    "# create table from dataframe\n",
    "house_df.registerTempTable('house_table') "
   ]
  },
  {
   "cell_type": "code",
   "execution_count": null,
   "metadata": {},
   "outputs": [],
   "source": [
    "# pass sql query\n",
    "sqlContext.sql('select * from house_table').show(5)"
   ]
  },
  {
   "cell_type": "code",
   "execution_count": null,
   "metadata": {},
   "outputs": [],
   "source": [
    "sqlContext.sql('select distinct(num_rooms) from house_table').show()"
   ]
  },
  {
   "cell_type": "code",
   "execution_count": null,
   "metadata": {},
   "outputs": [],
   "source": [
    "sqlContext.sql('select max(build_year) from house_table').show()"
   ]
  },
  {
   "cell_type": "code",
   "execution_count": null,
   "metadata": {},
   "outputs": [],
   "source": []
  },
  {
   "cell_type": "code",
   "execution_count": null,
   "metadata": {},
   "outputs": [],
   "source": []
  }
 ],
 "metadata": {
  "kernelspec": {
   "display_name": "Python",
   "language": "python",
   "name": "conda-env-python-py"
  },
  "language_info": {
   "codemirror_mode": {
    "name": "ipython",
    "version": 3
   },
   "file_extension": ".py",
   "mimetype": "text/x-python",
   "name": "python",
   "nbconvert_exporter": "python",
   "pygments_lexer": "ipython3",
   "version": "3.6.10"
  }
 },
 "nbformat": 4,
 "nbformat_minor": 4
}
