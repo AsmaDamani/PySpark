{
 "cells": [
  {
   "cell_type": "code",
   "execution_count": 1,
   "metadata": {},
   "outputs": [
    {
     "name": "stdout",
     "output_type": "stream",
     "text": [
      "Requirement already satisfied: findspark in /home/jupyterlab/conda/envs/python/lib/python3.6/site-packages (1.3.0)\n",
      "Requirement already satisfied: pyspark in /home/jupyterlab/conda/envs/python/lib/python3.6/site-packages (2.4.5)\n",
      "Requirement already satisfied: py4j==0.10.7 in /home/jupyterlab/conda/envs/python/lib/python3.6/site-packages (from pyspark) (0.10.7)\n"
     ]
    }
   ],
   "source": [
    "import findspark\n",
    "import pyspark\n",
    "from pyspark.sql.functions import *\n",
    "from pyspark.sql import *\n",
    "from pyspark.sql.types import *\n",
    "spark = SparkSession.builder.getOrCreate() \n",
    "findspark.init()\n",
    "sc = pyspark.SparkContext.getOrCreate()\n",
    "sqlContext = SQLContext(sc)"
   ]
  },
  {
   "cell_type": "code",
   "execution_count": 2,
   "metadata": {},
   "outputs": [
    {
     "name": "stdout",
     "output_type": "stream",
     "text": [
      "+-----------+----------+\n",
      "|       Name|  Birthday|\n",
      "+-----------+----------+\n",
      "|Zara Rehman|10-01-2020|\n",
      "|Asma Rehman|17-03-2020|\n",
      "+-----------+----------+\n",
      "\n"
     ]
    }
   ],
   "source": [
    "df1 = sqlContext.createDataFrame([(\"Zara Rehman\",\"10-01-2020\"),(\"Asma Rehman\",\"17-03-2020\")],[\"Name\",\"Birthday\"])\n",
    "df1.show()"
   ]
  },
  {
   "cell_type": "code",
   "execution_count": 3,
   "metadata": {},
   "outputs": [],
   "source": [
    "# Convert string column to date\n",
    "df1 = df1.withColumn('Birthday',to_date(df1.Birthday,\"dd-MM-yyyy\"))"
   ]
  },
  {
   "cell_type": "code",
   "execution_count": 4,
   "metadata": {},
   "outputs": [],
   "source": [
    "# Calculate week number of year from date\n",
    "df1 = df1.withColumn('week_of_year', weekofyear(df1.Birthday))"
   ]
  },
  {
   "cell_type": "code",
   "execution_count": 5,
   "metadata": {},
   "outputs": [],
   "source": [
    "# Calculate week of month\n",
    "df1 = df1.withColumn('week_of_month',date_format(df1.Birthday,\"W\"))"
   ]
  },
  {
   "cell_type": "code",
   "execution_count": 6,
   "metadata": {},
   "outputs": [
    {
     "name": "stdout",
     "output_type": "stream",
     "text": [
      "+-----------+----------+------------+-------------+\n",
      "|       Name|  Birthday|week_of_year|week_of_month|\n",
      "+-----------+----------+------------+-------------+\n",
      "|Zara Rehman|2020-01-10|           2|            2|\n",
      "|Asma Rehman|2020-03-17|          12|            3|\n",
      "+-----------+----------+------------+-------------+\n",
      "\n"
     ]
    }
   ],
   "source": [
    "df1.show()"
   ]
  },
  {
   "cell_type": "code",
   "execution_count": 7,
   "metadata": {},
   "outputs": [
    {
     "name": "stdout",
     "output_type": "stream",
     "text": [
      "+-------+-------------------+-------------------+\n",
      "|   Name|           Birthday|              datee|\n",
      "+-------+-------------------+-------------------+\n",
      "|Micheal|1990-10-08 03:19:58|1995-12-08 05:30:40|\n",
      "| Andrew|1996-03-17 05:33:51|1996-04-17 05:33:51|\n",
      "+-------+-------------------+-------------------+\n",
      "\n"
     ]
    }
   ],
   "source": [
    "df = sqlContext.createDataFrame([(\"Micheal\",\"1990-10-08 03:19:58\", \"1995-12-08 05:30:40\"),(\"Andrew\",\"1996-03-17 05:33:51\",\"1996-04-17 05:33:51\")],[\"Name\",\"Birthday\",\"datee\"])\n",
    "df.show()"
   ]
  },
  {
   "cell_type": "code",
   "execution_count": 8,
   "metadata": {},
   "outputs": [
    {
     "name": "stdout",
     "output_type": "stream",
     "text": [
      "root\n",
      " |-- Birthday: string (nullable = true)\n",
      "\n"
     ]
    }
   ],
   "source": [
    "df.select('Birthday').printSchema()"
   ]
  },
  {
   "cell_type": "code",
   "execution_count": 9,
   "metadata": {},
   "outputs": [
    {
     "name": "stdout",
     "output_type": "stream",
     "text": [
      "+-------+-------------------+-------------------+\n",
      "|   Name|           Birthday|              datee|\n",
      "+-------+-------------------+-------------------+\n",
      "|Micheal|1990-10-08 03:19:58|1995-12-08 05:30:40|\n",
      "| Andrew|1996-03-17 05:33:51|1996-04-17 05:33:51|\n",
      "+-------+-------------------+-------------------+\n",
      "\n"
     ]
    }
   ],
   "source": [
    "# convert string to timestamp\n",
    "df = df.withColumn('Birthday',to_timestamp(df.Birthday,'yyyy-MM-dd HH:mm:ss'))\n",
    "df.show()"
   ]
  },
  {
   "cell_type": "code",
   "execution_count": 10,
   "metadata": {},
   "outputs": [
    {
     "name": "stdout",
     "output_type": "stream",
     "text": [
      "root\n",
      " |-- Name: string (nullable = true)\n",
      " |-- Birthday: timestamp (nullable = true)\n",
      " |-- datee: string (nullable = true)\n",
      "\n"
     ]
    }
   ],
   "source": [
    "df.printSchema()"
   ]
  },
  {
   "cell_type": "code",
   "execution_count": 11,
   "metadata": {},
   "outputs": [
    {
     "name": "stdout",
     "output_type": "stream",
     "text": [
      "+-------+-------------------+-------------------+\n",
      "|   Name|           Birthday|              datee|\n",
      "+-------+-------------------+-------------------+\n",
      "|Micheal|1990-10-08 03:19:58|1995-12-08 05:30:40|\n",
      "| Andrew|1996-03-17 05:33:51|1996-04-17 05:33:51|\n",
      "+-------+-------------------+-------------------+\n",
      "\n"
     ]
    }
   ],
   "source": [
    "df = df.withColumn('datee',to_timestamp(df.datee,'yyyy-MM-dd HH:mm:ss'))\n",
    "df.show()"
   ]
  },
  {
   "cell_type": "code",
   "execution_count": 12,
   "metadata": {},
   "outputs": [
    {
     "name": "stdout",
     "output_type": "stream",
     "text": [
      "root\n",
      " |-- Name: string (nullable = true)\n",
      " |-- Birthday: timestamp (nullable = true)\n",
      " |-- datee: timestamp (nullable = true)\n",
      "\n"
     ]
    }
   ],
   "source": [
    "df.printSchema()"
   ]
  },
  {
   "cell_type": "code",
   "execution_count": 13,
   "metadata": {},
   "outputs": [
    {
     "name": "stdout",
     "output_type": "stream",
     "text": [
      "+-------+-------------------+-------------------+---------+\n",
      "|   Name|           Birthday|              datee|diff_secs|\n",
      "+-------+-------------------+-------------------+---------+\n",
      "|Micheal|1990-10-08 03:19:58|1995-12-08 05:30:40|163044642|\n",
      "| Andrew|1996-03-17 05:33:51|1996-04-17 05:33:51|  2678400|\n",
      "+-------+-------------------+-------------------+---------+\n",
      "\n"
     ]
    }
   ],
   "source": [
    "# Calculate difference between two timestamp in secs\n",
    "df = df.withColumn('diff_secs', col('datee').cast(\"long\") - col('Birthday').cast(\"long\"))\n",
    "df.show()"
   ]
  },
  {
   "cell_type": "code",
   "execution_count": 14,
   "metadata": {},
   "outputs": [
    {
     "name": "stdout",
     "output_type": "stream",
     "text": [
      "+-------+-------------------+-------------------+---------+---------+\n",
      "|   Name|           Birthday|              datee|diff_secs|diff_mins|\n",
      "+-------+-------------------+-------------------+---------+---------+\n",
      "|Micheal|1990-10-08 03:19:58|1995-12-08 05:30:40|163044642|2717410.7|\n",
      "| Andrew|1996-03-17 05:33:51|1996-04-17 05:33:51|  2678400|  44640.0|\n",
      "+-------+-------------------+-------------------+---------+---------+\n",
      "\n"
     ]
    }
   ],
   "source": [
    "# Calculate difference between two timestamp in mins\n",
    "df = df.withColumn('diff_mins', col('diff_secs')/60)\n",
    "df.show()"
   ]
  },
  {
   "cell_type": "code",
   "execution_count": 15,
   "metadata": {},
   "outputs": [
    {
     "name": "stdout",
     "output_type": "stream",
     "text": [
      "+-------+-------------------+-------------------+---------+---------+-----------------+\n",
      "|   Name|           Birthday|              datee|diff_secs|diff_mins|       diff_hours|\n",
      "+-------+-------------------+-------------------+---------+---------+-----------------+\n",
      "|Micheal|1990-10-08 03:19:58|1995-12-08 05:30:40|163044642|2717410.7|45290.17833333334|\n",
      "| Andrew|1996-03-17 05:33:51|1996-04-17 05:33:51|  2678400|  44640.0|            744.0|\n",
      "+-------+-------------------+-------------------+---------+---------+-----------------+\n",
      "\n"
     ]
    }
   ],
   "source": [
    "# Calculate difference between two timestamp in hours\n",
    "df = df.withColumn('diff_hours', col('diff_mins')/60)\n",
    "df.show()"
   ]
  },
  {
   "cell_type": "code",
   "execution_count": 16,
   "metadata": {},
   "outputs": [
    {
     "name": "stdout",
     "output_type": "stream",
     "text": [
      "+-------+-------------------+-------------------+---------+---------+-----------------+------------+\n",
      "|   Name|           Birthday|              datee|diff_secs|diff_mins|       diff_hours|diff_in_days|\n",
      "+-------+-------------------+-------------------+---------+---------+-----------------+------------+\n",
      "|Micheal|1990-10-08 03:19:58|1995-12-08 05:30:40|163044642|2717410.7|45290.17833333334|        1887|\n",
      "| Andrew|1996-03-17 05:33:51|1996-04-17 05:33:51|  2678400|  44640.0|            744.0|          31|\n",
      "+-------+-------------------+-------------------+---------+---------+-----------------+------------+\n",
      "\n"
     ]
    }
   ],
   "source": [
    "# diff in days between two dates\n",
    "df = df.withColumn('diff_in_days',datediff(col('datee'),col('Birthday')))\n",
    "df.show()"
   ]
  },
  {
   "cell_type": "code",
   "execution_count": 17,
   "metadata": {},
   "outputs": [
    {
     "name": "stdout",
     "output_type": "stream",
     "text": [
      "+-------+-------------------+-------------------+---------+---------+-----------------+------------+--------------+\n",
      "|   Name|           Birthday|              datee|diff_secs|diff_mins|       diff_hours|diff_in_days|diff_in_months|\n",
      "+-------+-------------------+-------------------+---------+---------+-----------------+------------+--------------+\n",
      "|Micheal|1990-10-08 03:19:58|1995-12-08 05:30:40|163044642|2717410.7|45290.17833333334|        1887|          62.0|\n",
      "| Andrew|1996-03-17 05:33:51|1996-04-17 05:33:51|  2678400|  44640.0|            744.0|          31|           1.0|\n",
      "+-------+-------------------+-------------------+---------+---------+-----------------+------------+--------------+\n",
      "\n"
     ]
    }
   ],
   "source": [
    "# diff in months between two dates\n",
    "df = df.withColumn('diff_in_months',months_between(col('datee'),col('Birthday')))\n",
    "df.show()"
   ]
  },
  {
   "cell_type": "code",
   "execution_count": 18,
   "metadata": {},
   "outputs": [
    {
     "name": "stdout",
     "output_type": "stream",
     "text": [
      "+-------+-------------------+-------------------+---------+---------+-----------------+------------+--------------+---------------+\n",
      "|   Name|           Birthday|              datee|diff_secs|diff_mins|       diff_hours|diff_in_days|diff_in_months|diff_in_quaters|\n",
      "+-------+-------------------+-------------------+---------+---------+-----------------+------------+--------------+---------------+\n",
      "|Micheal|1990-10-08 03:19:58|1995-12-08 05:30:40|163044642|2717410.7|45290.17833333334|        1887|          62.0|           15.5|\n",
      "| Andrew|1996-03-17 05:33:51|1996-04-17 05:33:51|  2678400|  44640.0|            744.0|          31|           1.0|           0.25|\n",
      "+-------+-------------------+-------------------+---------+---------+-----------------+------------+--------------+---------------+\n",
      "\n"
     ]
    }
   ],
   "source": [
    "df = df.withColumn('diff_in_quaters',months_between(col('datee'),col('Birthday'))/4)\n",
    "df.show()"
   ]
  },
  {
   "cell_type": "code",
   "execution_count": 19,
   "metadata": {},
   "outputs": [
    {
     "name": "stdout",
     "output_type": "stream",
     "text": [
      "+-------+-------------------+-------------------+---------+---------+-----------------+------------+--------------+---------------+-------------------+\n",
      "|   Name|           Birthday|              datee|diff_secs|diff_mins|       diff_hours|diff_in_days|diff_in_months|diff_in_quaters|      diff_in_years|\n",
      "+-------+-------------------+-------------------+---------+---------+-----------------+------------+--------------+---------------+-------------------+\n",
      "|Micheal|1990-10-08 03:19:58|1995-12-08 05:30:40|163044642|2717410.7|45290.17833333334|        1887|          62.0|           15.5|   5.16986301369863|\n",
      "| Andrew|1996-03-17 05:33:51|1996-04-17 05:33:51|  2678400|  44640.0|            744.0|          31|           1.0|           0.25|0.08493150684931507|\n",
      "+-------+-------------------+-------------------+---------+---------+-----------------+------------+--------------+---------------+-------------------+\n",
      "\n"
     ]
    }
   ],
   "source": [
    "# diff in years between two dates\n",
    "df = df.withColumn('diff_in_years',datediff(col('datee'),col('Birthday'))/365)\n",
    "df.show()"
   ]
  },
  {
   "cell_type": "code",
   "execution_count": 20,
   "metadata": {},
   "outputs": [
    {
     "name": "stdout",
     "output_type": "stream",
     "text": [
      "+-------+-------------------+-------------------+---------+---------+-----------------+------------+--------------+---------------+-------------------+------------+\n",
      "|   Name|           Birthday|              datee|diff_secs|diff_mins|       diff_hours|diff_in_days|diff_in_months|diff_in_quaters|      diff_in_years|current_Date|\n",
      "+-------+-------------------+-------------------+---------+---------+-----------------+------------+--------------+---------------+-------------------+------------+\n",
      "|Micheal|1990-10-08 03:19:58|1995-12-08 05:30:40|163044642|2717410.7|45290.17833333334|        1887|          62.0|           15.5|   5.16986301369863|  2020-04-23|\n",
      "| Andrew|1996-03-17 05:33:51|1996-04-17 05:33:51|  2678400|  44640.0|            744.0|          31|           1.0|           0.25|0.08493150684931507|  2020-04-23|\n",
      "+-------+-------------------+-------------------+---------+---------+-----------------+------------+--------------+---------------+-------------------+------------+\n",
      "\n"
     ]
    }
   ],
   "source": [
    "# get current date\n",
    "df = df.withColumn('current_Date', current_date())\n",
    "df.show()"
   ]
  },
  {
   "cell_type": "code",
   "execution_count": 21,
   "metadata": {},
   "outputs": [
    {
     "name": "stdout",
     "output_type": "stream",
     "text": [
      "+-----------+----------+------------+-------------+------------+\n",
      "|       Name|  Birthday|week_of_year|week_of_month|Day_of_month|\n",
      "+-----------+----------+------------+-------------+------------+\n",
      "|Zara Rehman|2020-01-10|           2|            2|          10|\n",
      "|Asma Rehman|2020-03-17|          12|            3|          17|\n",
      "+-----------+----------+------------+-------------+------------+\n",
      "\n"
     ]
    }
   ],
   "source": [
    "# calculate day of week\n",
    "df1 = df1.withColumn('Day_of_month', dayofmonth('Birthday'))\n",
    "df1.show()"
   ]
  },
  {
   "cell_type": "code",
   "execution_count": 22,
   "metadata": {},
   "outputs": [
    {
     "name": "stdout",
     "output_type": "stream",
     "text": [
      "+-----------+----------+------------+-------------+------------+-----------+\n",
      "|       Name|  Birthday|week_of_year|week_of_month|Day_of_month|Day_of_year|\n",
      "+-----------+----------+------------+-------------+------------+-----------+\n",
      "|Zara Rehman|2020-01-10|           2|            2|          10|         10|\n",
      "|Asma Rehman|2020-03-17|          12|            3|          17|         77|\n",
      "+-----------+----------+------------+-------------+------------+-----------+\n",
      "\n"
     ]
    }
   ],
   "source": [
    "# Calculate day of year\n",
    "df1 = df1.withColumn('Day_of_year', dayofyear('Birthday'))\n",
    "df1.show()"
   ]
  },
  {
   "cell_type": "code",
   "execution_count": 23,
   "metadata": {},
   "outputs": [
    {
     "name": "stdout",
     "output_type": "stream",
     "text": [
      "+-----------+----------+------------+-------------+------------+-----------+-----------+\n",
      "|       Name|  Birthday|week_of_year|week_of_month|Day_of_month|Day_of_year|Day_of_week|\n",
      "+-----------+----------+------------+-------------+------------+-----------+-----------+\n",
      "|Zara Rehman|2020-01-10|           2|            2|          10|         10|          6|\n",
      "|Asma Rehman|2020-03-17|          12|            3|          17|         77|          3|\n",
      "+-----------+----------+------------+-------------+------------+-----------+-----------+\n",
      "\n"
     ]
    }
   ],
   "source": [
    "# calculate day of week (1-sunday, 2-monday...7-saturday)\n",
    "df1 = df1.withColumn('Day_of_week', dayofweek('Birthday'))\n",
    "df1.show()"
   ]
  },
  {
   "cell_type": "code",
   "execution_count": 24,
   "metadata": {},
   "outputs": [
    {
     "name": "stdout",
     "output_type": "stream",
     "text": [
      "+-----------+----------+------------+-------------+------------+-----------+-----------+-------------+\n",
      "|       Name|  Birthday|week_of_year|week_of_month|Day_of_month|Day_of_year|Day_of_week|week_day_name|\n",
      "+-----------+----------+------------+-------------+------------+-----------+-----------+-------------+\n",
      "|Zara Rehman|2020-01-10|           2|            2|          10|         10|          6|       Friday|\n",
      "|Asma Rehman|2020-03-17|          12|            3|          17|         77|          3|      Tuesday|\n",
      "+-----------+----------+------------+-------------+------------+-----------+-----------+-------------+\n",
      "\n"
     ]
    }
   ],
   "source": [
    "df1 = df1.withColumn('week_day_name',date_format('Birthday',\"EEEE\"))\n",
    "df1.show()           "
   ]
  },
  {
   "cell_type": "code",
   "execution_count": 25,
   "metadata": {},
   "outputs": [],
   "source": [
    "df_date = df.select('birthday')"
   ]
  },
  {
   "cell_type": "code",
   "execution_count": 26,
   "metadata": {},
   "outputs": [
    {
     "name": "stdout",
     "output_type": "stream",
     "text": [
      "+-------------------+-------------------+\n",
      "|           birthday|               time|\n",
      "+-------------------+-------------------+\n",
      "|1990-10-08 03:19:58|1990-10-08 06:19:58|\n",
      "|1996-03-17 05:33:51|1996-03-17 08:33:51|\n",
      "+-------------------+-------------------+\n",
      "\n",
      "+-------------------+-------------------+\n",
      "|           birthday|               time|\n",
      "+-------------------+-------------------+\n",
      "|1990-10-08 03:19:58|1990-10-08 03:20:58|\n",
      "|1996-03-17 05:33:51|1996-03-17 05:34:51|\n",
      "+-------------------+-------------------+\n",
      "\n"
     ]
    }
   ],
   "source": [
    "# Add hours minutes or seconds to timestamp\n",
    "df_date.withColumn('time',df_date.birthday + expr('INTERVAL 3 HOURS')).show()\n",
    "df_date.withColumn('time',df_date.birthday + expr('INTERVAL 01 minutes')).show()"
   ]
  },
  {
   "cell_type": "code",
   "execution_count": 27,
   "metadata": {},
   "outputs": [
    {
     "name": "stdout",
     "output_type": "stream",
     "text": [
      "+-------------------+----+\n",
      "|           birthday|hour|\n",
      "+-------------------+----+\n",
      "|1990-10-08 03:19:58|   3|\n",
      "|1996-03-17 05:33:51|   5|\n",
      "+-------------------+----+\n",
      "\n",
      "+-------------------+------+\n",
      "|           birthday|minute|\n",
      "+-------------------+------+\n",
      "|1990-10-08 03:19:58|    19|\n",
      "|1996-03-17 05:33:51|    33|\n",
      "+-------------------+------+\n",
      "\n",
      "+-------------------+---+\n",
      "|           birthday|sec|\n",
      "+-------------------+---+\n",
      "|1990-10-08 03:19:58| 58|\n",
      "|1996-03-17 05:33:51| 51|\n",
      "+-------------------+---+\n",
      "\n",
      "+-------------------+----+\n",
      "|           birthday|year|\n",
      "+-------------------+----+\n",
      "|1990-10-08 03:19:58|1990|\n",
      "|1996-03-17 05:33:51|1996|\n",
      "+-------------------+----+\n",
      "\n",
      "+-------------------+-----+\n",
      "|           birthday|month|\n",
      "+-------------------+-----+\n",
      "|1990-10-08 03:19:58|   10|\n",
      "|1996-03-17 05:33:51|    3|\n",
      "+-------------------+-----+\n",
      "\n",
      "+-------------------+-------+\n",
      "|           birthday|quarter|\n",
      "+-------------------+-------+\n",
      "|1990-10-08 03:19:58|      4|\n",
      "|1996-03-17 05:33:51|      1|\n",
      "+-------------------+-------+\n",
      "\n"
     ]
    }
   ],
   "source": [
    "df_date.withColumn('hour',hour(df_date.birthday)).show()\n",
    "df_date.withColumn('minute',minute(df_date.birthday)).show()\n",
    "df_date.withColumn('sec',second(df_date.birthday)).show()\n",
    "df_date.withColumn('year',year(df_date.birthday)).show()\n",
    "df_date.withColumn('month',month(df_date.birthday)).show()\n",
    "df_date.withColumn('quarter',quarter(df_date.birthday)).show()"
   ]
  },
  {
   "cell_type": "code",
   "execution_count": null,
   "metadata": {},
   "outputs": [],
   "source": []
  }
 ],
 "metadata": {
  "kernelspec": {
   "display_name": "Python 3",
   "language": "python",
   "name": "python3"
  },
  "language_info": {
   "codemirror_mode": {
    "name": "ipython",
    "version": 3
   },
   "file_extension": ".py",
   "mimetype": "text/x-python",
   "name": "python",
   "nbconvert_exporter": "python",
   "pygments_lexer": "ipython3",
   "version": "3.7.4"
  }
 },
 "nbformat": 4,
 "nbformat_minor": 4
}
