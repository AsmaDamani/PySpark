{
 "cells": [
  {
   "cell_type": "code",
   "execution_count": 1,
   "metadata": {},
   "outputs": [
    {
     "name": "stdout",
     "output_type": "stream",
     "text": [
      "Requirement already satisfied: findspark in /home/jupyterlab/conda/envs/python/lib/python3.6/site-packages (1.3.0)\n",
      "Requirement already satisfied: pyspark in /home/jupyterlab/conda/envs/python/lib/python3.6/site-packages (2.4.5)\n",
      "Requirement already satisfied: py4j==0.10.7 in /home/jupyterlab/conda/envs/python/lib/python3.6/site-packages (from pyspark) (0.10.7)\n"
     ]
    }
   ],
   "source": [
    "import findspark\n",
    "import pyspark\n",
    "from pyspark.sql.functions import *\n",
    "from pyspark.sql import *\n",
    "from pyspark.sql.types import *\n",
    "spark = SparkSession.builder.getOrCreate() \n",
    "findspark.init()\n",
    "sc = pyspark.SparkContext.getOrCreate()\n",
    "sqlContext = SQLContext(sc)\n"
   ]
  },
  {
   "cell_type": "code",
   "execution_count": 2,
   "metadata": {},
   "outputs": [],
   "source": [
    "# inferSchema automatically guess the data types for each field.\n",
    "house_df = spark.read.csv('house_data.csv',inferSchema= True, header = True)"
   ]
  },
  {
   "cell_type": "code",
   "execution_count": 3,
   "metadata": {},
   "outputs": [
    {
     "name": "stdout",
     "output_type": "stream",
     "text": [
      "root\n",
      " |-- build_year: integer (nullable = true)\n",
      " |-- lat: double (nullable = true)\n",
      " |-- living_area: integer (nullable = true)\n",
      " |-- long: double (nullable = true)\n",
      " |-- municipality_name: string (nullable = true)\n",
      " |-- zipcode: integer (nullable = true)\n",
      " |-- num_rooms: integer (nullable = true)\n",
      " |-- object_type_name: string (nullable = true)\n",
      " |-- price: integer (nullable = true)\n",
      " |-- water_percentage_1000: double (nullable = true)\n",
      " |-- travel_time_private_transport: integer (nullable = true)\n",
      " |-- travel_time_public_transport: integer (nullable = true)\n",
      " |-- number_of_buildings_in_hectare: integer (nullable = true)\n",
      " |-- number_of_apartments_in_hectare: integer (nullable = true)\n",
      " |-- number_of_workplaces_in_hectare: integer (nullable = true)\n",
      " |-- number_of_workplaces_sector_1_in_hectare: integer (nullable = true)\n",
      " |-- number_of_workplaces_sector_2_in_hectare: integer (nullable = true)\n",
      " |-- number_of_workplaces_sector_3_in_hectare: integer (nullable = true)\n",
      " |-- population_in_hectare: integer (nullable = true)\n",
      "\n"
     ]
    }
   ],
   "source": [
    "house_df.printSchema()"
   ]
  },
  {
   "cell_type": "code",
   "execution_count": 4,
   "metadata": {},
   "outputs": [
    {
     "data": {
      "text/plain": [
       "DataFrame[summary: string, build_year: string, lat: string, living_area: string, long: string, municipality_name: string, zipcode: string, num_rooms: string, object_type_name: string, price: string, water_percentage_1000: string, travel_time_private_transport: string, travel_time_public_transport: string, number_of_buildings_in_hectare: string, number_of_apartments_in_hectare: string, number_of_workplaces_in_hectare: string, number_of_workplaces_sector_1_in_hectare: string, number_of_workplaces_sector_2_in_hectare: string, number_of_workplaces_sector_3_in_hectare: string, population_in_hectare: string]"
      ]
     },
     "execution_count": 4,
     "metadata": {},
     "output_type": "execute_result"
    }
   ],
   "source": [
    "house_df.describe()"
   ]
  },
  {
   "cell_type": "code",
   "execution_count": 5,
   "metadata": {},
   "outputs": [
    {
     "data": {
      "text/plain": [
       "[Row(build_year=1990, lat=47.00980759, living_area=110, long=8.483789444, municipality_name='Vitznau', zipcode=6354, num_rooms=3, object_type_name='Wohnung', price=815000, water_percentage_1000=0.400565383, travel_time_private_transport=35, travel_time_public_transport=102, number_of_buildings_in_hectare=10, number_of_apartments_in_hectare=26, number_of_workplaces_in_hectare=7, number_of_workplaces_sector_1_in_hectare=0, number_of_workplaces_sector_2_in_hectare=0, number_of_workplaces_sector_3_in_hectare=7, population_in_hectare=34),\n",
       " Row(build_year=2017, lat=46.87217712, living_area=120, long=9.88018322, municipality_name='Klosters-Serneus', zipcode=7250, num_rooms=3, object_type_name='Wohnung', price=890000, water_percentage_1000=0.008272204, travel_time_private_transport=85, travel_time_public_transport=112, number_of_buildings_in_hectare=7, number_of_apartments_in_hectare=54, number_of_workplaces_in_hectare=3, number_of_workplaces_sector_1_in_hectare=0, number_of_workplaces_sector_2_in_hectare=0, number_of_workplaces_sector_3_in_hectare=3, population_in_hectare=44)]"
      ]
     },
     "execution_count": 5,
     "metadata": {},
     "output_type": "execute_result"
    }
   ],
   "source": [
    "house_df.take(2)"
   ]
  },
  {
   "cell_type": "code",
   "execution_count": 6,
   "metadata": {},
   "outputs": [
    {
     "name": "stdout",
     "output_type": "stream",
     "text": [
      "+----------+-----------+-----------+-----------+-----------------+-------+---------+----------------+------+---------------------+-----------------------------+----------------------------+------------------------------+-------------------------------+-------------------------------+----------------------------------------+----------------------------------------+----------------------------------------+---------------------+\n",
      "|build_year|        lat|living_area|       long|municipality_name|zipcode|num_rooms|object_type_name| price|water_percentage_1000|travel_time_private_transport|travel_time_public_transport|number_of_buildings_in_hectare|number_of_apartments_in_hectare|number_of_workplaces_in_hectare|number_of_workplaces_sector_1_in_hectare|number_of_workplaces_sector_2_in_hectare|number_of_workplaces_sector_3_in_hectare|population_in_hectare|\n",
      "+----------+-----------+-----------+-----------+-----------------+-------+---------+----------------+------+---------------------+-----------------------------+----------------------------+------------------------------+-------------------------------+-------------------------------+----------------------------------------+----------------------------------------+----------------------------------------+---------------------+\n",
      "|      1990|47.00980759|        110|8.483789444|          Vitznau|   6354|        3|         Wohnung|815000|          0.400565383|                           35|                         102|                            10|                             26|                              7|                                       0|                                       0|                                       7|                   34|\n",
      "|      2017|46.87217712|        120| 9.88018322| Klosters-Serneus|   7250|        3|         Wohnung|890000|          0.008272204|                           85|                         112|                             7|                             54|                              3|                                       0|                                       0|                                       3|                   44|\n",
      "|      2010|46.51917267|        107|6.525881767|      Préverenges|   1028|        4|         Wohnung|870000|          0.140533804|                            9|                          25|                             5|                             39|                              3|                                       0|                                       3|                                       0|                   89|\n",
      "+----------+-----------+-----------+-----------+-----------------+-------+---------+----------------+------+---------------------+-----------------------------+----------------------------+------------------------------+-------------------------------+-------------------------------+----------------------------------------+----------------------------------------+----------------------------------------+---------------------+\n",
      "only showing top 3 rows\n",
      "\n"
     ]
    }
   ],
   "source": [
    "house_df.show(3)"
   ]
  },
  {
   "cell_type": "code",
   "execution_count": 7,
   "metadata": {},
   "outputs": [
    {
     "data": {
      "text/plain": [
       "DataFrame[build_year: int, lat: double, living_area: int, long: double, municipality_name: string, zipcode: int, num_rooms: int, object_type_name: string, price: int, water_percentage_1000: double, travel_time_private_transport: int, travel_time_public_transport: int, number_of_buildings_in_hectare: int, number_of_apartments_in_hectare: int, number_of_workplaces_in_hectare: int, number_of_workplaces_sector_1_in_hectare: int, number_of_workplaces_sector_2_in_hectare: int, number_of_workplaces_sector_3_in_hectare: int, population_in_hectare: int]"
      ]
     },
     "metadata": {},
     "output_type": "display_data"
    }
   ],
   "source": [
    "display(house_df)"
   ]
  },
  {
   "cell_type": "code",
   "execution_count": 8,
   "metadata": {},
   "outputs": [],
   "source": [
    "# another way to read data from csv\n",
    "h_df = spark.read.format(\"csv\").option(\"inferSchema\", True).option(\"header\",True).load(\"house_data.csv\")"
   ]
  },
  {
   "cell_type": "code",
   "execution_count": 9,
   "metadata": {},
   "outputs": [
    {
     "name": "stdout",
     "output_type": "stream",
     "text": [
      "+----------+-----------+-----------+-----------+-----------------+-------+---------+----------------+------+---------------------+-----------------------------+----------------------------+------------------------------+-------------------------------+-------------------------------+----------------------------------------+----------------------------------------+----------------------------------------+---------------------+\n",
      "|build_year|        lat|living_area|       long|municipality_name|zipcode|num_rooms|object_type_name| price|water_percentage_1000|travel_time_private_transport|travel_time_public_transport|number_of_buildings_in_hectare|number_of_apartments_in_hectare|number_of_workplaces_in_hectare|number_of_workplaces_sector_1_in_hectare|number_of_workplaces_sector_2_in_hectare|number_of_workplaces_sector_3_in_hectare|population_in_hectare|\n",
      "+----------+-----------+-----------+-----------+-----------------+-------+---------+----------------+------+---------------------+-----------------------------+----------------------------+------------------------------+-------------------------------+-------------------------------+----------------------------------------+----------------------------------------+----------------------------------------+---------------------+\n",
      "|      1990|47.00980759|        110|8.483789444|          Vitznau|   6354|        3|         Wohnung|815000|          0.400565383|                           35|                         102|                            10|                             26|                              7|                                       0|                                       0|                                       7|                   34|\n",
      "|      2017|46.87217712|        120| 9.88018322| Klosters-Serneus|   7250|        3|         Wohnung|890000|          0.008272204|                           85|                         112|                             7|                             54|                              3|                                       0|                                       0|                                       3|                   44|\n",
      "+----------+-----------+-----------+-----------+-----------------+-------+---------+----------------+------+---------------------+-----------------------------+----------------------------+------------------------------+-------------------------------+-------------------------------+----------------------------------------+----------------------------------------+----------------------------------------+---------------------+\n",
      "only showing top 2 rows\n",
      "\n"
     ]
    }
   ],
   "source": [
    "h_df.show(2)"
   ]
  },
  {
   "cell_type": "code",
   "execution_count": 10,
   "metadata": {},
   "outputs": [],
   "source": [
    "h_df.registerTempTable(\"h_table\")"
   ]
  },
  {
   "cell_type": "code",
   "execution_count": 11,
   "metadata": {},
   "outputs": [
    {
     "name": "stdout",
     "output_type": "stream",
     "text": [
      "+----------+-----------+-----------+-----------+-----------------+-------+---------+----------------+------+---------------------+-----------------------------+----------------------------+------------------------------+-------------------------------+-------------------------------+----------------------------------------+----------------------------------------+----------------------------------------+---------------------+\n",
      "|build_year|        lat|living_area|       long|municipality_name|zipcode|num_rooms|object_type_name| price|water_percentage_1000|travel_time_private_transport|travel_time_public_transport|number_of_buildings_in_hectare|number_of_apartments_in_hectare|number_of_workplaces_in_hectare|number_of_workplaces_sector_1_in_hectare|number_of_workplaces_sector_2_in_hectare|number_of_workplaces_sector_3_in_hectare|population_in_hectare|\n",
      "+----------+-----------+-----------+-----------+-----------------+-------+---------+----------------+------+---------------------+-----------------------------+----------------------------+------------------------------+-------------------------------+-------------------------------+----------------------------------------+----------------------------------------+----------------------------------------+---------------------+\n",
      "|      1990|47.00980759|        110|8.483789444|          Vitznau|   6354|        3|         Wohnung|815000|          0.400565383|                           35|                         102|                            10|                             26|                              7|                                       0|                                       0|                                       7|                   34|\n",
      "|      2017|46.87217712|        120| 9.88018322| Klosters-Serneus|   7250|        3|         Wohnung|890000|          0.008272204|                           85|                         112|                             7|                             54|                              3|                                       0|                                       0|                                       3|                   44|\n",
      "+----------+-----------+-----------+-----------+-----------------+-------+---------+----------------+------+---------------------+-----------------------------+----------------------------+------------------------------+-------------------------------+-------------------------------+----------------------------------------+----------------------------------------+----------------------------------------+---------------------+\n",
      "only showing top 2 rows\n",
      "\n"
     ]
    }
   ],
   "source": [
    "sqlContext.sql('select * from h_table').show(2)"
   ]
  },
  {
   "cell_type": "code",
   "execution_count": 12,
   "metadata": {},
   "outputs": [],
   "source": [
    "selected_df = house_df.select('build_year','municipality_name','living_area','price', 'num_rooms')"
   ]
  },
  {
   "cell_type": "code",
   "execution_count": 13,
   "metadata": {},
   "outputs": [
    {
     "name": "stdout",
     "output_type": "stream",
     "text": [
      "+----------+-----------------+-----------+------+---------+\n",
      "|build_year|municipality_name|living_area| price|num_rooms|\n",
      "+----------+-----------------+-----------+------+---------+\n",
      "|      1990|          Vitznau|        110|815000|        3|\n",
      "|      2017| Klosters-Serneus|        120|890000|        3|\n",
      "|      2010|      Préverenges|        107|870000|        4|\n",
      "|      2018|           Bülach|        103|829000|        3|\n",
      "+----------+-----------------+-----------+------+---------+\n",
      "only showing top 4 rows\n",
      "\n"
     ]
    }
   ],
   "source": [
    "selected_df.show(4)"
   ]
  },
  {
   "cell_type": "code",
   "execution_count": 14,
   "metadata": {},
   "outputs": [
    {
     "data": {
      "text/plain": [
       "998"
      ]
     },
     "execution_count": 14,
     "metadata": {},
     "output_type": "execute_result"
    }
   ],
   "source": [
    "selected_df.count()"
   ]
  },
  {
   "cell_type": "code",
   "execution_count": 15,
   "metadata": {},
   "outputs": [
    {
     "data": {
      "text/plain": [
       "166"
      ]
     },
     "execution_count": 15,
     "metadata": {},
     "output_type": "execute_result"
    }
   ],
   "source": [
    "selected_df.select('living_area').distinct().count()"
   ]
  },
  {
   "cell_type": "code",
   "execution_count": 16,
   "metadata": {},
   "outputs": [
    {
     "data": {
      "text/plain": [
       "166"
      ]
     },
     "execution_count": 16,
     "metadata": {},
     "output_type": "execute_result"
    }
   ],
   "source": [
    "# Remove duplicates\n",
    "selected_df.dropDuplicates(subset = ['living_area']).count()"
   ]
  },
  {
   "cell_type": "code",
   "execution_count": 17,
   "metadata": {},
   "outputs": [
    {
     "name": "stdout",
     "output_type": "stream",
     "text": [
      "+----------+-----------------+-----------+------+---------+--------------+\n",
      "|build_year|municipality_name|living_area| price|num_rooms|   test_column|\n",
      "+----------+-----------------+-----------+------+---------+--------------+\n",
      "|      1990|          Vitznau|        110|815000|        3|this is a test|\n",
      "|      2017| Klosters-Serneus|        120|890000|        3|this is a test|\n",
      "|      2010|      Préverenges|        107|870000|        4|this is a test|\n",
      "+----------+-----------------+-----------+------+---------+--------------+\n",
      "only showing top 3 rows\n",
      "\n"
     ]
    }
   ],
   "source": [
    "#  withColumn takes two argument. 1. column name, 2. column value\n",
    "selected_df.withColumn('test_column',lit('this is a test')).show(3)"
   ]
  },
  {
   "cell_type": "code",
   "execution_count": 18,
   "metadata": {},
   "outputs": [
    {
     "name": "stdout",
     "output_type": "stream",
     "text": [
      "+----------+-------------------+-----------+------+---------+-----------+\n",
      "|build_year|  municipality_name|living_area| price|num_rooms|price_label|\n",
      "+----------+-------------------+-----------+------+---------+-----------+\n",
      "|      1990|            Vitznau|        110|815000|        3| Reasonable|\n",
      "|      2017|   Klosters-Serneus|        120|890000|        3| Reasonable|\n",
      "|      2010|        Préverenges|        107|870000|        4| Reasonable|\n",
      "|      2018|             Bülach|        103|829000|        3| Reasonable|\n",
      "|      2007|Celerina/Schlarigna|         95|865000|        3| Reasonable|\n",
      "|      2015|              Augst|        112|849000|        4| Reasonable|\n",
      "|      2016|             Lindau|        119|840000|        4| Reasonable|\n",
      "|      1978|          Binningen|         96|895000|        3|  expensive|\n",
      "|      1990|   Klosters-Serneus|        127|865000|        3| Reasonable|\n",
      "|      2008|         Einsiedeln|        110|870000|        4| Reasonable|\n",
      "|      2018|    Arzier-Le Muids|        118|847000|        4| Reasonable|\n",
      "|      2015|      Münsterlingen|        137|890000|        4| Reasonable|\n",
      "|      2017|              Spiez|        109|870000|        4| Reasonable|\n",
      "|      2018|      Niederhünigen|        177|710000|        5| Reasonable|\n",
      "|      1973|              Davos|        100|765000|        5| Reasonable|\n",
      "|      2005|             Sagogn|        104|852000|        4| Reasonable|\n",
      "|      1967|              Ollon|         92|895000|        3|  expensive|\n",
      "|      2017|       Bürglen (TG)|        130|893000|        4|  expensive|\n",
      "|      2017|       Altdorf (UR)|        117|880000|        3| Reasonable|\n",
      "|      2001|         Einsiedeln|        137|835000|        4| Reasonable|\n",
      "+----------+-------------------+-----------+------+---------+-----------+\n",
      "only showing top 20 rows\n",
      "\n"
     ]
    }
   ],
   "source": [
    "selected_df.withColumn('price_label',when(col('price')>890000,lit('expensive')).otherwise('Reasonable')).show()"
   ]
  },
  {
   "cell_type": "code",
   "execution_count": 19,
   "metadata": {},
   "outputs": [
    {
     "name": "stdout",
     "output_type": "stream",
     "text": [
      "+----------+-----------------+------+---------+\n",
      "|build_year|municipality_name| price|num_rooms|\n",
      "+----------+-----------------+------+---------+\n",
      "|      1990|          Vitznau|815000|        3|\n",
      "|      2017| Klosters-Serneus|890000|        3|\n",
      "|      2010|      Préverenges|870000|        4|\n",
      "+----------+-----------------+------+---------+\n",
      "only showing top 3 rows\n",
      "\n"
     ]
    }
   ],
   "source": [
    "selected_df.drop(col('living_area')).show(3)"
   ]
  },
  {
   "cell_type": "code",
   "execution_count": 20,
   "metadata": {},
   "outputs": [
    {
     "name": "stdout",
     "output_type": "stream",
     "text": [
      "+----------+-----------------+-----------+-------+---------+\n",
      "|build_year|municipality_name|living_area|  price|num_rooms|\n",
      "+----------+-----------------+-----------+-------+---------+\n",
      "|      1990|          Vitznau|        110| 815000|        3|\n",
      "|      2016|           Lindau|        119| 840000|        4|\n",
      "|      2019|          Menznau|        123| 820000|        4|\n",
      "|      2007|       Diepoldsau|        145| 820000|        4|\n",
      "|      2008|            Aarau|        110| 885000|        3|\n",
      "|      2015|            Aarau|        120| 860000|        3|\n",
      "|      2019|       Diepoldsau|        142| 855000|        4|\n",
      "|      2009|          Eglisau|        100| 850000|        4|\n",
      "|      2015|            Aarau|        101| 800000|        2|\n",
      "|      2015|            Aarau|        119| 860000|        4|\n",
      "|      1983|           Gersau|        150| 850000|        6|\n",
      "|      1983|          Eglisau|        152| 835000|        5|\n",
      "|      1992|         Wollerau|        102| 960000|        3|\n",
      "|      2018|          Aristau|        198| 965000|        5|\n",
      "|      2014|            Aarau|        131| 940000|        4|\n",
      "|      2011|          Hittnau|        161|1155000|        4|\n",
      "|      2014|            Aarau|        131| 940000|        4|\n",
      "|      2016|          Vitznau|        199|2960000|        4|\n",
      "|      2013|          Eglisau|        141| 998000|        4|\n",
      "|      2013|          Vitznau|        125|1230000|        4|\n",
      "+----------+-----------------+-----------+-------+---------+\n",
      "only showing top 20 rows\n",
      "\n"
     ]
    }
   ],
   "source": [
    "selected_df.filter(col('municipality_name').like(\"%au\")).show()"
   ]
  },
  {
   "cell_type": "code",
   "execution_count": 21,
   "metadata": {},
   "outputs": [
    {
     "name": "stdout",
     "output_type": "stream",
     "text": [
      "+----------+--------------------+-----------+------+---------+\n",
      "|build_year|   municipality_name|living_area| price|num_rooms|\n",
      "+----------+--------------------+-----------+------+---------+\n",
      "|      2015|               Aarau|        101|800000|        2|\n",
      "|      2018|Oetwil an der Limmat|         82|850000|        2|\n",
      "|      1991|             Dürnten|        145|850000|        6|\n",
      "|      2017|              Malans|        108|843180|        2|\n",
      "+----------+--------------------+-----------+------+---------+\n",
      "only showing top 4 rows\n",
      "\n"
     ]
    }
   ],
   "source": [
    "selected_df.filter(col('num_rooms').isin(2,6)).show(4)"
   ]
  },
  {
   "cell_type": "code",
   "execution_count": 22,
   "metadata": {},
   "outputs": [
    {
     "name": "stdout",
     "output_type": "stream",
     "text": [
      "+----------+-----------------+-----------+------+---------+--------------------+\n",
      "|build_year|municipality_name|living_area| price|num_rooms|           year_name|\n",
      "+----------+-----------------+-----------+------+---------+--------------------+\n",
      "|      1990|          Vitznau|        110|815000|        3|      1990 - Vitznau|\n",
      "|      2017| Klosters-Serneus|        120|890000|        3|2017 - Klosters-S...|\n",
      "|      2010|      Préverenges|        107|870000|        4|  2010 - Préverenges|\n",
      "+----------+-----------------+-----------+------+---------+--------------------+\n",
      "only showing top 3 rows\n",
      "\n"
     ]
    }
   ],
   "source": [
    "selected_df.withColumn('year_name',concat(col('build_year'),lit(\" - \"),col('municipality_name'))).show(3)"
   ]
  },
  {
   "cell_type": "code",
   "execution_count": 23,
   "metadata": {},
   "outputs": [
    {
     "name": "stdout",
     "output_type": "stream",
     "text": [
      "+-----------+\n",
      "|        lat|\n",
      "+-----------+\n",
      "|47.00980759|\n",
      "|46.87217712|\n",
      "|46.51917267|\n",
      "+-----------+\n",
      "only showing top 3 rows\n",
      "\n"
     ]
    }
   ],
   "source": [
    "house_df.select('lat').show(3)"
   ]
  },
  {
   "cell_type": "code",
   "execution_count": 24,
   "metadata": {},
   "outputs": [
    {
     "name": "stdout",
     "output_type": "stream",
     "text": [
      "+--------+\n",
      "|latitude|\n",
      "+--------+\n",
      "|      48|\n",
      "|      47|\n",
      "|      47|\n",
      "+--------+\n",
      "only showing top 3 rows\n",
      "\n"
     ]
    }
   ],
   "source": [
    "house_df.select(ceil(col('lat')).alias('latitude')).show(3)"
   ]
  },
  {
   "cell_type": "code",
   "execution_count": 25,
   "metadata": {},
   "outputs": [
    {
     "name": "stdout",
     "output_type": "stream",
     "text": [
      "+----------+----------------+-----------+------+---------+\n",
      "|build_year|          m_name|living_area| price|num_rooms|\n",
      "+----------+----------------+-----------+------+---------+\n",
      "|      1990|         Vitznau|        110|815000|        3|\n",
      "|      2017|Klosters-Serneus|        120|890000|        3|\n",
      "|      2010|     Préverenges|        107|870000|        4|\n",
      "+----------+----------------+-----------+------+---------+\n",
      "only showing top 3 rows\n",
      "\n"
     ]
    }
   ],
   "source": [
    "# Rename column\n",
    "selected_df.withColumnRenamed('municipality_name','m_name').show(3)"
   ]
  },
  {
   "cell_type": "code",
   "execution_count": 26,
   "metadata": {},
   "outputs": [
    {
     "data": {
      "text/plain": [
       "[('price', 'int')]"
      ]
     },
     "execution_count": 26,
     "metadata": {},
     "output_type": "execute_result"
    }
   ],
   "source": [
    "selected_df.select(\"price\").dtypes"
   ]
  },
  {
   "cell_type": "code",
   "execution_count": 27,
   "metadata": {},
   "outputs": [
    {
     "name": "stdout",
     "output_type": "stream",
     "text": [
      "+----------+-----------------+-----------+------+---------+----------+\n",
      "|build_year|municipality_name|living_area| price|num_rooms|price_type|\n",
      "+----------+-----------------+-----------+------+---------+----------+\n",
      "|      1990|          Vitznau|        110|815000|        3|  815000.0|\n",
      "|      2017| Klosters-Serneus|        120|890000|        3|  890000.0|\n",
      "|      2010|      Préverenges|        107|870000|        4|  870000.0|\n",
      "+----------+-----------------+-----------+------+---------+----------+\n",
      "only showing top 3 rows\n",
      "\n"
     ]
    }
   ],
   "source": [
    "# Type casting\n",
    "selected_df.withColumn('price_type',col('price').cast(DoubleType())).show(3)"
   ]
  },
  {
   "cell_type": "code",
   "execution_count": 28,
   "metadata": {},
   "outputs": [
    {
     "name": "stdout",
     "output_type": "stream",
     "text": [
      "+----------+------------------+\n",
      "|build_year|        avg(price)|\n",
      "+----------+------------------+\n",
      "|      1829|         1250000.0|\n",
      "|      1990|1190294.1176470588|\n",
      "|      1975|1343333.3333333333|\n",
      "+----------+------------------+\n",
      "only showing top 3 rows\n",
      "\n"
     ]
    }
   ],
   "source": [
    "selected_df.groupBy('build_year').agg({'price': 'mean'}).show(3)"
   ]
  },
  {
   "cell_type": "code",
   "execution_count": 29,
   "metadata": {},
   "outputs": [
    {
     "name": "stdout",
     "output_type": "stream",
     "text": [
      "+----------------+\n",
      "|max(living_area)|\n",
      "+----------------+\n",
      "|            1226|\n",
      "+----------------+\n",
      "\n"
     ]
    }
   ],
   "source": [
    "# find max value of column\n",
    "selected_df.agg({'living_area':'max'}).show()"
   ]
  },
  {
   "cell_type": "code",
   "execution_count": 30,
   "metadata": {},
   "outputs": [
    {
     "name": "stdout",
     "output_type": "stream",
     "text": [
      "+----------------+\n",
      "|min(living_area)|\n",
      "+----------------+\n",
      "|              46|\n",
      "+----------------+\n",
      "\n"
     ]
    }
   ],
   "source": [
    "selected_df.agg({'living_area':'min'}).show()"
   ]
  },
  {
   "cell_type": "code",
   "execution_count": 31,
   "metadata": {},
   "outputs": [
    {
     "name": "stdout",
     "output_type": "stream",
     "text": [
      "+--------------------+\n",
      "|   municipality_name|\n",
      "+--------------------+\n",
      "|           Männedorf|\n",
      "|      Unterentfelden|\n",
      "|              Riehen|\n",
      "|         Adligenswil|\n",
      "|               Arosa|\n",
      "|             Zumikon|\n",
      "|           Pfäffikon|\n",
      "|              Stadel|\n",
      "|          Herrliberg|\n",
      "|         Schmiedrued|\n",
      "|          Grellingen|\n",
      "|             Vitznau|\n",
      "|Feldbrunnen-St. N...|\n",
      "|          Glarus Süd|\n",
      "|  La Punt-Chamues-ch|\n",
      "|          Romanshorn|\n",
      "|        Spreitenbach|\n",
      "|      Kilchberg (ZH)|\n",
      "|             Muttenz|\n",
      "|    Estavayer-le-Lac|\n",
      "+--------------------+\n",
      "only showing top 20 rows\n",
      "\n"
     ]
    }
   ],
   "source": [
    "selected_df.select('municipality_name').distinct().show()"
   ]
  },
  {
   "cell_type": "code",
   "execution_count": 32,
   "metadata": {},
   "outputs": [
    {
     "name": "stdout",
     "output_type": "stream",
     "text": [
      "+----------+-----------------+-----------+------+---------+-----------------+\n",
      "|build_year|municipality_name|living_area| price|num_rooms|num_rooms_squared|\n",
      "+----------+-----------------+-----------+------+---------+-----------------+\n",
      "|      1990|          Vitznau|        110|815000|        3|                9|\n",
      "|      2017| Klosters-Serneus|        120|890000|        3|                9|\n",
      "|      2010|      Préverenges|        107|870000|        4|               16|\n",
      "|      2018|           Bülach|        103|829000|        3|                9|\n",
      "+----------+-----------------+-----------+------+---------+-----------------+\n",
      "only showing top 4 rows\n",
      "\n"
     ]
    }
   ],
   "source": [
    "# calculate square of a column\n",
    "selected_df.select('*',pow(col('num_rooms'),2).cast(IntegerType()).alias('num_rooms_squared')).show(4)"
   ]
  },
  {
   "cell_type": "code",
   "execution_count": 33,
   "metadata": {},
   "outputs": [
    {
     "name": "stdout",
     "output_type": "stream",
     "text": [
      "+---------------+-------+-------+-------+-------+-------+-------+-------+-------+-------+-------+-------+-------+-------+-------+-------+-------+-------+-------+-------+\n",
      "|num_rooms_price|1010000|1030000|1150000|1170000|1190000|1200000|1250000|1255000|1290000|1340000|1395000|1490000|1530000|1570000|1810000|1830000|1980000|2200000|2750000|\n",
      "+---------------+-------+-------+-------+-------+-------+-------+-------+-------+-------+-------+-------+-------+-------+-------+-------+-------+-------+-------+-------+\n",
      "|              5|      0|      0|      1|      1|      0|      0|      1|      0|      1|      0|      0|      1|      0|      1|      0|      0|      0|      0|      0|\n",
      "|              6|      0|      0|      0|      0|      0|      0|      0|      1|      0|      0|      0|      0|      0|      0|      0|      0|      0|      0|      0|\n",
      "|              2|      0|      0|      0|      0|      0|      0|      0|      0|      0|      0|      0|      0|      0|      0|      1|      0|      1|      0|      0|\n",
      "|              3|      1|      0|      0|      0|      0|      1|      1|      0|      0|      0|      0|      0|      0|      0|      0|      0|      0|      0|      1|\n",
      "+---------------+-------+-------+-------+-------+-------+-------+-------+-------+-------+-------+-------+-------+-------+-------+-------+-------+-------+-------+-------+\n",
      "only showing top 4 rows\n",
      "\n"
     ]
    }
   ],
   "source": [
    "# to computes a pair-wise frequency table of the given columns.\n",
    "# cross table , method 1\n",
    "selected_df.filter((col('build_year')==2015) & (col('price')>=1000000)).crosstab('num_rooms', 'price').show(4)"
   ]
  },
  {
   "cell_type": "code",
   "execution_count": 34,
   "metadata": {},
   "outputs": [
    {
     "name": "stdout",
     "output_type": "stream",
     "text": [
      "+---------+-------+-----+\n",
      "|num_rooms|  price|count|\n",
      "+---------+-------+-----+\n",
      "|        2|1980000|    1|\n",
      "|        2|1810000|    1|\n",
      "|        3|1200000|    1|\n",
      "|        3|1010000|    1|\n",
      "|        3|1250000|    1|\n",
      "|        3|2750000|    1|\n",
      "|        4|1395000|    1|\n",
      "|        4|1290000|    1|\n",
      "+---------+-------+-----+\n",
      "only showing top 8 rows\n",
      "\n"
     ]
    }
   ],
   "source": [
    "# cross table : method 2\n",
    "selected_df.filter((col('build_year')==2015) & (col('price')>=1000000)).groupBy('num_rooms', 'price').count().orderBy('num_rooms').show(8)"
   ]
  },
  {
   "cell_type": "code",
   "execution_count": 35,
   "metadata": {},
   "outputs": [
    {
     "name": "stdout",
     "output_type": "stream",
     "text": [
      "+---------+------+----------+-----------------+-----------+\n",
      "|num_rooms| price|build_year|municipality_name|living_area|\n",
      "+---------+------+----------+-----------------+-----------+\n",
      "|        3|815000|      1990|          Vitznau|        110|\n",
      "|        3|890000|      2017| Klosters-Serneus|        120|\n",
      "|        4|870000|      2010|      Préverenges|        107|\n",
      "+---------+------+----------+-----------------+-----------+\n",
      "only showing top 3 rows\n",
      "\n"
     ]
    }
   ],
   "source": [
    "# Re arrange the column\n",
    "selected_df.select('num_rooms','price','build_year','municipality_name','living_area').show(3)"
   ]
  },
  {
   "cell_type": "code",
   "execution_count": 36,
   "metadata": {},
   "outputs": [
    {
     "name": "stdout",
     "output_type": "stream",
     "text": [
      "+----------+-----------+-----------------+---------+------+\n",
      "|build_year|living_area|municipality_name|num_rooms| price|\n",
      "+----------+-----------+-----------------+---------+------+\n",
      "|      1990|        110|          Vitznau|        3|815000|\n",
      "|      2017|        120| Klosters-Serneus|        3|890000|\n",
      "|      2010|        107|      Préverenges|        4|870000|\n",
      "+----------+-----------+-----------------+---------+------+\n",
      "only showing top 3 rows\n",
      "\n"
     ]
    }
   ],
   "source": [
    "# Re order the column in ascending order\n",
    "selected_df.select(sorted(selected_df.columns)).show(3)"
   ]
  },
  {
   "cell_type": "code",
   "execution_count": 37,
   "metadata": {},
   "outputs": [
    {
     "name": "stdout",
     "output_type": "stream",
     "text": [
      "+------+---------+-----------------+-----------+----------+\n",
      "| price|num_rooms|municipality_name|living_area|build_year|\n",
      "+------+---------+-----------------+-----------+----------+\n",
      "|815000|        3|          Vitznau|        110|      1990|\n",
      "|890000|        3| Klosters-Serneus|        120|      2017|\n",
      "|870000|        4|      Préverenges|        107|      2010|\n",
      "+------+---------+-----------------+-----------+----------+\n",
      "only showing top 3 rows\n",
      "\n"
     ]
    }
   ],
   "source": [
    "# Re order the column in descending order\n",
    "selected_df.select(sorted(selected_df.columns, reverse=True)).show(3)"
   ]
  },
  {
   "cell_type": "code",
   "execution_count": 38,
   "metadata": {},
   "outputs": [],
   "source": [
    "import sys\n",
    "from pyspark.sql.window import Window\n"
   ]
  },
  {
   "cell_type": "code",
   "execution_count": 39,
   "metadata": {},
   "outputs": [],
   "source": [
    "df = sqlContext.createDataFrame( [(1,10,\"a\"),(3,2,\"a\"),(1,2,\"b\"),(2,5,\"a\"),(2,1,\"b\"),(9,0,\"b\"),(4,1,\"b\"),(7,8,\"a\"),(3,8,\"b\"),(2,5,\"a\"),(0,0,\"a\"),(4,3,\"a\")], \n",
    "                                 [\"time\", \"value\", \"class\"] )"
   ]
  },
  {
   "cell_type": "code",
   "execution_count": 40,
   "metadata": {},
   "outputs": [
    {
     "name": "stdout",
     "output_type": "stream",
     "text": [
      "+----+-----+-----+\n",
      "|time|value|class|\n",
      "+----+-----+-----+\n",
      "|   1|   10|    a|\n",
      "|   3|    2|    a|\n",
      "|   1|    2|    b|\n",
      "|   2|    5|    a|\n",
      "|   2|    1|    b|\n",
      "|   9|    0|    b|\n",
      "|   4|    1|    b|\n",
      "|   7|    8|    a|\n",
      "|   3|    8|    b|\n",
      "|   2|    5|    a|\n",
      "|   0|    0|    a|\n",
      "|   4|    3|    a|\n",
      "+----+-----+-----+\n",
      "\n"
     ]
    }
   ],
   "source": [
    "df.show()"
   ]
  },
  {
   "cell_type": "code",
   "execution_count": 41,
   "metadata": {},
   "outputs": [
    {
     "name": "stdout",
     "output_type": "stream",
     "text": [
      "root\n",
      " |-- time: long (nullable = true)\n",
      " |-- value: long (nullable = true)\n",
      " |-- class: string (nullable = true)\n",
      "\n"
     ]
    }
   ],
   "source": [
    "df.printSchema()"
   ]
  },
  {
   "cell_type": "code",
   "execution_count": 42,
   "metadata": {},
   "outputs": [
    {
     "name": "stdout",
     "output_type": "stream",
     "text": [
      "+----+-----+-----+------------+\n",
      "|time|value|class|cumsum_value|\n",
      "+----+-----+-----+------------+\n",
      "|   1|    2|    b|           2|\n",
      "|   2|    1|    b|           3|\n",
      "|   3|    8|    b|          11|\n",
      "|   4|    1|    b|          12|\n",
      "|   9|    0|    b|          12|\n",
      "|   0|    0|    a|           0|\n",
      "|   1|   10|    a|          10|\n",
      "|   2|    5|    a|          20|\n",
      "|   2|    5|    a|          20|\n",
      "|   3|    2|    a|          22|\n",
      "|   4|    3|    a|          25|\n",
      "|   7|    8|    a|          33|\n",
      "+----+-----+-----+------------+\n",
      "\n"
     ]
    }
   ],
   "source": [
    "# comulative sum\n",
    "df.withColumn('cumsum_value', sum(df.value).over(Window.partitionBy('class').orderBy('time'))).show()"
   ]
  },
  {
   "cell_type": "code",
   "execution_count": 43,
   "metadata": {},
   "outputs": [
    {
     "name": "stdout",
     "output_type": "stream",
     "text": [
      "+----+-----+-----+-------+\n",
      "|time|value|class|row_num|\n",
      "+----+-----+-----+-------+\n",
      "|   1|    2|    b|      1|\n",
      "|   2|    1|    b|      2|\n",
      "|   3|    8|    b|      3|\n",
      "|   4|    1|    b|      4|\n",
      "|   9|    0|    b|      5|\n",
      "|   0|    0|    a|      1|\n",
      "|   1|   10|    a|      2|\n",
      "|   2|    5|    a|      3|\n",
      "|   2|    5|    a|      4|\n",
      "|   3|    2|    a|      5|\n",
      "|   4|    3|    a|      6|\n",
      "|   7|    8|    a|      7|\n",
      "+----+-----+-----+-------+\n",
      "\n"
     ]
    }
   ],
   "source": [
    "# row number of each row in a class\n",
    "df.withColumn(\"row_num\", row_number().over(Window.partitionBy(\"class\").orderBy(\"time\"))).show()"
   ]
  },
  {
   "cell_type": "code",
   "execution_count": 44,
   "metadata": {},
   "outputs": [
    {
     "name": "stdout",
     "output_type": "stream",
     "text": [
      "+----+-----+-----+------------+\n",
      "|time|value|class|cumsum_value|\n",
      "+----+-----+-----+------------+\n",
      "|   1|    2|    b|           2|\n",
      "|   2|    1|    b|           3|\n",
      "|   3|    8|    b|          11|\n",
      "|   4|    1|    b|          12|\n",
      "|   9|    0|    b|          12|\n",
      "|   0|    0|    a|           0|\n",
      "|   1|   10|    a|          10|\n",
      "|   2|    5|    a|          15|\n",
      "|   2|    5|    a|          20|\n",
      "|   3|    2|    a|          22|\n",
      "|   4|    3|    a|          25|\n",
      "|   7|    8|    a|          33|\n",
      "+----+-----+-----+------------+\n",
      "\n"
     ]
    }
   ],
   "source": [
    "w1=Window().partitionBy(\"class\").orderBy(\"time\")\n",
    "w2=Window().partitionBy(\"class\").orderBy('rownum')\n",
    "df.withColumn('rownum', row_number().over(w1)).withColumn('cumsum_value', sum(\"value\").over(w2)).drop('rownum').show()"
   ]
  },
  {
   "cell_type": "code",
   "execution_count": 45,
   "metadata": {},
   "outputs": [
    {
     "name": "stdout",
     "output_type": "stream",
     "text": [
      "+----+-----+-----+------------------+\n",
      "|time|value|class|        percetange|\n",
      "+----+-----+-----+------------------+\n",
      "|   1|    2|    b|16.666666666666664|\n",
      "|   2|    1|    b| 8.333333333333332|\n",
      "|   9|    0|    b|               0.0|\n",
      "|   4|    1|    b| 8.333333333333332|\n",
      "|   3|    8|    b| 66.66666666666666|\n",
      "|   1|   10|    a|30.303030303030305|\n",
      "|   3|    2|    a|6.0606060606060606|\n",
      "|   2|    5|    a|15.151515151515152|\n",
      "|   7|    8|    a|24.242424242424242|\n",
      "|   2|    5|    a|15.151515151515152|\n",
      "|   0|    0|    a|               0.0|\n",
      "|   4|    3|    a| 9.090909090909092|\n",
      "+----+-----+-----+------------------+\n",
      "\n"
     ]
    }
   ],
   "source": [
    "# percentage of a column \n",
    "df.withColumn('percetange', df.value/(sum(df.value).over(Window.partitionBy('class')))*100).show()"
   ]
  },
  {
   "cell_type": "code",
   "execution_count": 46,
   "metadata": {},
   "outputs": [
    {
     "name": "stdout",
     "output_type": "stream",
     "text": [
      "+----+-----+-----+------------------+------------------+\n",
      "|time|value|class|        percentage|        cumsum_per|\n",
      "+----+-----+-----+------------------+------------------+\n",
      "|   1|    2|    b|16.666666666666664|16.666666666666664|\n",
      "|   2|    1|    b| 8.333333333333332|24.999999999999996|\n",
      "|   3|    8|    b| 66.66666666666666| 91.66666666666666|\n",
      "|   4|    1|    b| 8.333333333333332| 99.99999999999999|\n",
      "|   9|    0|    b|               0.0| 99.99999999999999|\n",
      "|   0|    0|    a|               0.0|               0.0|\n",
      "|   1|   10|    a|30.303030303030305|30.303030303030305|\n",
      "|   2|    5|    a|15.151515151515152| 45.45454545454545|\n",
      "|   2|    5|    a|15.151515151515152| 60.60606060606061|\n",
      "|   3|    2|    a|6.0606060606060606| 66.66666666666667|\n",
      "|   4|    3|    a| 9.090909090909092| 75.75757575757576|\n",
      "|   7|    8|    a|24.242424242424242|             100.0|\n",
      "+----+-----+-----+------------------+------------------+\n",
      "\n"
     ]
    }
   ],
   "source": [
    "# cumsum of percentazge of column \n",
    "w1=Window().partitionBy(\"class\").orderBy(\"time\")\n",
    "w2=Window().partitionBy(\"class\").orderBy('rownum')\n",
    "w3=Window().partitionBy(\"class\")\n",
    "df.withColumn('rownum',row_number().over(w1)).withColumn('percentage', df.value/(sum(df.value).over(w3))*100)\\\n",
    "    .withColumn('cumsum_per',sum(\"percentage\").over(w2)).drop('rownum').show()"
   ]
  },
  {
   "cell_type": "code",
   "execution_count": 47,
   "metadata": {},
   "outputs": [
    {
     "name": "stdout",
     "output_type": "stream",
     "text": [
      "root\n",
      " |-- class: string (nullable = true)\n",
      "\n"
     ]
    }
   ],
   "source": [
    "df.select(\"class\").printSchema()"
   ]
  },
  {
   "cell_type": "code",
   "execution_count": null,
   "metadata": {},
   "outputs": [],
   "source": []
  }
 ],
 "metadata": {
  "kernelspec": {
   "display_name": "Python",
   "language": "python",
   "name": "conda-env-python-py"
  },
  "language_info": {
   "codemirror_mode": {
    "name": "ipython",
    "version": 3
   },
   "file_extension": ".py",
   "mimetype": "text/x-python",
   "name": "python",
   "nbconvert_exporter": "python",
   "pygments_lexer": "ipython3",
   "version": "3.6.10"
  }
 },
 "nbformat": 4,
 "nbformat_minor": 4
}
